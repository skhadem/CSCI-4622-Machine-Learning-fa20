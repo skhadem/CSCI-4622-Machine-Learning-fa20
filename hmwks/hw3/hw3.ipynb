{
 "cells": [
  {
   "cell_type": "markdown",
   "metadata": {
    "deletable": false,
    "editable": false,
    "nbgrader": {
     "cell_type": "markdown",
     "checksum": "1555b0f7089adc531e263ee7e759eaaf",
     "grade": false,
     "grade_id": "cell-82ae56686993b52b",
     "locked": true,
     "schema_version": 3,
     "solution": false,
     "task": false
    }
   },
   "source": [
    "# Homework 3: Neural Networks\n",
    "\n",
    "\n",
    "This assignment is due on Moodle by **11:59pm on Friday October 16**. \n",
    "Your solutions to theoretical questions should be done in Markdown/MathJax directly below the associated question.\n",
    "Your solutions to computational questions should include any specified Python code and results \n",
    "as well as written commentary on your conclusions.\n",
    "Remember that you are encouraged to discuss the problems with your instructors and classmates, \n",
    "but **you must write all code and solutions on your own**. For a refresher on the course **Collaboration Policy** click [here](https://github.com/BoulderDS/CSCI5622-Machine-Learning/blob/master/info/syllabus.md#collaboration-policy).\n",
    "\n",
    "\n",
    "**NOTES**: \n",
    "\n",
    "- Do **NOT** load or use any Python packages that are not available in Anaconda (Version: 2019.07) with Python 3.7. \n",
    "- Some problems with code may be autograded.  If we provide a function API **do not** change it.  If we do not provide a function API then you're free to structure your code however you like. \n",
    "- Submit only this Jupyter notebook to Moodle.  Do not compress it using tar, rar, zip, etc. \n",
    "- In this homework, we will use [PyTorch](https://pytorch.org/) and [PyTorch Lightning](https://pytorch-lightning.readthedocs.io/en/latest/introduction_guide.html) to implement a classifier. First upgrade your `pip` package manager to the latest version (Version >19.0). Then install the current stable release for [PyTorch](https://pytorch.org/get-started/locally/) (version: 1.6.0) as the backend for PyTorch Lightning. Then install [PyTorch Lighntning](https://pytorch-lightning.readthedocs.io/en/latest/introduction_guide.html) (version: 0.9.0).\n",
    "\n",
    "```\n",
    "pip install --upgrade pip\n",
    "\n",
    "pip install torch\n",
    "\n",
    "pip install pytorch-lightning\n",
    "\n",
    "```\n",
    "\n",
    "It is **highly recommended** you install the CPU-only version of PyTorch if your'e unfamiliar with the process of installing CUDA libraries for these packages. If you choose to install a GPU version, ensure you're code runs without GPU support.\n",
    "\n",
    "**Acknowledgment** : Chris Ketelsen"
   ]
  },
  {
   "cell_type": "markdown",
   "metadata": {
    "deletable": false,
    "editable": false,
    "nbgrader": {
     "cell_type": "markdown",
     "checksum": "f62b9cdc5976a4fe6367164755ad2ebf",
     "grade": false,
     "grade_id": "cell-c45699879b420760",
     "locked": true,
     "schema_version": 3,
     "solution": false,
     "task": false
    }
   },
   "source": [
    "**Please put your name and cuidentity username.**"
   ]
  },
  {
   "cell_type": "markdown",
   "metadata": {},
   "source": [
    "**Name**: Soroush Khadem"
   ]
  },
  {
   "cell_type": "markdown",
   "metadata": {},
   "source": [
    "**Identity Key**: sokh4726"
   ]
  },
  {
   "cell_type": "code",
   "execution_count": 3,
   "metadata": {},
   "outputs": [
    {
     "data": {
      "text/plain": "1234"
     },
     "execution_count": 3,
     "metadata": {},
     "output_type": "execute_result"
    }
   ],
   "source": [
    "import math\n",
    "import pickle\n",
    "import gzip\n",
    "import numpy as np\n",
    "import pandas\n",
    "import matplotlib.pylab as plt\n",
    "%matplotlib inline\n",
    "\n",
    "# Test PyTorch installation\n",
    "import torch \n",
    "import pytorch_lightning as pl\n",
    "\n",
    "pl.seed_everything(1234)"
   ]
  },
  {
   "cell_type": "markdown",
   "metadata": {
    "deletable": false,
    "editable": false,
    "nbgrader": {
     "cell_type": "markdown",
     "checksum": "6f61414c58e3b47da43407f606f8c4fa",
     "grade": false,
     "grade_id": "cell-d79b29ab197119c1",
     "locked": true,
     "schema_version": 3,
     "solution": false,
     "task": false
    }
   },
   "source": [
    "[20 points] Problem 1 - Single-Layer and Multilayer Perceptron Learning\n",
    "---\n",
    "\n",
    "### Part 1 [10 points] \n",
    "Consider learning the following concepts with either a single-layer or multilayer perceptron where all hidden and output neurons utilize the *indicator* activation functions. For each of the following concepts, state whether the concept can be learned by a single-layer perceptron. Briefly justify your response by providing weights, biases, and the *indicator* activation functions if applicable:\n",
    "\n",
    "- $\\; \\texttt{NOT } x_1$\n",
    "\n",
    "- $\\; x_1 \\texttt{ NAND } x_2$\n",
    "\n",
    "- $\\; x_1 \\texttt{ XNOR } x_2$ (output 1 when $x_1 = x_2$ and 0 otherwise)"
   ]
  },
  {
   "cell_type": "markdown",
   "metadata": {
    "collapsed": true,
    "deletable": false,
    "nbgrader": {
     "cell_type": "markdown",
     "checksum": "84fa84d70a98b9808ff01ecdd3ee6cfe",
     "grade": true,
     "grade_id": "cell-5504bb80827fe61b",
     "locked": false,
     "points": 10,
     "schema_version": 3,
     "solution": true
    }
   },
   "source": [
    "## NOT $x_1$\n",
    "Truth table:\n",
    "\n",
    "| $x_1$ | Out |\n",
    "|---|---|\n",
    "| 0 | 1 |\n",
    "| 1 | 0 |\n",
    "\n",
    "A single layer perceptron can learn the NOT function by simply setting $w_1$ to -2 and bias to 1. Thus, when a 0 is passed in, the output becomes just the bias (1) and when a 1 is passed in the output becomes $-2 + 1 = -1 \\rightarrow$ pred is 0.\n",
    "\n",
    "## $x_1$ NAND $x_2$\n",
    "Truth table:\n",
    "\n",
    "| $x_1$ | $x_2$ | Out |\n",
    "|---|---|---|\n",
    "| 0 | 0 | 1 |\n",
    "| 0 | 1 | 1 |\n",
    "| 1 | 0 | 1 |\n",
    "| 1 | 1 | 0 |\n",
    "$\\textbf{w} = (-1, -1)$, $b=1.5$\n",
    "\n",
    "## $x_1$ XNOR $x_2$\n",
    "Truth table:\n",
    "\n",
    "| $x_1$ | $x_2$ | Out |\n",
    "|---|---|---|\n",
    "| 0 | 0 | 1 |\n",
    "| 0 | 1 | 0 |\n",
    "| 1 | 0 | 0 |\n",
    "| 1 | 1 | 1 |\n",
    "\n",
    "Since the data is not linearly separable, a single layer perceptron cannot learn the XNOR function"
   ]
  },
  {
   "cell_type": "markdown",
   "metadata": {
    "deletable": false,
    "editable": false,
    "nbgrader": {
     "cell_type": "markdown",
     "checksum": "0fd9c3fb6ac9ef00ed423489764ccfdc",
     "grade": false,
     "grade_id": "cell-34216deb363900f5",
     "locked": true,
     "schema_version": 3,
     "solution": false,
     "task": false
    }
   },
   "source": [
    "### Part 2 [10 points] \n",
    "\n",
    "Determine an architecture and specific values of the weights and biases in a single-layer or multilayer perceptron with *indicator* activation functions that can learn $x_1 \\texttt{ XNOR } x_2$. Make a truth table of $x_1$, $x_2$, and $x_1 \\texttt{ XNOR } x_2$, describe your perceptron's architecture, and state your weight matrices and bias vectors in Markdown below. Then demonstrate that your solution is correct by implementing forward propagation for your network in Python and showing that it produces the correct boolean output values for each of the four possible combinations of $x_1$ and $x_2$."
   ]
  },
  {
   "cell_type": "markdown",
   "metadata": {
    "collapsed": true,
    "deletable": false,
    "nbgrader": {
     "cell_type": "markdown",
     "checksum": "3dd94f21437a23eceec230c4f66dd863",
     "grade": true,
     "grade_id": "cell-fd1e475a5ef92def",
     "locked": false,
     "points": 5,
     "schema_version": 3,
     "solution": true
    }
   },
   "source": [
    "$x_1 \\text{ XNOR } x_2 = (x_1 \\text{ AND } x_2) \\text{ OR } (x_1 \\text{ NOR } x_2)$\n",
    "\n",
    "Since we know how to combine perceptrons, we can chain together an AND, a NOR, and cobine with and OR:\n",
    "\n",
    "XNOR = OR(AND, NOR)\n",
    "\n",
    "\n",
    "\n",
    "| $x_1$ | $x_2$ | Out |\n",
    "|---|---|---|\n",
    "| 0 | 0 | 1 |\n",
    "| 0 | 1 | 0 |\n",
    "| 1 | 0 | 0 |\n",
    "| 1 | 1 | 1 |\n",
    "\n",
    "$\\textbf{W}^1 =\\begin{bmatrix}\n",
    "1 & 1 \\\\\n",
    "-1 & -1 \n",
    "\\end{bmatrix}$,\n",
    "$b^1=\\begin{bmatrix}\n",
    "-1.5\\\\\n",
    "0.5 \n",
    "\\end{bmatrix}$\n",
    "\n",
    "$\\textbf{W}^2=\\begin{bmatrix}\n",
    "1\\\\\n",
    "1 \n",
    "\\end{bmatrix}$, $b^2 = -0.5$\n",
    "\n",
    "Testing on $x_1 = 1$, $x_2 = 1$:\n",
    "\n",
    "$h_1 = W^1_{11} * x_1 + W^1_{12} * x_2 + b^1_{1} = 1 * 1 + 1 * 1 - 1.5 = 0.5 \\rightarrow$ activate to 1\n",
    "\n",
    "$h_1 = W^1_{21} * x_1 + W^1_{22} * x_2 + b^1_{2} = 1 * -1 + 1 * -1 + 0.5 = -1.5 \\rightarrow$ activate to 0\n",
    "\n",
    "$o_1 = W^2_{1} * h_1 + W^2_{2} * h_2 + b^2 = 1 * 1 + 0 * 1 - 0.5 = 0.5 \\rightarrow$ pred 1\n"
   ]
  },
  {
   "cell_type": "code",
   "execution_count": 4,
   "metadata": {},
   "outputs": [],
   "source": [
    "# YOUR CODE HERE\n",
    "class XNORPerceptron:\n",
    "    def __init__(self):\n",
    "        # Hard code the weights and biases\n",
    "        self.Ws = [np.array([[1, 1], [-1, -1]]), np.array([1, 1])]\n",
    "        self.bs = [np.array([-1.5, 0.5]), np.array([-0.5])]\n",
    "    \n",
    "    def __call__(self, x1, x2):\n",
    "        # Initialize hidden layer to the input\n",
    "        hs = [np.array([x1, x2])]\n",
    "        # Loop through weights and biases for hidden layers (all but last)\n",
    "        for W, b in zip(self.Ws[:-1], self.bs[:-1]):\n",
    "            hs.append(self.activate(np.dot(np.array([x1, x2]), W.T) + b))\n",
    "\n",
    "        # Apply final params to final hidden layer to get output\n",
    "        return self.activate(np.dot(self.Ws[-1].T, hs[-1]) + self.bs[-1])[0]\n",
    "\n",
    "    def activate(self, input):\n",
    "        # Simply saturate the negative to 0, positive to 1\n",
    "        saturate = np.vectorize(lambda x : 1 if x >= 0 else 0)\n",
    "        return saturate(input)\n",
    "\n",
    "xnor = XNORPerceptron()\n",
    "assert xnor(1, 1) == 1\n",
    "assert xnor(1, 0) == 0\n",
    "assert xnor(0, 1) == 0\n",
    "assert xnor(0, 0) == 1"
   ]
  },
  {
   "cell_type": "markdown",
   "metadata": {
    "deletable": false,
    "editable": false,
    "nbgrader": {
     "cell_type": "markdown",
     "checksum": "d9331334251af83bcd546a096b90eac7",
     "grade": false,
     "grade_id": "cell-410d0399fa830fab",
     "locked": true,
     "schema_version": 3,
     "solution": false,
     "task": false
    }
   },
   "source": [
    "[25 points] Problem 2 - Back propagation\n",
    "---\n",
    "\n",
    "In this problem you will gain some intuition about why training deep neural networks can be very time consuming.  Consider training a chain-like neural network: \n",
    "\n",
    "![chain-like nn](figs/chain_net.png)\n",
    "\n",
    "Note that this network has three weights $W^1, W^2, W^3$ and three biases $b^1, b^2,$ and $b^3$ (for this problem you can think of each parameter as a single value or as a $1 \\times 1$ matrix). Suppose that each hidden and output neuron is equipped with a sigmoid activation function and the loss function is given by \n",
    "\n",
    "$$\n",
    "\\ell(y, a^4) = \\frac{1}{2}(y - a^4)^2  \n",
    "$$\n",
    "\n",
    "where $a^4$ is the value of the activation at the output neuron and $y \\in \\{0,1\\}$ is the true label associated with the training example. "
   ]
  },
  {
   "cell_type": "markdown",
   "metadata": {
    "deletable": false,
    "editable": false,
    "nbgrader": {
     "cell_type": "markdown",
     "checksum": "c8c9f47b89404edf8e682707be900291",
     "grade": false,
     "grade_id": "cell-4337ff6b53b1760a",
     "locked": true,
     "schema_version": 3,
     "solution": false,
     "task": false
    }
   },
   "source": [
    "### Part 1 [5 points]\n",
    "Suppose each of the weights is initialized to $W^k = 1.0$ and each bias is initialized to $b^k = -0.5$.  Use forward propagation to find the activities and activations associated with each hidden and output neuron for the training example $(x, y) = (0.5,0)$. Show your work. "
   ]
  },
  {
   "cell_type": "markdown",
   "metadata": {
    "collapsed": true,
    "deletable": false,
    "nbgrader": {
     "cell_type": "markdown",
     "checksum": "5ed8ae08caeac509ef436f5d18c8223c",
     "grade": true,
     "grade_id": "cell-6512c42fc5e9ce1b",
     "locked": false,
     "points": 5,
     "schema_version": 3,
     "solution": true
    }
   },
   "source": [
    "$a^1 = \\sigma(W^1 * x + b^1) = \\sigma(1*0.5 - 0.5) = 0.5$\n",
    "\n",
    "$a^2 = \\sigma(W^2 * a^1 + b^2) = \\sigma(1*0.5 - 0.5) = 0.5$\n",
    "\n",
    "$a^3 = \\sigma(W^3 * a^2 + b^3) = \\sigma(1*0.5 - 0.5) = 0.5$\n",
    "\n",
    "$a^4 = \\sigma(W^4 * a^3 + b^4) = \\sigma(1*0.5 - 0.5) = 0.5$\n",
    "\n",
    "\n"
   ]
  },
  {
   "cell_type": "markdown",
   "metadata": {
    "deletable": false,
    "editable": false,
    "nbgrader": {
     "cell_type": "markdown",
     "checksum": "a30f5d6c6d44bf28c59d9456bd916e2d",
     "grade": false,
     "grade_id": "cell-77928f9f19f6876f",
     "locked": true,
     "schema_version": 3,
     "solution": false,
     "task": false
    }
   },
   "source": [
    "### Part 2 [5 points]:\n",
    "Use Back-Propagation to compute the weight and bias derivatives $\\partial \\ell / \\partial W^k$ and $\\partial \\ell / \\partial b^k$ for $k=1, 2, 3$.  Show all work. "
   ]
  },
  {
   "cell_type": "markdown",
   "metadata": {
    "collapsed": true,
    "deletable": false,
    "nbgrader": {
     "cell_type": "markdown",
     "checksum": "d95b2a0dc16f45336d915205d119763a",
     "grade": true,
     "grade_id": "cell-6a3b895fa888e925",
     "locked": false,
     "points": 5,
     "schema_version": 3,
     "solution": true
    }
   },
   "source": [
    "Let $z^l$ be the output of a layer of neurons before activation. i.e. $a^l = \\sigma(z^l)$. Define $\\delta^l$ to be the derivative of this output. For any layer, $l$:\n",
    "\n",
    "$\\delta^l = \\frac{\\partial\\ell}{\\partial z^l}$. Use chain rule: $= \\frac{\\partial\\ell}{\\partial a^l}\\frac{da^l}{dz^l}$. Plug in derivative of the activation function $= \\frac{\\partial\\ell}{\\partial a^l}\\sigma'(z^l)$. \n",
    "\n",
    "Note that for the last layer, we can use the cost function and defintion of the derivative of sigmoid to write: \n",
    "$\\delta^4 =(a^4 - y) * \\sigma(z^4) * (1 - \\sigma(z^4))$\n",
    "\n",
    "But, we are really after the loss w.r.t. the weights ($\\frac{\\partial\\ell}{\\partial W^l}$):\n",
    "\n",
    "$\\frac{\\partial\\ell}{\\partial W^l} = \\frac{\\partial\\ell}{\\partial z^l} \\frac{\\partial z^l}{\\partial W^l}$. So we need to compute the derivative of $z$ w.r.t. the weights. Since $z^l = W^l a^{l-1} + b^l$, $\\frac{\\partial z^l}{\\partial W^l} = a^{l-1}$. So, $\\frac{\\partial\\ell}{\\partial W^3} = a^{l-1}\\delta^l$ \n",
    "\n",
    "Similarly, $\\frac{\\partial\\ell}{\\partial b^l} = \\frac{\\partial\\ell}{\\partial z^l} \\frac{\\partial z^l}{\\partial b^l}$. So, $\\frac{\\partial\\ell}{\\partial b^l} = \\delta^l$\n",
    "\n",
    "We now have formulae to use for the derivatives of any layer. In order to compute these, first build up partial derivatives w.r.t. $z$, working backwards from $a^4 and z^4$, the output value:\n",
    "\n",
    "$\\delta^4 = (y - a^4) * \\sigma(z^4) * (1 - \\sigma(z^4))$\n",
    "\n",
    "$\\delta^3 = \\delta^4 * W^3 * \\sigma(z^3) * (1 - \\sigma(z^3))$\n",
    "\n",
    "$\\delta^2 = \\delta^3 * W^2 * \\sigma(z^2) * (1 - \\sigma(z^2))$\n",
    "\n",
    "$\\delta^1 = \\delta^2 * W^1 * \\sigma(z^1) * (1 - \\sigma(z^1))$\n",
    "\n",
    "Now, can write down parital derivatives w.r.t. wieghts and biases:\n",
    "\n",
    "$\\partial \\ell / \\partial W^1 = \\delta^1 * x$, $\\partial \\ell / \\partial b^1 = \\delta^1$\n",
    "\n",
    "$\\partial \\ell / \\partial W^2 = \\delta^2 * a^1$, $\\partial \\ell / \\partial b^2 = \\delta^2$\n",
    "\n",
    "$\\partial \\ell / \\partial W^3 = \\delta^3 * a^2$, $\\partial \\ell / \\partial b^3 = \\delta^3$\n"
   ]
  },
  {
   "cell_type": "markdown",
   "metadata": {
    "deletable": false,
    "editable": false,
    "nbgrader": {
     "cell_type": "markdown",
     "checksum": "768509621e57448e39d97e333e719201",
     "grade": false,
     "grade_id": "cell-161b07ac7c31e3c3",
     "locked": true,
     "schema_version": 3,
     "solution": false,
     "task": false
    }
   },
   "source": [
    "### Part 3 [5 points]\n",
    "Implement the following activation functions in NumPy:\n",
    "* ReLU\n",
    "* Sigmoid\n",
    "* softmax\n",
    "Please **do not use any other external libraries** for this such as sklearn."
   ]
  },
  {
   "cell_type": "code",
   "execution_count": 5,
   "metadata": {},
   "outputs": [],
   "source": [
    "def relu(x):\n",
    "    # YOUR CODE HERE\n",
    "    return x if x > 0 else 0\n",
    "\n",
    "def sigmoid(x):\n",
    "    # YOUR CODE HERE\n",
    "    return 1 / (1 + np.exp(-x))\n",
    "\n",
    "def softmax(x):\n",
    "    # YOUR CODE HERE\n",
    "    return x / np.sum(np.exp(x))"
   ]
  },
  {
   "cell_type": "code",
   "execution_count": 6,
   "metadata": {},
   "outputs": [
    {
     "name": "stderr",
     "output_type": "stream",
     "text": "TestRelu (tests.tests.TestActiv) ...ok\nTestSigmoid (tests.tests.TestActiv) ...ok\nTestSoftmax (tests.tests.TestActiv) ...ok\n\n----------------------------------------------------------------------\nRan 3 tests in 0.005s\n\nOK\n"
    }
   ],
   "source": [
    "# random tests for checking your impementation.\n",
    "from tests import tests\n",
    "tests.run_test_suite('prob 2.3', (relu, sigmoid, softmax))"
   ]
  },
  {
   "cell_type": "markdown",
   "metadata": {
    "deletable": false,
    "editable": false,
    "nbgrader": {
     "cell_type": "markdown",
     "checksum": "a185c9a75c41d12ed1c797a0592301a9",
     "grade": false,
     "grade_id": "cell-f97c1b3bf8c79803",
     "locked": true,
     "schema_version": 3,
     "solution": false,
     "task": false
    }
   },
   "source": [
    "### Part 4 [5 points] \n",
    "Implement the following Loss functions in NumPy:\n",
    "* mean squared error\n",
    "* mean absolute error\n",
    "* hinge\n",
    "\n",
    "Please **do not use any other external libraries** for this such as sklearn."
   ]
  },
  {
   "cell_type": "code",
   "execution_count": 7,
   "metadata": {},
   "outputs": [],
   "source": [
    "def mean_squared_error(yhat, y):\n",
    "    # YOUR CODE HERE\n",
    "    return np.mean(np.square(yhat - y))\n",
    "    \n",
    "def mean_absolute_error(yhat, y):\n",
    "    # YOUR CODE HERE\n",
    "    return np.mean(np.abs(yhat - y))\n",
    "\n",
    "def hinge(yhat, y):\n",
    "    # YOUR CODE HERE\n",
    "    return np.mean(np.maximum(0, 1 - (y * yhat)))"
   ]
  },
  {
   "cell_type": "code",
   "execution_count": 8,
   "metadata": {},
   "outputs": [
    {
     "name": "stderr",
     "output_type": "stream",
     "text": "TestMSE (tests.tests.TestLoss) ...ok\nTestMAE (tests.tests.TestLoss) ...ok\nTestHinge (tests.tests.TestLoss) ...ok\n\n----------------------------------------------------------------------\nRan 3 tests in 0.298s\n\nOK\n"
    }
   ],
   "source": [
    "# random tests for checking your impementation.\n",
    "from tests import tests\n",
    "tests.run_test_suite('prob 2.4', (mean_squared_error, mean_absolute_error, hinge))"
   ]
  },
  {
   "cell_type": "markdown",
   "metadata": {
    "deletable": false,
    "editable": false,
    "nbgrader": {
     "cell_type": "markdown",
     "checksum": "406a8e23787fe614a2489ada61b0cdbb",
     "grade": false,
     "grade_id": "cell-e4c6962049a18e97",
     "locked": true,
     "schema_version": 3,
     "solution": false,
     "task": false
    }
   },
   "source": [
    "### Part 5 [5 points]\n",
    "Explain the vanishing gradient problem. When would you observe this? Give an example."
   ]
  },
  {
   "cell_type": "markdown",
   "metadata": {
    "collapsed": true,
    "deletable": false,
    "nbgrader": {
     "cell_type": "markdown",
     "checksum": "550c7233d3dc395aa4965b23ce1126a4",
     "grade": true,
     "grade_id": "cell-59ccf91056b5d8bb",
     "locked": false,
     "points": 5,
     "schema_version": 3,
     "solution": true
    }
   },
   "source": [
    "The vanishing gradient problem is when the derivatives of the loss with respect to the weights gets so small that the weights practically do not change each update, essentially getting stuck. For example, when using a sigmoid activation, the gradient is typically less than the maximum value, and when multiplied with the gradient of the layer in front of it (since we are doing backpropagation) it gets even smaller, and so on for each layer. This can be solved by using an activation such as ReLu, so the gradient is much nicer."
   ]
  },
  {
   "cell_type": "markdown",
   "metadata": {
    "deletable": false,
    "editable": false,
    "nbgrader": {
     "cell_type": "markdown",
     "checksum": "80c63b94db61c0e3c652b020a8cc1ff8",
     "grade": false,
     "grade_id": "cell-85519893ca971e10",
     "locked": true,
     "schema_version": 3,
     "solution": false,
     "task": false
    }
   },
   "source": [
    "[23 Points] Problem 3 - Build a feedforward neural network in NumPy\n",
    "---\n",
    "\n",
    "In this problem you will implement a class representing a general feed-forward neural network that utilizes the sigmoid activation functions. Your tasks will be to implement forward propagation, prediction, back propagation, and a general train routine to learn the weights in your network via stochastic gradient descent.\n",
    "\n",
    "The skeleton for the network class is below. Note that this class is almost identical to the one you worked with in the \"hands-on neural network\" in-class notebook, so you should look at there to remind yourself of the details. Scroll down to find more information about your tasks as well as unit tests. As with the previous problem, nothing in this problem should use any external libraries apart from numpy. "
   ]
  },
  {
   "cell_type": "code",
   "execution_count": 9,
   "metadata": {},
   "outputs": [],
   "source": [
    "import argparse\n",
    "import numpy as np\n",
    "import pickle\n",
    "import gzip\n",
    "import matplotlib.pyplot as plt\n",
    "\n",
    "\n",
    "class Network:\n",
    "    def __init__(self, sizes, keep_prob=-1):\n",
    "        self.L = len(sizes)\n",
    "        self.sizes = sizes\n",
    "        self.biases = [np.random.randn(n, 1) for n in self.sizes[1:]]\n",
    "        self.weights = [np.random.randn(n, m) for (\n",
    "            m, n) in zip(self.sizes[:-1], self.sizes[1:])]\n",
    "        self.keep_prob = keep_prob\n",
    "        self.acc_train_array = []\n",
    "        self.acc_test_array = []\n",
    "\n",
    "    def g(self, z):\n",
    "        \"\"\"\n",
    "        activation function\n",
    "        \"\"\"\n",
    "        return sigmoid(z)\n",
    "\n",
    "    def g_prime(self, z):\n",
    "        \"\"\"\n",
    "        derivative of activation function\n",
    "        \"\"\"\n",
    "        return sigmoid_prime(z)\n",
    "\n",
    "    def forward_prop(self, a):\n",
    "        \"\"\"\n",
    "        memory aware forward propagation for testing\n",
    "        only.  back_prop implements it's own forward_prop\n",
    "        \"\"\"\n",
    "        a_list = [np.zeros((n, 1)) for n in self.sizes]\n",
    "        a_list[0] = a\n",
    "        z_list = [np.zeros((n, 1)) for n in self.sizes]\n",
    "\n",
    "        # Loop over layers and compute activities and activations \n",
    "        for l in range(self.L - 1):\n",
    "            a = self.g(np.dot(self.weights[l], a) + self.biases[l])\n",
    "\n",
    "        return a\n",
    "\n",
    "\n",
    "    def grad_cost(self, a, y):\n",
    "        \"\"\"\n",
    "        gradient of cost function\n",
    "        Assumes C(a,y) = (a-y)^2/2\n",
    "        \"\"\"\n",
    "        return (a - y)\n",
    "    \n",
    "    def log_train_progress(self, train, test, epoch):\n",
    "        \"\"\" Logs training progres. \n",
    "        \"\"\"\n",
    "        acc_train = self.evaluate(train)\n",
    "        self.acc_train_array.append(acc_train)\n",
    "        if test is not None:\n",
    "            acc_test = self.evaluate(test)\n",
    "            self.acc_test_array.append(acc_test)\n",
    "            print(\"Epoch {:4d}: Train {:10.5f}, Test {:10.5f}\".format(\n",
    "                epoch+1, acc_train, acc_test))\n",
    "        else:\n",
    "            print(\"Epoch {:4d}: Train {:10.5f}\".format(\n",
    "                epoch+1, acc_train))\n",
    "            \n",
    "\n",
    "    def SGD_train(self, train, epochs, eta, lam=0.0, verbose=True, test=None):\n",
    "        \"\"\"\n",
    "        SGD for training parameters\n",
    "        epochs is the number of epocs to run\n",
    "        eta is the learning rate\n",
    "        lam is the regularization parameter\n",
    "        If verbose is set will print progressive accuracy updates\n",
    "        If test set is provided, routine will print accuracy on test set as learning evolves\n",
    "        \"\"\"\n",
    "        n_train = len(train)\n",
    "        for epoch in range(epochs):\n",
    "            perm = np.random.permutation(n_train)\n",
    "            for kk in range(n_train):\n",
    "                self.SGD_step(*train[perm[kk]], eta, lam)\n",
    "            if verbose and epoch == 0 or (epoch + 1) % 20 == 0:\n",
    "                self.log_train_progress(train, test, epoch)\n",
    "    \n",
    "    def SGD_step(self, x, y, eta, lam):\n",
    "        \"\"\"\n",
    "        TODO: get gradients with x, y and do SGD on weights and biases\n",
    "\n",
    "        Args:\n",
    "            x: single sample features.\n",
    "            y: single sample target.\n",
    "            eta: learning rate.\n",
    "            lam: Regularization parameter.\n",
    "                \n",
    "        \"\"\"\n",
    "        # TODO: get gradients with xk, yk and do SGD on weights and biases\n",
    "        # YOUR CODE HERE\n",
    "        if self.keep_prob == -1:\n",
    "            dW_list, db_list = self.back_prop(x, y)\n",
    "        else:\n",
    "            dW_list, db_list = self.back_prop_dropout(x, y)\n",
    "\n",
    "        for l in range(self.L - 1):\n",
    "            self.weights[l] -= (eta * (dW_list[l] + lam * self.weights[l]))\n",
    "            self.biases[l] -= (eta * db_list[l])\n",
    "\n",
    "\n",
    "    def back_prop(self, x, y):\n",
    "        \"\"\"\n",
    "        Back propagation for derivatives of C wrt parameters\n",
    "        \"\"\"\n",
    "        db_list = [np.zeros(b.shape) for b in self.biases]\n",
    "        dW_list = [np.zeros(W.shape) for W in self.weights]\n",
    "        \n",
    "        a = x\n",
    "        a_list = [a]\n",
    "        z_list = [np.zeros(a.shape)]  # Pad with a placeholder so that indices match\n",
    "\n",
    "        for W, b in zip(self.weights, self.biases):\n",
    "            z = np.dot(W, a) + b\n",
    "            z_list.append(z)\n",
    "            a = self.g(z)\n",
    "            a_list.append(a)\n",
    "\n",
    "        # Back propagate deltas to compute derivatives\n",
    "        # The following list gives hints on how to do it\n",
    "        # calculating delta (Error) for the output layer\n",
    "        # for the appropriate layers compute db_list[ell], dW_list[ell], delta\n",
    "\n",
    "        delta = [np.zeros((n,1)) for n in self.sizes]\n",
    "        delta[self.L - 1] = self.grad_cost(a_list[self.L - 1], y) * self.g_prime(z_list[self.L - 1])\n",
    "\n",
    "        for l in range(self.L - 2, -1, -1):\n",
    "            dW_list[l] = np.dot(delta[l + 1], a_list[l].T)\n",
    "            db_list[l] = delta[l + 1]\n",
    "            delta[l] = np.dot(self.weights[l].T, delta[l + 1]) * self.g_prime(z_list[l])\n",
    "\n",
    "        return (dW_list, db_list)\n",
    "    \n",
    "    def back_prop_dropout(self, x, y):\n",
    "        \"\"\"\n",
    "        Back propagation with dropout on the hidden layers other than the output layer.\n",
    "        \n",
    "        Dropout layer can be thought of as a special linear layer between layers.\n",
    "        \"\"\"\n",
    "        db_list = [np.zeros(b.shape) for b in self.biases]\n",
    "        dW_list = [np.zeros(W.shape) for W in self.weights]\n",
    "        # dropouts.append(np.ones())\n",
    "        \n",
    "        a = x\n",
    "        a_list = [a]\n",
    "        z_list = [np.zeros(a.shape)]  # Pad with a placeholder so that indices match\n",
    "        # TODO: implement dropout using self.keep_prob\n",
    "        # YOUR CODE HERE\n",
    "        # Setup binary mask of dropouts for each layer. Note we divide by the probability to keep the expectation of\n",
    "        # the prediciton pass the same\n",
    "        dropouts = [(np.random.rand(num_neurons, 1) < self.keep_prob).astype(float) / self.keep_prob for num_neurons in self.sizes[1:]]\n",
    "        \n",
    "        for W, b, dropout in zip(self.weights, self.biases, dropouts):\n",
    "            z = np.dot(W, a) + b\n",
    "            z_list.append(z)\n",
    "            a = self.g(z)\n",
    "            a *= dropout\n",
    "            a_list.append(a)\n",
    "        \n",
    "        delta = [np.zeros((n,1)) for n in self.sizes]\n",
    "        delta[self.L - 1] = self.grad_cost(a_list[self.L - 1], y) * self.g_prime(z_list[self.L - 1])\n",
    "\n",
    "        # Pas with 1s to make the shape match. (dropout has no effect on the input)        \n",
    "        dropouts.insert(0, np.ones(a_list[0].shape))\n",
    "\n",
    "        for l in range(self.L - 2, -1, -1):\n",
    "            dW_list[l] = np.dot(delta[l + 1], a_list[l].T)\n",
    "            db_list[l] = delta[l + 1]\n",
    "            # Turn off same nodes that were dropped out\n",
    "            delta[l] = np.dot(self.weights[l].T, delta[l + 1]) * self.g_prime(z_list[l]) * dropouts[l]\n",
    "\n",
    "        return (dW_list, db_list)\n",
    "\n",
    "    def evaluate(self, test):\n",
    "        \"\"\"\n",
    "        Evaluate current model on labeled test data\n",
    "        \"\"\"\n",
    "        ctr = 0\n",
    "        for x, y in test:\n",
    "            yhat = self.forward_prop(x)\n",
    "            ctr += yhat.argmax() == y.argmax()\n",
    "        return float(ctr) / float(len(test))\n",
    "\n",
    "\n",
    "def sigmoid(z, threshold=20):\n",
    "    z = np.clip(z, -threshold, threshold)\n",
    "    return 1.0 / (1.0 + np.exp(-z))\n",
    "\n",
    "\n",
    "def sigmoid_prime(z):\n",
    "    return sigmoid(z) * (1.0 - sigmoid(z))\n",
    "\n",
    "\n",
    "def mnist_digit_show(flatimage, outname=None):\n",
    "\n",
    "    import matplotlib.pyplot as plt\n",
    "\n",
    "    image = np.reshape(flatimage, (-1, 14))\n",
    "\n",
    "    plt.matshow(image, cmap=plt.cm.binary)\n",
    "    plt.xticks([])\n",
    "    plt.yticks([])\n",
    "    if outname:\n",
    "        plt.savefig(outname)\n",
    "    else:\n",
    "        plt.show()"
   ]
  },
  {
   "cell_type": "markdown",
   "metadata": {
    "deletable": false,
    "editable": false,
    "nbgrader": {
     "cell_type": "markdown",
     "checksum": "6ffe07da5b07c9f579a0ce82b68ec614",
     "grade": false,
     "grade_id": "cell-7eed131bbb859104",
     "locked": true,
     "schema_version": 3,
     "solution": false,
     "task": false
    }
   },
   "source": [
    "### Part 1 [15 points]\n",
    "Implement `SGD_step`, `back_prop`, and `forward_prop`. Use the following test cases to verify if the code is working as expected."
   ]
  },
  {
   "cell_type": "code",
   "execution_count": 10,
   "metadata": {},
   "outputs": [
    {
     "name": "stderr",
     "output_type": "stream",
     "text": "TestBackPropWithoutRegularization (tests.tests.TestNetwork) ...ok\nTestBackPropWithRegularization (tests.tests.TestNetwork) ...ok\n\n----------------------------------------------------------------------\nRan 2 tests in 0.445s\n\nOK\n"
    }
   ],
   "source": [
    "from tests import tests\n",
    "tests.run_test_suite('prob 3', Network)"
   ]
  },
  {
   "cell_type": "markdown",
   "metadata": {
    "deletable": false,
    "editable": false,
    "nbgrader": {
     "cell_type": "markdown",
     "checksum": "25edf8e016e56588ee1d7b22ce93a10b",
     "grade": false,
     "grade_id": "cell-3a21b0c7d363da0d",
     "locked": true,
     "schema_version": 3,
     "solution": false,
     "task": false
    }
   },
   "source": [
    "### Part 2 [8 points]\n",
    "\n",
    "Run the above Network on MNIST Dataset and report the following (feel free to experiment with different learning rates).\n",
    "\n",
    "* Change the hidden layer dimensions and experiment with these values: [5, 10, 20].\n",
    "* Plot accuracies of different hidden layer dimensions vs. epochs for both training and testing.\n",
    "* Explain the effect of hidden layer dimension on performance. \n",
    "\n",
    "**Note:** Accuracies are stored in `self.acc_train_array` and `self.acc_test_array` if `verbose` is `True`."
   ]
  },
  {
   "cell_type": "code",
   "execution_count": 11,
   "metadata": {},
   "outputs": [
    {
     "name": "stdout",
     "output_type": "stream",
     "text": "Number of Input Features:  196\nNumber of Output classes:  10\n\nHidden Layer Dimensions:  5\nEpoch    1: Train    0.15726, Test    0.16567\nEpoch   20: Train    0.81753, Test    0.73349\nEpoch   40: Train    0.87635, Test    0.79392\nEpoch   60: Train    0.88756, Test    0.79832\nEpoch   80: Train    0.88956, Test    0.80152\nEpoch  100: Train    0.89116, Test    0.79952\nEpoch  120: Train    0.89836, Test    0.80072\nEpoch  140: Train    0.89476, Test    0.79472\nEpoch  160: Train    0.89156, Test    0.80112\nEpoch  180: Train    0.89636, Test    0.79752\nEpoch  200: Train    0.90036, Test    0.79952\n\nHidden Layer Dimensions:  10\nEpoch    1: Train    0.26371, Test    0.26371\nEpoch   20: Train    0.90996, Test    0.83954\nEpoch   40: Train    0.93637, Test    0.85914\nEpoch   60: Train    0.94078, Test    0.86435\nEpoch   80: Train    0.94638, Test    0.86234\nEpoch  100: Train    0.94478, Test    0.86234\nEpoch  120: Train    0.94838, Test    0.86154\nEpoch  140: Train    0.94838, Test    0.86795\nEpoch  160: Train    0.95238, Test    0.86635\nEpoch  180: Train    0.94838, Test    0.86715\nEpoch  200: Train    0.94718, Test    0.86515\n\nHidden Layer Dimensions:  20\nEpoch    1: Train    0.46339, Test    0.37615\nEpoch   20: Train    0.92037, Test    0.84834\nEpoch   40: Train    0.94118, Test    0.86675\nEpoch   60: Train    0.95078, Test    0.87475\nEpoch   80: Train    0.95598, Test    0.87115\nEpoch  100: Train    0.95518, Test    0.87515\nEpoch  120: Train    0.95998, Test    0.88275\nEpoch  140: Train    0.96158, Test    0.87835\nEpoch  160: Train    0.96038, Test    0.88355\nEpoch  180: Train    0.96238, Test    0.88035\nEpoch  200: Train    0.96359, Test    0.88275\n"
    }
   ],
   "source": [
    "location = './data/tinyMNIST.pkl.gz'\n",
    "f = gzip.open(location, 'rb')\n",
    "u = pickle._Unpickler(f)\n",
    "u.encoding = 'latin1'\n",
    "train, test = u.load()\n",
    "input_dimensions = len(train[0][0])\n",
    "output_dimensions = len(train[0][1])\n",
    "print('Number of Input Features: ', input_dimensions)\n",
    "print('Number of Output classes: ', output_dimensions)\n",
    "\n",
    "nns = []\n",
    "for hidden_layer_dimensions in [5, 10, 20]:\n",
    "    print('\\nHidden Layer Dimensions: ', hidden_layer_dimensions)\n",
    "    nn = Network([input_dimensions, hidden_layer_dimensions, output_dimensions])\n",
    "    nns.append(nn)\n",
    "    nn.SGD_train(train, epochs=200, eta=0.1, lam=0.0001, verbose=True, test=test)"
   ]
  },
  {
   "cell_type": "markdown",
   "metadata": {
    "deletable": false,
    "editable": false,
    "nbgrader": {
     "cell_type": "markdown",
     "checksum": "f93da7a1fb1a534fdba7fccbcacef6c2",
     "grade": false,
     "grade_id": "cell-3a4d12fce7f9f7c0",
     "locked": true,
     "schema_version": 3,
     "solution": false,
     "task": false
    }
   },
   "source": [
    "Plot training and testing accuracies below for each configuration. Use solid lines for testing accuracy, and dotted lines for train accuracy (`ls='dashed`). \n",
    "\n",
    "Be sure to label your lines and match colors accordingly."
   ]
  },
  {
   "cell_type": "code",
   "execution_count": 12,
   "metadata": {},
   "outputs": [
    {
     "data": {
      "image/png": "[encoded data removed]",
      "image/svg+xml": "<?xml version=\"1.0\" encoding=\"utf-8\" standalone=\"no\"?>\r\n<!DOCTYPE svg PUBLIC \"-//W3C//DTD SVG 1.1//EN\"\r\n  \"http://www.w3.org/Graphics/SVG/1.1/DTD/svg11.dtd\">\r\n<!-- Created with matplotlib (http://matplotlib.org/) -->\r\n<svg height=\"597.663125pt\" version=\"1.1\" viewBox=\"0 0 1176.288125 597.663125\" width=\"1176.288125pt\" xmlns=\"http://www.w3.org/2000/svg\" xmlns:xlink=\"http://www.w3.org/1999/xlink\">\r\n <defs>\r\n  <style type=\"text/css\">\r\n*{stroke-linecap:butt;stroke-linejoin:round;}\r\n  </style>\r\n </defs>\r\n <g id=\"figure_1\">\r\n  <g id=\"patch_1\">\r\n   <path d=\"M 0 597.663125 \r\nL 1176.288125 597.663125 \r\nL 1176.288125 0 \r\nL 0 0 \r\nz\r\n\" style=\"fill:none;\"/>\r\n  </g>\r\n  <g id=\"axes_1\">\r\n   <g id=\"patch_2\">\r\n    <path d=\"M 49.588125 554.3 \r\nL 1165.588125 554.3 \r\nL 1165.588125 10.7 \r\nL 49.588125 10.7 \r\nz\r\n\" style=\"fill:#ffffff;\"/>\r\n   </g>\r\n   <g id=\"matplotlib.axis_1\">\r\n    <g id=\"xtick_1\">\r\n     <g id=\"line2d_1\">\r\n      <defs>\r\n       <path d=\"M 0 0 \r\nL 0 3.5 \r\n\" id=\"mcf052cfb49\" style=\"stroke:#000000;stroke-width:0.8;\"/>\r\n      </defs>\r\n      <g>\r\n       <use style=\"stroke:#000000;stroke-width:0.8;\" x=\"95.24267\" xlink:href=\"#mcf052cfb49\" y=\"554.3\"/>\r\n      </g>\r\n     </g>\r\n     <g id=\"text_1\">\r\n      <!-- 0 -->\r\n      <defs>\r\n       <path d=\"M 31.78125 66.40625 \r\nQ 24.171875 66.40625 20.328125 58.90625 \r\nQ 16.5 51.421875 16.5 36.375 \r\nQ 16.5 21.390625 20.328125 13.890625 \r\nQ 24.171875 6.390625 31.78125 6.390625 \r\nQ 39.453125 6.390625 43.28125 13.890625 \r\nQ 47.125 21.390625 47.125 36.375 \r\nQ 47.125 51.421875 43.28125 58.90625 \r\nQ 39.453125 66.40625 31.78125 66.40625 \r\nz\r\nM 31.78125 74.21875 \r\nQ 44.046875 74.21875 50.515625 64.515625 \r\nQ 56.984375 54.828125 56.984375 36.375 \r\nQ 56.984375 17.96875 50.515625 8.265625 \r\nQ 44.046875 -1.421875 31.78125 -1.421875 \r\nQ 19.53125 -1.421875 13.0625 8.265625 \r\nQ 6.59375 17.96875 6.59375 36.375 \r\nQ 6.59375 54.828125 13.0625 64.515625 \r\nQ 19.53125 74.21875 31.78125 74.21875 \r\nz\r\n\" id=\"DejaVuSans-30\"/>\r\n      </defs>\r\n      <g transform=\"translate(92.06142 568.898437)scale(0.1 -0.1)\">\r\n       <use xlink:href=\"#DejaVuSans-30\"/>\r\n      </g>\r\n     </g>\r\n    </g>\r\n    <g id=\"xtick_2\">\r\n     <g id=\"line2d_2\">\r\n      <g>\r\n       <use style=\"stroke:#000000;stroke-width:0.8;\" x=\"222.060852\" xlink:href=\"#mcf052cfb49\" y=\"554.3\"/>\r\n      </g>\r\n     </g>\r\n     <g id=\"text_2\">\r\n      <!-- 25 -->\r\n      <defs>\r\n       <path d=\"M 19.1875 8.296875 \r\nL 53.609375 8.296875 \r\nL 53.609375 0 \r\nL 7.328125 0 \r\nL 7.328125 8.296875 \r\nQ 12.9375 14.109375 22.625 23.890625 \r\nQ 32.328125 33.6875 34.8125 36.53125 \r\nQ 39.546875 41.84375 41.421875 45.53125 \r\nQ 43.3125 49.21875 43.3125 52.78125 \r\nQ 43.3125 58.59375 39.234375 62.25 \r\nQ 35.15625 65.921875 28.609375 65.921875 \r\nQ 23.96875 65.921875 18.8125 64.3125 \r\nQ 13.671875 62.703125 7.8125 59.421875 \r\nL 7.8125 69.390625 \r\nQ 13.765625 71.78125 18.9375 73 \r\nQ 24.125 74.21875 28.421875 74.21875 \r\nQ 39.75 74.21875 46.484375 68.546875 \r\nQ 53.21875 62.890625 53.21875 53.421875 \r\nQ 53.21875 48.921875 51.53125 44.890625 \r\nQ 49.859375 40.875 45.40625 35.40625 \r\nQ 44.1875 33.984375 37.640625 27.21875 \r\nQ 31.109375 20.453125 19.1875 8.296875 \r\nz\r\n\" id=\"DejaVuSans-32\"/>\r\n       <path d=\"M 10.796875 72.90625 \r\nL 49.515625 72.90625 \r\nL 49.515625 64.59375 \r\nL 19.828125 64.59375 \r\nL 19.828125 46.734375 \r\nQ 21.96875 47.46875 24.109375 47.828125 \r\nQ 26.265625 48.1875 28.421875 48.1875 \r\nQ 40.625 48.1875 47.75 41.5 \r\nQ 54.890625 34.8125 54.890625 23.390625 \r\nQ 54.890625 11.625 47.5625 5.09375 \r\nQ 40.234375 -1.421875 26.90625 -1.421875 \r\nQ 22.3125 -1.421875 17.546875 -0.640625 \r\nQ 12.796875 0.140625 7.71875 1.703125 \r\nL 7.71875 11.625 \r\nQ 12.109375 9.234375 16.796875 8.0625 \r\nQ 21.484375 6.890625 26.703125 6.890625 \r\nQ 35.15625 6.890625 40.078125 11.328125 \r\nQ 45.015625 15.765625 45.015625 23.390625 \r\nQ 45.015625 31 40.078125 35.4375 \r\nQ 35.15625 39.890625 26.703125 39.890625 \r\nQ 22.75 39.890625 18.8125 39.015625 \r\nQ 14.890625 38.140625 10.796875 36.28125 \r\nz\r\n\" id=\"DejaVuSans-35\"/>\r\n      </defs>\r\n      <g transform=\"translate(215.698352 568.898437)scale(0.1 -0.1)\">\r\n       <use xlink:href=\"#DejaVuSans-32\"/>\r\n       <use x=\"63.623047\" xlink:href=\"#DejaVuSans-35\"/>\r\n      </g>\r\n     </g>\r\n    </g>\r\n    <g id=\"xtick_3\">\r\n     <g id=\"line2d_3\">\r\n      <g>\r\n       <use style=\"stroke:#000000;stroke-width:0.8;\" x=\"348.879034\" xlink:href=\"#mcf052cfb49\" y=\"554.3\"/>\r\n      </g>\r\n     </g>\r\n     <g id=\"text_3\">\r\n      <!-- 50 -->\r\n      <g transform=\"translate(342.516534 568.898437)scale(0.1 -0.1)\">\r\n       <use xlink:href=\"#DejaVuSans-35\"/>\r\n       <use x=\"63.623047\" xlink:href=\"#DejaVuSans-30\"/>\r\n      </g>\r\n     </g>\r\n    </g>\r\n    <g id=\"xtick_4\">\r\n     <g id=\"line2d_4\">\r\n      <g>\r\n       <use style=\"stroke:#000000;stroke-width:0.8;\" x=\"475.697216\" xlink:href=\"#mcf052cfb49\" y=\"554.3\"/>\r\n      </g>\r\n     </g>\r\n     <g id=\"text_4\">\r\n      <!-- 75 -->\r\n      <defs>\r\n       <path d=\"M 8.203125 72.90625 \r\nL 55.078125 72.90625 \r\nL 55.078125 68.703125 \r\nL 28.609375 0 \r\nL 18.3125 0 \r\nL 43.21875 64.59375 \r\nL 8.203125 64.59375 \r\nz\r\n\" id=\"DejaVuSans-37\"/>\r\n      </defs>\r\n      <g transform=\"translate(469.334716 568.898437)scale(0.1 -0.1)\">\r\n       <use xlink:href=\"#DejaVuSans-37\"/>\r\n       <use x=\"63.623047\" xlink:href=\"#DejaVuSans-35\"/>\r\n      </g>\r\n     </g>\r\n    </g>\r\n    <g id=\"xtick_5\">\r\n     <g id=\"line2d_5\">\r\n      <g>\r\n       <use style=\"stroke:#000000;stroke-width:0.8;\" x=\"602.515398\" xlink:href=\"#mcf052cfb49\" y=\"554.3\"/>\r\n      </g>\r\n     </g>\r\n     <g id=\"text_5\">\r\n      <!-- 100 -->\r\n      <defs>\r\n       <path d=\"M 12.40625 8.296875 \r\nL 28.515625 8.296875 \r\nL 28.515625 63.921875 \r\nL 10.984375 60.40625 \r\nL 10.984375 69.390625 \r\nL 28.421875 72.90625 \r\nL 38.28125 72.90625 \r\nL 38.28125 8.296875 \r\nL 54.390625 8.296875 \r\nL 54.390625 0 \r\nL 12.40625 0 \r\nz\r\n\" id=\"DejaVuSans-31\"/>\r\n      </defs>\r\n      <g transform=\"translate(592.971648 568.898437)scale(0.1 -0.1)\">\r\n       <use xlink:href=\"#DejaVuSans-31\"/>\r\n       <use x=\"63.623047\" xlink:href=\"#DejaVuSans-30\"/>\r\n       <use x=\"127.246094\" xlink:href=\"#DejaVuSans-30\"/>\r\n      </g>\r\n     </g>\r\n    </g>\r\n    <g id=\"xtick_6\">\r\n     <g id=\"line2d_6\">\r\n      <g>\r\n       <use style=\"stroke:#000000;stroke-width:0.8;\" x=\"729.33358\" xlink:href=\"#mcf052cfb49\" y=\"554.3\"/>\r\n      </g>\r\n     </g>\r\n     <g id=\"text_6\">\r\n      <!-- 125 -->\r\n      <g transform=\"translate(719.78983 568.898437)scale(0.1 -0.1)\">\r\n       <use xlink:href=\"#DejaVuSans-31\"/>\r\n       <use x=\"63.623047\" xlink:href=\"#DejaVuSans-32\"/>\r\n       <use x=\"127.246094\" xlink:href=\"#DejaVuSans-35\"/>\r\n      </g>\r\n     </g>\r\n    </g>\r\n    <g id=\"xtick_7\">\r\n     <g id=\"line2d_7\">\r\n      <g>\r\n       <use style=\"stroke:#000000;stroke-width:0.8;\" x=\"856.151761\" xlink:href=\"#mcf052cfb49\" y=\"554.3\"/>\r\n      </g>\r\n     </g>\r\n     <g id=\"text_7\">\r\n      <!-- 150 -->\r\n      <g transform=\"translate(846.608011 568.898437)scale(0.1 -0.1)\">\r\n       <use xlink:href=\"#DejaVuSans-31\"/>\r\n       <use x=\"63.623047\" xlink:href=\"#DejaVuSans-35\"/>\r\n       <use x=\"127.246094\" xlink:href=\"#DejaVuSans-30\"/>\r\n      </g>\r\n     </g>\r\n    </g>\r\n    <g id=\"xtick_8\">\r\n     <g id=\"line2d_8\">\r\n      <g>\r\n       <use style=\"stroke:#000000;stroke-width:0.8;\" x=\"982.969943\" xlink:href=\"#mcf052cfb49\" y=\"554.3\"/>\r\n      </g>\r\n     </g>\r\n     <g id=\"text_8\">\r\n      <!-- 175 -->\r\n      <g transform=\"translate(973.426193 568.898437)scale(0.1 -0.1)\">\r\n       <use xlink:href=\"#DejaVuSans-31\"/>\r\n       <use x=\"63.623047\" xlink:href=\"#DejaVuSans-37\"/>\r\n       <use x=\"127.246094\" xlink:href=\"#DejaVuSans-35\"/>\r\n      </g>\r\n     </g>\r\n    </g>\r\n    <g id=\"xtick_9\">\r\n     <g id=\"line2d_9\">\r\n      <g>\r\n       <use style=\"stroke:#000000;stroke-width:0.8;\" x=\"1109.788125\" xlink:href=\"#mcf052cfb49\" y=\"554.3\"/>\r\n      </g>\r\n     </g>\r\n     <g id=\"text_9\">\r\n      <!-- 200 -->\r\n      <g transform=\"translate(1100.244375 568.898437)scale(0.1 -0.1)\">\r\n       <use xlink:href=\"#DejaVuSans-32\"/>\r\n       <use x=\"63.623047\" xlink:href=\"#DejaVuSans-30\"/>\r\n       <use x=\"127.246094\" xlink:href=\"#DejaVuSans-30\"/>\r\n      </g>\r\n     </g>\r\n    </g>\r\n    <g id=\"text_10\">\r\n     <!-- epochs -->\r\n     <defs>\r\n      <path d=\"M 56.203125 29.59375 \r\nL 56.203125 25.203125 \r\nL 14.890625 25.203125 \r\nQ 15.484375 15.921875 20.484375 11.0625 \r\nQ 25.484375 6.203125 34.421875 6.203125 \r\nQ 39.59375 6.203125 44.453125 7.46875 \r\nQ 49.3125 8.734375 54.109375 11.28125 \r\nL 54.109375 2.78125 \r\nQ 49.265625 0.734375 44.1875 -0.34375 \r\nQ 39.109375 -1.421875 33.890625 -1.421875 \r\nQ 20.796875 -1.421875 13.15625 6.1875 \r\nQ 5.515625 13.8125 5.515625 26.8125 \r\nQ 5.515625 40.234375 12.765625 48.109375 \r\nQ 20.015625 56 32.328125 56 \r\nQ 43.359375 56 49.78125 48.890625 \r\nQ 56.203125 41.796875 56.203125 29.59375 \r\nz\r\nM 47.21875 32.234375 \r\nQ 47.125 39.59375 43.09375 43.984375 \r\nQ 39.0625 48.390625 32.421875 48.390625 \r\nQ 24.90625 48.390625 20.390625 44.140625 \r\nQ 15.875 39.890625 15.1875 32.171875 \r\nz\r\n\" id=\"DejaVuSans-65\"/>\r\n      <path d=\"M 18.109375 8.203125 \r\nL 18.109375 -20.796875 \r\nL 9.078125 -20.796875 \r\nL 9.078125 54.6875 \r\nL 18.109375 54.6875 \r\nL 18.109375 46.390625 \r\nQ 20.953125 51.265625 25.265625 53.625 \r\nQ 29.59375 56 35.59375 56 \r\nQ 45.5625 56 51.78125 48.09375 \r\nQ 58.015625 40.1875 58.015625 27.296875 \r\nQ 58.015625 14.40625 51.78125 6.484375 \r\nQ 45.5625 -1.421875 35.59375 -1.421875 \r\nQ 29.59375 -1.421875 25.265625 0.953125 \r\nQ 20.953125 3.328125 18.109375 8.203125 \r\nz\r\nM 48.6875 27.296875 \r\nQ 48.6875 37.203125 44.609375 42.84375 \r\nQ 40.53125 48.484375 33.40625 48.484375 \r\nQ 26.265625 48.484375 22.1875 42.84375 \r\nQ 18.109375 37.203125 18.109375 27.296875 \r\nQ 18.109375 17.390625 22.1875 11.75 \r\nQ 26.265625 6.109375 33.40625 6.109375 \r\nQ 40.53125 6.109375 44.609375 11.75 \r\nQ 48.6875 17.390625 48.6875 27.296875 \r\nz\r\n\" id=\"DejaVuSans-70\"/>\r\n      <path d=\"M 30.609375 48.390625 \r\nQ 23.390625 48.390625 19.1875 42.75 \r\nQ 14.984375 37.109375 14.984375 27.296875 \r\nQ 14.984375 17.484375 19.15625 11.84375 \r\nQ 23.34375 6.203125 30.609375 6.203125 \r\nQ 37.796875 6.203125 41.984375 11.859375 \r\nQ 46.1875 17.53125 46.1875 27.296875 \r\nQ 46.1875 37.015625 41.984375 42.703125 \r\nQ 37.796875 48.390625 30.609375 48.390625 \r\nz\r\nM 30.609375 56 \r\nQ 42.328125 56 49.015625 48.375 \r\nQ 55.71875 40.765625 55.71875 27.296875 \r\nQ 55.71875 13.875 49.015625 6.21875 \r\nQ 42.328125 -1.421875 30.609375 -1.421875 \r\nQ 18.84375 -1.421875 12.171875 6.21875 \r\nQ 5.515625 13.875 5.515625 27.296875 \r\nQ 5.515625 40.765625 12.171875 48.375 \r\nQ 18.84375 56 30.609375 56 \r\nz\r\n\" id=\"DejaVuSans-6f\"/>\r\n      <path d=\"M 48.78125 52.59375 \r\nL 48.78125 44.1875 \r\nQ 44.96875 46.296875 41.140625 47.34375 \r\nQ 37.3125 48.390625 33.40625 48.390625 \r\nQ 24.65625 48.390625 19.8125 42.84375 \r\nQ 14.984375 37.3125 14.984375 27.296875 \r\nQ 14.984375 17.28125 19.8125 11.734375 \r\nQ 24.65625 6.203125 33.40625 6.203125 \r\nQ 37.3125 6.203125 41.140625 7.25 \r\nQ 44.96875 8.296875 48.78125 10.40625 \r\nL 48.78125 2.09375 \r\nQ 45.015625 0.34375 40.984375 -0.53125 \r\nQ 36.96875 -1.421875 32.421875 -1.421875 \r\nQ 20.0625 -1.421875 12.78125 6.34375 \r\nQ 5.515625 14.109375 5.515625 27.296875 \r\nQ 5.515625 40.671875 12.859375 48.328125 \r\nQ 20.21875 56 33.015625 56 \r\nQ 37.15625 56 41.109375 55.140625 \r\nQ 45.0625 54.296875 48.78125 52.59375 \r\nz\r\n\" id=\"DejaVuSans-63\"/>\r\n      <path d=\"M 54.890625 33.015625 \r\nL 54.890625 0 \r\nL 45.90625 0 \r\nL 45.90625 32.71875 \r\nQ 45.90625 40.484375 42.875 44.328125 \r\nQ 39.84375 48.1875 33.796875 48.1875 \r\nQ 26.515625 48.1875 22.3125 43.546875 \r\nQ 18.109375 38.921875 18.109375 30.90625 \r\nL 18.109375 0 \r\nL 9.078125 0 \r\nL 9.078125 75.984375 \r\nL 18.109375 75.984375 \r\nL 18.109375 46.1875 \r\nQ 21.34375 51.125 25.703125 53.5625 \r\nQ 30.078125 56 35.796875 56 \r\nQ 45.21875 56 50.046875 50.171875 \r\nQ 54.890625 44.34375 54.890625 33.015625 \r\nz\r\n\" id=\"DejaVuSans-68\"/>\r\n      <path d=\"M 44.28125 53.078125 \r\nL 44.28125 44.578125 \r\nQ 40.484375 46.53125 36.375 47.5 \r\nQ 32.28125 48.484375 27.875 48.484375 \r\nQ 21.1875 48.484375 17.84375 46.4375 \r\nQ 14.5 44.390625 14.5 40.28125 \r\nQ 14.5 37.15625 16.890625 35.375 \r\nQ 19.28125 33.59375 26.515625 31.984375 \r\nL 29.59375 31.296875 \r\nQ 39.15625 29.25 43.1875 25.515625 \r\nQ 47.21875 21.78125 47.21875 15.09375 \r\nQ 47.21875 7.46875 41.1875 3.015625 \r\nQ 35.15625 -1.421875 24.609375 -1.421875 \r\nQ 20.21875 -1.421875 15.453125 -0.5625 \r\nQ 10.6875 0.296875 5.421875 2 \r\nL 5.421875 11.28125 \r\nQ 10.40625 8.6875 15.234375 7.390625 \r\nQ 20.0625 6.109375 24.8125 6.109375 \r\nQ 31.15625 6.109375 34.5625 8.28125 \r\nQ 37.984375 10.453125 37.984375 14.40625 \r\nQ 37.984375 18.0625 35.515625 20.015625 \r\nQ 33.0625 21.96875 24.703125 23.78125 \r\nL 21.578125 24.515625 \r\nQ 13.234375 26.265625 9.515625 29.90625 \r\nQ 5.8125 33.546875 5.8125 39.890625 \r\nQ 5.8125 47.609375 11.28125 51.796875 \r\nQ 16.75 56 26.8125 56 \r\nQ 31.78125 56 36.171875 55.265625 \r\nQ 40.578125 54.546875 44.28125 53.078125 \r\nz\r\n\" id=\"DejaVuSans-73\"/>\r\n     </defs>\r\n     <g transform=\"translate(579.055625 587.135625)scale(0.16 -0.16)\">\r\n      <use xlink:href=\"#DejaVuSans-65\"/>\r\n      <use x=\"61.523438\" xlink:href=\"#DejaVuSans-70\"/>\r\n      <use x=\"125\" xlink:href=\"#DejaVuSans-6f\"/>\r\n      <use x=\"186.181641\" xlink:href=\"#DejaVuSans-63\"/>\r\n      <use x=\"241.162109\" xlink:href=\"#DejaVuSans-68\"/>\r\n      <use x=\"304.541016\" xlink:href=\"#DejaVuSans-73\"/>\r\n     </g>\r\n    </g>\r\n   </g>\r\n   <g id=\"matplotlib.axis_2\">\r\n    <g id=\"ytick_1\">\r\n     <g id=\"line2d_10\">\r\n      <defs>\r\n       <path d=\"M 0 0 \r\nL -3.5 0 \r\n\" id=\"mbbd1085803\" style=\"stroke:#000000;stroke-width:0.8;\"/>\r\n      </defs>\r\n      <g>\r\n       <use style=\"stroke:#000000;stroke-width:0.8;\" x=\"49.588125\" xlink:href=\"#mbbd1085803\" y=\"503.398046\"/>\r\n      </g>\r\n     </g>\r\n     <g id=\"text_11\">\r\n      <!-- 0.2 -->\r\n      <defs>\r\n       <path d=\"M 10.6875 12.40625 \r\nL 21 12.40625 \r\nL 21 0 \r\nL 10.6875 0 \r\nz\r\n\" id=\"DejaVuSans-2e\"/>\r\n      </defs>\r\n      <g transform=\"translate(26.685 507.197265)scale(0.1 -0.1)\">\r\n       <use xlink:href=\"#DejaVuSans-30\"/>\r\n       <use x=\"63.623047\" xlink:href=\"#DejaVuSans-2e\"/>\r\n       <use x=\"95.410156\" xlink:href=\"#DejaVuSans-32\"/>\r\n      </g>\r\n     </g>\r\n    </g>\r\n    <g id=\"ytick_2\">\r\n     <g id=\"line2d_11\">\r\n      <g>\r\n       <use style=\"stroke:#000000;stroke-width:0.8;\" x=\"49.588125\" xlink:href=\"#mbbd1085803\" y=\"442.109691\"/>\r\n      </g>\r\n     </g>\r\n     <g id=\"text_12\">\r\n      <!-- 0.3 -->\r\n      <defs>\r\n       <path d=\"M 40.578125 39.3125 \r\nQ 47.65625 37.796875 51.625 33 \r\nQ 55.609375 28.21875 55.609375 21.1875 \r\nQ 55.609375 10.40625 48.1875 4.484375 \r\nQ 40.765625 -1.421875 27.09375 -1.421875 \r\nQ 22.515625 -1.421875 17.65625 -0.515625 \r\nQ 12.796875 0.390625 7.625 2.203125 \r\nL 7.625 11.71875 \r\nQ 11.71875 9.328125 16.59375 8.109375 \r\nQ 21.484375 6.890625 26.8125 6.890625 \r\nQ 36.078125 6.890625 40.9375 10.546875 \r\nQ 45.796875 14.203125 45.796875 21.1875 \r\nQ 45.796875 27.640625 41.28125 31.265625 \r\nQ 36.765625 34.90625 28.71875 34.90625 \r\nL 20.21875 34.90625 \r\nL 20.21875 43.015625 \r\nL 29.109375 43.015625 \r\nQ 36.375 43.015625 40.234375 45.921875 \r\nQ 44.09375 48.828125 44.09375 54.296875 \r\nQ 44.09375 59.90625 40.109375 62.90625 \r\nQ 36.140625 65.921875 28.71875 65.921875 \r\nQ 24.65625 65.921875 20.015625 65.03125 \r\nQ 15.375 64.15625 9.8125 62.3125 \r\nL 9.8125 71.09375 \r\nQ 15.4375 72.65625 20.34375 73.4375 \r\nQ 25.25 74.21875 29.59375 74.21875 \r\nQ 40.828125 74.21875 47.359375 69.109375 \r\nQ 53.90625 64.015625 53.90625 55.328125 \r\nQ 53.90625 49.265625 50.4375 45.09375 \r\nQ 46.96875 40.921875 40.578125 39.3125 \r\nz\r\n\" id=\"DejaVuSans-33\"/>\r\n      </defs>\r\n      <g transform=\"translate(26.685 445.90891)scale(0.1 -0.1)\">\r\n       <use xlink:href=\"#DejaVuSans-30\"/>\r\n       <use x=\"63.623047\" xlink:href=\"#DejaVuSans-2e\"/>\r\n       <use x=\"95.410156\" xlink:href=\"#DejaVuSans-33\"/>\r\n      </g>\r\n     </g>\r\n    </g>\r\n    <g id=\"ytick_3\">\r\n     <g id=\"line2d_12\">\r\n      <g>\r\n       <use style=\"stroke:#000000;stroke-width:0.8;\" x=\"49.588125\" xlink:href=\"#mbbd1085803\" y=\"380.821335\"/>\r\n      </g>\r\n     </g>\r\n     <g id=\"text_13\">\r\n      <!-- 0.4 -->\r\n      <defs>\r\n       <path d=\"M 37.796875 64.3125 \r\nL 12.890625 25.390625 \r\nL 37.796875 25.390625 \r\nz\r\nM 35.203125 72.90625 \r\nL 47.609375 72.90625 \r\nL 47.609375 25.390625 \r\nL 58.015625 25.390625 \r\nL 58.015625 17.1875 \r\nL 47.609375 17.1875 \r\nL 47.609375 0 \r\nL 37.796875 0 \r\nL 37.796875 17.1875 \r\nL 4.890625 17.1875 \r\nL 4.890625 26.703125 \r\nz\r\n\" id=\"DejaVuSans-34\"/>\r\n      </defs>\r\n      <g transform=\"translate(26.685 384.620554)scale(0.1 -0.1)\">\r\n       <use xlink:href=\"#DejaVuSans-30\"/>\r\n       <use x=\"63.623047\" xlink:href=\"#DejaVuSans-2e\"/>\r\n       <use x=\"95.410156\" xlink:href=\"#DejaVuSans-34\"/>\r\n      </g>\r\n     </g>\r\n    </g>\r\n    <g id=\"ytick_4\">\r\n     <g id=\"line2d_13\">\r\n      <g>\r\n       <use style=\"stroke:#000000;stroke-width:0.8;\" x=\"49.588125\" xlink:href=\"#mbbd1085803\" y=\"319.53298\"/>\r\n      </g>\r\n     </g>\r\n     <g id=\"text_14\">\r\n      <!-- 0.5 -->\r\n      <g transform=\"translate(26.685 323.332199)scale(0.1 -0.1)\">\r\n       <use xlink:href=\"#DejaVuSans-30\"/>\r\n       <use x=\"63.623047\" xlink:href=\"#DejaVuSans-2e\"/>\r\n       <use x=\"95.410156\" xlink:href=\"#DejaVuSans-35\"/>\r\n      </g>\r\n     </g>\r\n    </g>\r\n    <g id=\"ytick_5\">\r\n     <g id=\"line2d_14\">\r\n      <g>\r\n       <use style=\"stroke:#000000;stroke-width:0.8;\" x=\"49.588125\" xlink:href=\"#mbbd1085803\" y=\"258.244624\"/>\r\n      </g>\r\n     </g>\r\n     <g id=\"text_15\">\r\n      <!-- 0.6 -->\r\n      <defs>\r\n       <path d=\"M 33.015625 40.375 \r\nQ 26.375 40.375 22.484375 35.828125 \r\nQ 18.609375 31.296875 18.609375 23.390625 \r\nQ 18.609375 15.53125 22.484375 10.953125 \r\nQ 26.375 6.390625 33.015625 6.390625 \r\nQ 39.65625 6.390625 43.53125 10.953125 \r\nQ 47.40625 15.53125 47.40625 23.390625 \r\nQ 47.40625 31.296875 43.53125 35.828125 \r\nQ 39.65625 40.375 33.015625 40.375 \r\nz\r\nM 52.59375 71.296875 \r\nL 52.59375 62.3125 \r\nQ 48.875 64.0625 45.09375 64.984375 \r\nQ 41.3125 65.921875 37.59375 65.921875 \r\nQ 27.828125 65.921875 22.671875 59.328125 \r\nQ 17.53125 52.734375 16.796875 39.40625 \r\nQ 19.671875 43.65625 24.015625 45.921875 \r\nQ 28.375 48.1875 33.59375 48.1875 \r\nQ 44.578125 48.1875 50.953125 41.515625 \r\nQ 57.328125 34.859375 57.328125 23.390625 \r\nQ 57.328125 12.15625 50.6875 5.359375 \r\nQ 44.046875 -1.421875 33.015625 -1.421875 \r\nQ 20.359375 -1.421875 13.671875 8.265625 \r\nQ 6.984375 17.96875 6.984375 36.375 \r\nQ 6.984375 53.65625 15.1875 63.9375 \r\nQ 23.390625 74.21875 37.203125 74.21875 \r\nQ 40.921875 74.21875 44.703125 73.484375 \r\nQ 48.484375 72.75 52.59375 71.296875 \r\nz\r\n\" id=\"DejaVuSans-36\"/>\r\n      </defs>\r\n      <g transform=\"translate(26.685 262.043843)scale(0.1 -0.1)\">\r\n       <use xlink:href=\"#DejaVuSans-30\"/>\r\n       <use x=\"63.623047\" xlink:href=\"#DejaVuSans-2e\"/>\r\n       <use x=\"95.410156\" xlink:href=\"#DejaVuSans-36\"/>\r\n      </g>\r\n     </g>\r\n    </g>\r\n    <g id=\"ytick_6\">\r\n     <g id=\"line2d_15\">\r\n      <g>\r\n       <use style=\"stroke:#000000;stroke-width:0.8;\" x=\"49.588125\" xlink:href=\"#mbbd1085803\" y=\"196.956269\"/>\r\n      </g>\r\n     </g>\r\n     <g id=\"text_16\">\r\n      <!-- 0.7 -->\r\n      <g transform=\"translate(26.685 200.755488)scale(0.1 -0.1)\">\r\n       <use xlink:href=\"#DejaVuSans-30\"/>\r\n       <use x=\"63.623047\" xlink:href=\"#DejaVuSans-2e\"/>\r\n       <use x=\"95.410156\" xlink:href=\"#DejaVuSans-37\"/>\r\n      </g>\r\n     </g>\r\n    </g>\r\n    <g id=\"ytick_7\">\r\n     <g id=\"line2d_16\">\r\n      <g>\r\n       <use style=\"stroke:#000000;stroke-width:0.8;\" x=\"49.588125\" xlink:href=\"#mbbd1085803\" y=\"135.667913\"/>\r\n      </g>\r\n     </g>\r\n     <g id=\"text_17\">\r\n      <!-- 0.8 -->\r\n      <defs>\r\n       <path d=\"M 31.78125 34.625 \r\nQ 24.75 34.625 20.71875 30.859375 \r\nQ 16.703125 27.09375 16.703125 20.515625 \r\nQ 16.703125 13.921875 20.71875 10.15625 \r\nQ 24.75 6.390625 31.78125 6.390625 \r\nQ 38.8125 6.390625 42.859375 10.171875 \r\nQ 46.921875 13.96875 46.921875 20.515625 \r\nQ 46.921875 27.09375 42.890625 30.859375 \r\nQ 38.875 34.625 31.78125 34.625 \r\nz\r\nM 21.921875 38.8125 \r\nQ 15.578125 40.375 12.03125 44.71875 \r\nQ 8.5 49.078125 8.5 55.328125 \r\nQ 8.5 64.0625 14.71875 69.140625 \r\nQ 20.953125 74.21875 31.78125 74.21875 \r\nQ 42.671875 74.21875 48.875 69.140625 \r\nQ 55.078125 64.0625 55.078125 55.328125 \r\nQ 55.078125 49.078125 51.53125 44.71875 \r\nQ 48 40.375 41.703125 38.8125 \r\nQ 48.828125 37.15625 52.796875 32.3125 \r\nQ 56.78125 27.484375 56.78125 20.515625 \r\nQ 56.78125 9.90625 50.3125 4.234375 \r\nQ 43.84375 -1.421875 31.78125 -1.421875 \r\nQ 19.734375 -1.421875 13.25 4.234375 \r\nQ 6.78125 9.90625 6.78125 20.515625 \r\nQ 6.78125 27.484375 10.78125 32.3125 \r\nQ 14.796875 37.15625 21.921875 38.8125 \r\nz\r\nM 18.3125 54.390625 \r\nQ 18.3125 48.734375 21.84375 45.5625 \r\nQ 25.390625 42.390625 31.78125 42.390625 \r\nQ 38.140625 42.390625 41.71875 45.5625 \r\nQ 45.3125 48.734375 45.3125 54.390625 \r\nQ 45.3125 60.0625 41.71875 63.234375 \r\nQ 38.140625 66.40625 31.78125 66.40625 \r\nQ 25.390625 66.40625 21.84375 63.234375 \r\nQ 18.3125 60.0625 18.3125 54.390625 \r\nz\r\n\" id=\"DejaVuSans-38\"/>\r\n      </defs>\r\n      <g transform=\"translate(26.685 139.467132)scale(0.1 -0.1)\">\r\n       <use xlink:href=\"#DejaVuSans-30\"/>\r\n       <use x=\"63.623047\" xlink:href=\"#DejaVuSans-2e\"/>\r\n       <use x=\"95.410156\" xlink:href=\"#DejaVuSans-38\"/>\r\n      </g>\r\n     </g>\r\n    </g>\r\n    <g id=\"ytick_8\">\r\n     <g id=\"line2d_17\">\r\n      <g>\r\n       <use style=\"stroke:#000000;stroke-width:0.8;\" x=\"49.588125\" xlink:href=\"#mbbd1085803\" y=\"74.379558\"/>\r\n      </g>\r\n     </g>\r\n     <g id=\"text_18\">\r\n      <!-- 0.9 -->\r\n      <defs>\r\n       <path d=\"M 10.984375 1.515625 \r\nL 10.984375 10.5 \r\nQ 14.703125 8.734375 18.5 7.8125 \r\nQ 22.3125 6.890625 25.984375 6.890625 \r\nQ 35.75 6.890625 40.890625 13.453125 \r\nQ 46.046875 20.015625 46.78125 33.40625 \r\nQ 43.953125 29.203125 39.59375 26.953125 \r\nQ 35.25 24.703125 29.984375 24.703125 \r\nQ 19.046875 24.703125 12.671875 31.3125 \r\nQ 6.296875 37.9375 6.296875 49.421875 \r\nQ 6.296875 60.640625 12.9375 67.421875 \r\nQ 19.578125 74.21875 30.609375 74.21875 \r\nQ 43.265625 74.21875 49.921875 64.515625 \r\nQ 56.59375 54.828125 56.59375 36.375 \r\nQ 56.59375 19.140625 48.40625 8.859375 \r\nQ 40.234375 -1.421875 26.421875 -1.421875 \r\nQ 22.703125 -1.421875 18.890625 -0.6875 \r\nQ 15.09375 0.046875 10.984375 1.515625 \r\nz\r\nM 30.609375 32.421875 \r\nQ 37.25 32.421875 41.125 36.953125 \r\nQ 45.015625 41.5 45.015625 49.421875 \r\nQ 45.015625 57.28125 41.125 61.84375 \r\nQ 37.25 66.40625 30.609375 66.40625 \r\nQ 23.96875 66.40625 20.09375 61.84375 \r\nQ 16.21875 57.28125 16.21875 49.421875 \r\nQ 16.21875 41.5 20.09375 36.953125 \r\nQ 23.96875 32.421875 30.609375 32.421875 \r\nz\r\n\" id=\"DejaVuSans-39\"/>\r\n      </defs>\r\n      <g transform=\"translate(26.685 78.178777)scale(0.1 -0.1)\">\r\n       <use xlink:href=\"#DejaVuSans-30\"/>\r\n       <use x=\"63.623047\" xlink:href=\"#DejaVuSans-2e\"/>\r\n       <use x=\"95.410156\" xlink:href=\"#DejaVuSans-39\"/>\r\n      </g>\r\n     </g>\r\n    </g>\r\n    <g id=\"ytick_9\">\r\n     <g id=\"line2d_18\">\r\n      <g>\r\n       <use style=\"stroke:#000000;stroke-width:0.8;\" x=\"49.588125\" xlink:href=\"#mbbd1085803\" y=\"13.091202\"/>\r\n      </g>\r\n     </g>\r\n     <g id=\"text_19\">\r\n      <!-- 1.0 -->\r\n      <g transform=\"translate(26.685 16.890421)scale(0.1 -0.1)\">\r\n       <use xlink:href=\"#DejaVuSans-31\"/>\r\n       <use x=\"63.623047\" xlink:href=\"#DejaVuSans-2e\"/>\r\n       <use x=\"95.410156\" xlink:href=\"#DejaVuSans-30\"/>\r\n      </g>\r\n     </g>\r\n    </g>\r\n    <g id=\"text_20\">\r\n     <!-- accuracy -->\r\n     <defs>\r\n      <path d=\"M 34.28125 27.484375 \r\nQ 23.390625 27.484375 19.1875 25 \r\nQ 14.984375 22.515625 14.984375 16.5 \r\nQ 14.984375 11.71875 18.140625 8.90625 \r\nQ 21.296875 6.109375 26.703125 6.109375 \r\nQ 34.1875 6.109375 38.703125 11.40625 \r\nQ 43.21875 16.703125 43.21875 25.484375 \r\nL 43.21875 27.484375 \r\nz\r\nM 52.203125 31.203125 \r\nL 52.203125 0 \r\nL 43.21875 0 \r\nL 43.21875 8.296875 \r\nQ 40.140625 3.328125 35.546875 0.953125 \r\nQ 30.953125 -1.421875 24.3125 -1.421875 \r\nQ 15.921875 -1.421875 10.953125 3.296875 \r\nQ 6 8.015625 6 15.921875 \r\nQ 6 25.140625 12.171875 29.828125 \r\nQ 18.359375 34.515625 30.609375 34.515625 \r\nL 43.21875 34.515625 \r\nL 43.21875 35.40625 \r\nQ 43.21875 41.609375 39.140625 45 \r\nQ 35.0625 48.390625 27.6875 48.390625 \r\nQ 23 48.390625 18.546875 47.265625 \r\nQ 14.109375 46.140625 10.015625 43.890625 \r\nL 10.015625 52.203125 \r\nQ 14.9375 54.109375 19.578125 55.046875 \r\nQ 24.21875 56 28.609375 56 \r\nQ 40.484375 56 46.34375 49.84375 \r\nQ 52.203125 43.703125 52.203125 31.203125 \r\nz\r\n\" id=\"DejaVuSans-61\"/>\r\n      <path d=\"M 8.5 21.578125 \r\nL 8.5 54.6875 \r\nL 17.484375 54.6875 \r\nL 17.484375 21.921875 \r\nQ 17.484375 14.15625 20.5 10.265625 \r\nQ 23.53125 6.390625 29.59375 6.390625 \r\nQ 36.859375 6.390625 41.078125 11.03125 \r\nQ 45.3125 15.671875 45.3125 23.6875 \r\nL 45.3125 54.6875 \r\nL 54.296875 54.6875 \r\nL 54.296875 0 \r\nL 45.3125 0 \r\nL 45.3125 8.40625 \r\nQ 42.046875 3.421875 37.71875 1 \r\nQ 33.40625 -1.421875 27.6875 -1.421875 \r\nQ 18.265625 -1.421875 13.375 4.4375 \r\nQ 8.5 10.296875 8.5 21.578125 \r\nz\r\nM 31.109375 56 \r\nz\r\n\" id=\"DejaVuSans-75\"/>\r\n      <path d=\"M 41.109375 46.296875 \r\nQ 39.59375 47.171875 37.8125 47.578125 \r\nQ 36.03125 48 33.890625 48 \r\nQ 26.265625 48 22.1875 43.046875 \r\nQ 18.109375 38.09375 18.109375 28.8125 \r\nL 18.109375 0 \r\nL 9.078125 0 \r\nL 9.078125 54.6875 \r\nL 18.109375 54.6875 \r\nL 18.109375 46.1875 \r\nQ 20.953125 51.171875 25.484375 53.578125 \r\nQ 30.03125 56 36.53125 56 \r\nQ 37.453125 56 38.578125 55.875 \r\nQ 39.703125 55.765625 41.0625 55.515625 \r\nz\r\n\" id=\"DejaVuSans-72\"/>\r\n      <path d=\"M 32.171875 -5.078125 \r\nQ 28.375 -14.84375 24.75 -17.8125 \r\nQ 21.140625 -20.796875 15.09375 -20.796875 \r\nL 7.90625 -20.796875 \r\nL 7.90625 -13.28125 \r\nL 13.1875 -13.28125 \r\nQ 16.890625 -13.28125 18.9375 -11.515625 \r\nQ 21 -9.765625 23.484375 -3.21875 \r\nL 25.09375 0.875 \r\nL 2.984375 54.6875 \r\nL 12.5 54.6875 \r\nL 29.59375 11.921875 \r\nL 46.6875 54.6875 \r\nL 56.203125 54.6875 \r\nz\r\n\" id=\"DejaVuSans-79\"/>\r\n     </defs>\r\n     <g transform=\"translate(19.3575 318.595)rotate(-90)scale(0.16 -0.16)\">\r\n      <use xlink:href=\"#DejaVuSans-61\"/>\r\n      <use x=\"61.279297\" xlink:href=\"#DejaVuSans-63\"/>\r\n      <use x=\"116.259766\" xlink:href=\"#DejaVuSans-63\"/>\r\n      <use x=\"171.240234\" xlink:href=\"#DejaVuSans-75\"/>\r\n      <use x=\"234.619141\" xlink:href=\"#DejaVuSans-72\"/>\r\n      <use x=\"275.732422\" xlink:href=\"#DejaVuSans-61\"/>\r\n      <use x=\"337.011719\" xlink:href=\"#DejaVuSans-63\"/>\r\n      <use x=\"391.992188\" xlink:href=\"#DejaVuSans-79\"/>\r\n     </g>\r\n    </g>\r\n   </g>\r\n   <g id=\"line2d_19\">\r\n    <path clip-path=\"url(#p7ba33ebadf)\" d=\"M 100.315398 524.440627 \r\nL 201.769943 176.428716 \r\nL 303.224489 139.395737 \r\nL 404.679034 136.69797 \r\nL 506.13358 134.735958 \r\nL 607.588125 135.962215 \r\nL 709.04267 135.226461 \r\nL 810.497216 138.905233 \r\nL 911.951761 134.981209 \r\nL 1013.406307 137.188473 \r\nL 1114.860852 135.962215 \r\n\" style=\"fill:none;stroke:#ff0000;stroke-linecap:square;stroke-width:1.5;\"/>\r\n   </g>\r\n   <g id=\"line2d_20\">\r\n    <path clip-path=\"url(#p7ba33ebadf)\" d=\"M 100.315398 529.590909 \r\nL 201.769943 124.925897 \r\nL 303.224489 88.873923 \r\nL 404.679034 82.00688 \r\nL 506.13358 80.780623 \r\nL 607.588125 79.799617 \r\nL 709.04267 75.385089 \r\nL 810.497216 77.592353 \r\nL 911.951761 79.554365 \r\nL 1013.406307 76.611347 \r\nL 1114.860852 74.158831 \r\n\" style=\"fill:none;stroke:#ff0000;stroke-dasharray:5.55,2.4;stroke-dashoffset:0;stroke-width:1.5;\"/>\r\n   </g>\r\n   <g id=\"line2d_21\">\r\n    <path clip-path=\"url(#p7ba33ebadf)\" d=\"M 100.315398 464.354004 \r\nL 201.769943 111.437063 \r\nL 303.224489 99.419738 \r\nL 404.679034 96.231469 \r\nL 506.13358 97.457726 \r\nL 607.588125 97.457726 \r\nL 709.04267 97.948229 \r\nL 810.497216 94.024205 \r\nL 911.951761 95.005211 \r\nL 1013.406307 94.514708 \r\nL 1114.860852 95.740965 \r\n\" style=\"fill:none;stroke:#008000;stroke-linecap:square;stroke-width:1.5;\"/>\r\n   </g>\r\n   <g id=\"line2d_22\">\r\n    <path clip-path=\"url(#p7ba33ebadf)\" d=\"M 100.315398 464.354004 \r\nL 201.769943 68.272795 \r\nL 303.224489 52.086194 \r\nL 404.679034 49.388428 \r\nL 506.13358 45.954906 \r\nL 607.588125 46.935912 \r\nL 709.04267 44.728649 \r\nL 810.497216 44.728649 \r\nL 911.951761 42.276134 \r\nL 1013.406307 44.728649 \r\nL 1114.860852 45.464403 \r\n\" style=\"fill:none;stroke:#008000;stroke-dasharray:5.55,2.4;stroke-dashoffset:0;stroke-width:1.5;\"/>\r\n   </g>\r\n   <g id=\"line2d_23\">\r\n    <path clip-path=\"url(#p7ba33ebadf)\" d=\"M 100.315398 395.438326 \r\nL 201.769943 106.041529 \r\nL 303.224489 94.759959 \r\nL 404.679034 89.854929 \r\nL 506.13358 92.062193 \r\nL 607.588125 89.609677 \r\nL 709.04267 84.949898 \r\nL 810.497216 87.647665 \r\nL 911.951761 84.459395 \r\nL 1013.406307 86.421408 \r\nL 1114.860852 84.949898 \r\n\" style=\"fill:none;stroke:#0000ff;stroke-linecap:square;stroke-width:1.5;\"/>\r\n   </g>\r\n   <g id=\"line2d_24\">\r\n    <path clip-path=\"url(#p7ba33ebadf)\" d=\"M 100.315398 341.973494 \r\nL 201.769943 61.896255 \r\nL 303.224489 49.143176 \r\nL 404.679034 43.25714 \r\nL 506.13358 40.06887 \r\nL 607.588125 40.559373 \r\nL 709.04267 37.616355 \r\nL 810.497216 36.635349 \r\nL 911.951761 37.371103 \r\nL 1013.406307 36.144845 \r\nL 1114.860852 35.409091 \r\n\" style=\"fill:none;stroke:#0000ff;stroke-dasharray:5.55,2.4;stroke-dashoffset:0;stroke-width:1.5;\"/>\r\n   </g>\r\n   <g id=\"patch_3\">\r\n    <path d=\"M 49.588125 554.3 \r\nL 49.588125 10.7 \r\n\" style=\"fill:none;stroke:#000000;stroke-linecap:square;stroke-linejoin:miter;stroke-width:0.8;\"/>\r\n   </g>\r\n   <g id=\"patch_4\">\r\n    <path d=\"M 1165.588125 554.3 \r\nL 1165.588125 10.7 \r\n\" style=\"fill:none;stroke:#000000;stroke-linecap:square;stroke-linejoin:miter;stroke-width:0.8;\"/>\r\n   </g>\r\n   <g id=\"patch_5\">\r\n    <path d=\"M 49.588125 554.3 \r\nL 1165.588125 554.3 \r\n\" style=\"fill:none;stroke:#000000;stroke-linecap:square;stroke-linejoin:miter;stroke-width:0.8;\"/>\r\n   </g>\r\n   <g id=\"patch_6\">\r\n    <path d=\"M 49.588125 10.7 \r\nL 1165.588125 10.7 \r\n\" style=\"fill:none;stroke:#000000;stroke-linecap:square;stroke-linejoin:miter;stroke-width:0.8;\"/>\r\n   </g>\r\n   <g id=\"legend_1\">\r\n    <g id=\"patch_7\">\r\n     <path d=\"M 976.330625 546.3 \r\nL 1154.388125 546.3 \r\nQ 1157.588125 546.3 1157.588125 543.1 \r\nL 1157.588125 403.79 \r\nQ 1157.588125 400.59 1154.388125 400.59 \r\nL 976.330625 400.59 \r\nQ 973.130625 400.59 973.130625 403.79 \r\nL 973.130625 543.1 \r\nQ 973.130625 546.3 976.330625 546.3 \r\nz\r\n\" style=\"fill:#ffffff;opacity:0.8;stroke:#cccccc;stroke-linejoin:miter;\"/>\r\n    </g>\r\n    <g id=\"line2d_25\">\r\n     <path d=\"M 979.530625 413.5475 \r\nL 1011.530625 413.5475 \r\n\" style=\"fill:none;stroke:#ff0000;stroke-linecap:square;stroke-width:1.5;\"/>\r\n    </g>\r\n    <g id=\"line2d_26\"/>\r\n    <g id=\"text_21\">\r\n     <!-- Test Acc for 5 -->\r\n     <defs>\r\n      <path d=\"M -0.296875 72.90625 \r\nL 61.375 72.90625 \r\nL 61.375 64.59375 \r\nL 35.5 64.59375 \r\nL 35.5 0 \r\nL 25.59375 0 \r\nL 25.59375 64.59375 \r\nL -0.296875 64.59375 \r\nz\r\n\" id=\"DejaVuSans-54\"/>\r\n      <path d=\"M 18.3125 70.21875 \r\nL 18.3125 54.6875 \r\nL 36.8125 54.6875 \r\nL 36.8125 47.703125 \r\nL 18.3125 47.703125 \r\nL 18.3125 18.015625 \r\nQ 18.3125 11.328125 20.140625 9.421875 \r\nQ 21.96875 7.515625 27.59375 7.515625 \r\nL 36.8125 7.515625 \r\nL 36.8125 0 \r\nL 27.59375 0 \r\nQ 17.1875 0 13.234375 3.875 \r\nQ 9.28125 7.765625 9.28125 18.015625 \r\nL 9.28125 47.703125 \r\nL 2.6875 47.703125 \r\nL 2.6875 54.6875 \r\nL 9.28125 54.6875 \r\nL 9.28125 70.21875 \r\nz\r\n\" id=\"DejaVuSans-74\"/>\r\n      <path id=\"DejaVuSans-20\"/>\r\n      <path d=\"M 34.1875 63.1875 \r\nL 20.796875 26.90625 \r\nL 47.609375 26.90625 \r\nz\r\nM 28.609375 72.90625 \r\nL 39.796875 72.90625 \r\nL 67.578125 0 \r\nL 57.328125 0 \r\nL 50.6875 18.703125 \r\nL 17.828125 18.703125 \r\nL 11.1875 0 \r\nL 0.78125 0 \r\nz\r\n\" id=\"DejaVuSans-41\"/>\r\n      <path d=\"M 37.109375 75.984375 \r\nL 37.109375 68.5 \r\nL 28.515625 68.5 \r\nQ 23.6875 68.5 21.796875 66.546875 \r\nQ 19.921875 64.59375 19.921875 59.515625 \r\nL 19.921875 54.6875 \r\nL 34.71875 54.6875 \r\nL 34.71875 47.703125 \r\nL 19.921875 47.703125 \r\nL 19.921875 0 \r\nL 10.890625 0 \r\nL 10.890625 47.703125 \r\nL 2.296875 47.703125 \r\nL 2.296875 54.6875 \r\nL 10.890625 54.6875 \r\nL 10.890625 58.5 \r\nQ 10.890625 67.625 15.140625 71.796875 \r\nQ 19.390625 75.984375 28.609375 75.984375 \r\nz\r\n\" id=\"DejaVuSans-66\"/>\r\n     </defs>\r\n     <g transform=\"translate(1024.330625 419.1475)scale(0.16 -0.16)\">\r\n      <use xlink:href=\"#DejaVuSans-54\"/>\r\n      <use x=\"60.818359\" xlink:href=\"#DejaVuSans-65\"/>\r\n      <use x=\"122.341797\" xlink:href=\"#DejaVuSans-73\"/>\r\n      <use x=\"174.441406\" xlink:href=\"#DejaVuSans-74\"/>\r\n      <use x=\"213.650391\" xlink:href=\"#DejaVuSans-20\"/>\r\n      <use x=\"245.4375\" xlink:href=\"#DejaVuSans-41\"/>\r\n      <use x=\"313.830078\" xlink:href=\"#DejaVuSans-63\"/>\r\n      <use x=\"368.810547\" xlink:href=\"#DejaVuSans-63\"/>\r\n      <use x=\"423.791016\" xlink:href=\"#DejaVuSans-20\"/>\r\n      <use x=\"455.578125\" xlink:href=\"#DejaVuSans-66\"/>\r\n      <use x=\"490.783203\" xlink:href=\"#DejaVuSans-6f\"/>\r\n      <use x=\"551.964844\" xlink:href=\"#DejaVuSans-72\"/>\r\n      <use x=\"593.078125\" xlink:href=\"#DejaVuSans-20\"/>\r\n      <use x=\"624.865234\" xlink:href=\"#DejaVuSans-35\"/>\r\n     </g>\r\n    </g>\r\n    <g id=\"line2d_27\">\r\n     <path d=\"M 979.530625 437.0325 \r\nL 1011.530625 437.0325 \r\n\" style=\"fill:none;stroke:#ff0000;stroke-dasharray:5.55,2.4;stroke-dashoffset:0;stroke-width:1.5;\"/>\r\n    </g>\r\n    <g id=\"line2d_28\"/>\r\n    <g id=\"text_22\">\r\n     <!-- Train Acc for 5 -->\r\n     <defs>\r\n      <path d=\"M 9.421875 54.6875 \r\nL 18.40625 54.6875 \r\nL 18.40625 0 \r\nL 9.421875 0 \r\nz\r\nM 9.421875 75.984375 \r\nL 18.40625 75.984375 \r\nL 18.40625 64.59375 \r\nL 9.421875 64.59375 \r\nz\r\n\" id=\"DejaVuSans-69\"/>\r\n      <path d=\"M 54.890625 33.015625 \r\nL 54.890625 0 \r\nL 45.90625 0 \r\nL 45.90625 32.71875 \r\nQ 45.90625 40.484375 42.875 44.328125 \r\nQ 39.84375 48.1875 33.796875 48.1875 \r\nQ 26.515625 48.1875 22.3125 43.546875 \r\nQ 18.109375 38.921875 18.109375 30.90625 \r\nL 18.109375 0 \r\nL 9.078125 0 \r\nL 9.078125 54.6875 \r\nL 18.109375 54.6875 \r\nL 18.109375 46.1875 \r\nQ 21.34375 51.125 25.703125 53.5625 \r\nQ 30.078125 56 35.796875 56 \r\nQ 45.21875 56 50.046875 50.171875 \r\nQ 54.890625 44.34375 54.890625 33.015625 \r\nz\r\n\" id=\"DejaVuSans-6e\"/>\r\n     </defs>\r\n     <g transform=\"translate(1024.330625 442.6325)scale(0.16 -0.16)\">\r\n      <use xlink:href=\"#DejaVuSans-54\"/>\r\n      <use x=\"60.865234\" xlink:href=\"#DejaVuSans-72\"/>\r\n      <use x=\"101.978516\" xlink:href=\"#DejaVuSans-61\"/>\r\n      <use x=\"163.257812\" xlink:href=\"#DejaVuSans-69\"/>\r\n      <use x=\"191.041016\" xlink:href=\"#DejaVuSans-6e\"/>\r\n      <use x=\"254.419922\" xlink:href=\"#DejaVuSans-20\"/>\r\n      <use x=\"286.207031\" xlink:href=\"#DejaVuSans-41\"/>\r\n      <use x=\"354.599609\" xlink:href=\"#DejaVuSans-63\"/>\r\n      <use x=\"409.580078\" xlink:href=\"#DejaVuSans-63\"/>\r\n      <use x=\"464.560547\" xlink:href=\"#DejaVuSans-20\"/>\r\n      <use x=\"496.347656\" xlink:href=\"#DejaVuSans-66\"/>\r\n      <use x=\"531.552734\" xlink:href=\"#DejaVuSans-6f\"/>\r\n      <use x=\"592.734375\" xlink:href=\"#DejaVuSans-72\"/>\r\n      <use x=\"633.847656\" xlink:href=\"#DejaVuSans-20\"/>\r\n      <use x=\"665.634766\" xlink:href=\"#DejaVuSans-35\"/>\r\n     </g>\r\n    </g>\r\n    <g id=\"line2d_29\">\r\n     <path d=\"M 979.530625 460.5175 \r\nL 1011.530625 460.5175 \r\n\" style=\"fill:none;stroke:#008000;stroke-linecap:square;stroke-width:1.5;\"/>\r\n    </g>\r\n    <g id=\"line2d_30\"/>\r\n    <g id=\"text_23\">\r\n     <!-- Test Acc for 10 -->\r\n     <g transform=\"translate(1024.330625 466.1175)scale(0.16 -0.16)\">\r\n      <use xlink:href=\"#DejaVuSans-54\"/>\r\n      <use x=\"60.818359\" xlink:href=\"#DejaVuSans-65\"/>\r\n      <use x=\"122.341797\" xlink:href=\"#DejaVuSans-73\"/>\r\n      <use x=\"174.441406\" xlink:href=\"#DejaVuSans-74\"/>\r\n      <use x=\"213.650391\" xlink:href=\"#DejaVuSans-20\"/>\r\n      <use x=\"245.4375\" xlink:href=\"#DejaVuSans-41\"/>\r\n      <use x=\"313.830078\" xlink:href=\"#DejaVuSans-63\"/>\r\n      <use x=\"368.810547\" xlink:href=\"#DejaVuSans-63\"/>\r\n      <use x=\"423.791016\" xlink:href=\"#DejaVuSans-20\"/>\r\n      <use x=\"455.578125\" xlink:href=\"#DejaVuSans-66\"/>\r\n      <use x=\"490.783203\" xlink:href=\"#DejaVuSans-6f\"/>\r\n      <use x=\"551.964844\" xlink:href=\"#DejaVuSans-72\"/>\r\n      <use x=\"593.078125\" xlink:href=\"#DejaVuSans-20\"/>\r\n      <use x=\"624.865234\" xlink:href=\"#DejaVuSans-31\"/>\r\n      <use x=\"688.488281\" xlink:href=\"#DejaVuSans-30\"/>\r\n     </g>\r\n    </g>\r\n    <g id=\"line2d_31\">\r\n     <path d=\"M 979.530625 484.0025 \r\nL 1011.530625 484.0025 \r\n\" style=\"fill:none;stroke:#008000;stroke-dasharray:5.55,2.4;stroke-dashoffset:0;stroke-width:1.5;\"/>\r\n    </g>\r\n    <g id=\"line2d_32\"/>\r\n    <g id=\"text_24\">\r\n     <!-- Train Acc for 10 -->\r\n     <g transform=\"translate(1024.330625 489.6025)scale(0.16 -0.16)\">\r\n      <use xlink:href=\"#DejaVuSans-54\"/>\r\n      <use x=\"60.865234\" xlink:href=\"#DejaVuSans-72\"/>\r\n      <use x=\"101.978516\" xlink:href=\"#DejaVuSans-61\"/>\r\n      <use x=\"163.257812\" xlink:href=\"#DejaVuSans-69\"/>\r\n      <use x=\"191.041016\" xlink:href=\"#DejaVuSans-6e\"/>\r\n      <use x=\"254.419922\" xlink:href=\"#DejaVuSans-20\"/>\r\n      <use x=\"286.207031\" xlink:href=\"#DejaVuSans-41\"/>\r\n      <use x=\"354.599609\" xlink:href=\"#DejaVuSans-63\"/>\r\n      <use x=\"409.580078\" xlink:href=\"#DejaVuSans-63\"/>\r\n      <use x=\"464.560547\" xlink:href=\"#DejaVuSans-20\"/>\r\n      <use x=\"496.347656\" xlink:href=\"#DejaVuSans-66\"/>\r\n      <use x=\"531.552734\" xlink:href=\"#DejaVuSans-6f\"/>\r\n      <use x=\"592.734375\" xlink:href=\"#DejaVuSans-72\"/>\r\n      <use x=\"633.847656\" xlink:href=\"#DejaVuSans-20\"/>\r\n      <use x=\"665.634766\" xlink:href=\"#DejaVuSans-31\"/>\r\n      <use x=\"729.257812\" xlink:href=\"#DejaVuSans-30\"/>\r\n     </g>\r\n    </g>\r\n    <g id=\"line2d_33\">\r\n     <path d=\"M 979.530625 507.4875 \r\nL 1011.530625 507.4875 \r\n\" style=\"fill:none;stroke:#0000ff;stroke-linecap:square;stroke-width:1.5;\"/>\r\n    </g>\r\n    <g id=\"line2d_34\"/>\r\n    <g id=\"text_25\">\r\n     <!-- Test Acc for 20 -->\r\n     <g transform=\"translate(1024.330625 513.0875)scale(0.16 -0.16)\">\r\n      <use xlink:href=\"#DejaVuSans-54\"/>\r\n      <use x=\"60.818359\" xlink:href=\"#DejaVuSans-65\"/>\r\n      <use x=\"122.341797\" xlink:href=\"#DejaVuSans-73\"/>\r\n      <use x=\"174.441406\" xlink:href=\"#DejaVuSans-74\"/>\r\n      <use x=\"213.650391\" xlink:href=\"#DejaVuSans-20\"/>\r\n      <use x=\"245.4375\" xlink:href=\"#DejaVuSans-41\"/>\r\n      <use x=\"313.830078\" xlink:href=\"#DejaVuSans-63\"/>\r\n      <use x=\"368.810547\" xlink:href=\"#DejaVuSans-63\"/>\r\n      <use x=\"423.791016\" xlink:href=\"#DejaVuSans-20\"/>\r\n      <use x=\"455.578125\" xlink:href=\"#DejaVuSans-66\"/>\r\n      <use x=\"490.783203\" xlink:href=\"#DejaVuSans-6f\"/>\r\n      <use x=\"551.964844\" xlink:href=\"#DejaVuSans-72\"/>\r\n      <use x=\"593.078125\" xlink:href=\"#DejaVuSans-20\"/>\r\n      <use x=\"624.865234\" xlink:href=\"#DejaVuSans-32\"/>\r\n      <use x=\"688.488281\" xlink:href=\"#DejaVuSans-30\"/>\r\n     </g>\r\n    </g>\r\n    <g id=\"line2d_35\">\r\n     <path d=\"M 979.530625 530.9725 \r\nL 1011.530625 530.9725 \r\n\" style=\"fill:none;stroke:#0000ff;stroke-dasharray:5.55,2.4;stroke-dashoffset:0;stroke-width:1.5;\"/>\r\n    </g>\r\n    <g id=\"line2d_36\"/>\r\n    <g id=\"text_26\">\r\n     <!-- Train Acc for 20 -->\r\n     <g transform=\"translate(1024.330625 536.5725)scale(0.16 -0.16)\">\r\n      <use xlink:href=\"#DejaVuSans-54\"/>\r\n      <use x=\"60.865234\" xlink:href=\"#DejaVuSans-72\"/>\r\n      <use x=\"101.978516\" xlink:href=\"#DejaVuSans-61\"/>\r\n      <use x=\"163.257812\" xlink:href=\"#DejaVuSans-69\"/>\r\n      <use x=\"191.041016\" xlink:href=\"#DejaVuSans-6e\"/>\r\n      <use x=\"254.419922\" xlink:href=\"#DejaVuSans-20\"/>\r\n      <use x=\"286.207031\" xlink:href=\"#DejaVuSans-41\"/>\r\n      <use x=\"354.599609\" xlink:href=\"#DejaVuSans-63\"/>\r\n      <use x=\"409.580078\" xlink:href=\"#DejaVuSans-63\"/>\r\n      <use x=\"464.560547\" xlink:href=\"#DejaVuSans-20\"/>\r\n      <use x=\"496.347656\" xlink:href=\"#DejaVuSans-66\"/>\r\n      <use x=\"531.552734\" xlink:href=\"#DejaVuSans-6f\"/>\r\n      <use x=\"592.734375\" xlink:href=\"#DejaVuSans-72\"/>\r\n      <use x=\"633.847656\" xlink:href=\"#DejaVuSans-20\"/>\r\n      <use x=\"665.634766\" xlink:href=\"#DejaVuSans-32\"/>\r\n      <use x=\"729.257812\" xlink:href=\"#DejaVuSans-30\"/>\r\n     </g>\r\n    </g>\r\n   </g>\r\n  </g>\r\n </g>\r\n <defs>\r\n  <clipPath id=\"p7ba33ebadf\">\r\n   <rect height=\"543.6\" width=\"1116\" x=\"49.588125\" y=\"10.7\"/>\r\n  </clipPath>\r\n </defs>\r\n</svg>\r\n",
      "text/plain": "<Figure size 1440x720 with 1 Axes>"
     },
     "metadata": {
      "needs_background": "light"
     },
     "output_type": "display_data"
    }
   ],
   "source": [
    "fig, ax = plt.subplots(nrows=1, ncols=1, figsize=(20,10))\n",
    "epochs_array = [i for i in range(1, 220, 20)]\n",
    "\n",
    "colors = ['r', 'g', 'b']\n",
    "for color, nn in zip(colors, nns):\n",
    "    plt.plot(epochs_array, nn.acc_test_array, color=color, label='Test Acc for ' + str(nn.sizes[1]))\n",
    "    plt.plot(epochs_array, nn.acc_train_array, color=color, ls='dashed', label='Train Acc for ' + str(nn.sizes[1]))\n",
    "\n",
    "ax.legend(loc=\"lower right\", fontsize=16)\n",
    "ax.set_xlabel(\"epochs\", fontsize=16)\n",
    "ax.set_ylabel(\"accuracy\", fontsize=16)\n",
    "plt.show()"
   ]
  },
  {
   "cell_type": "markdown",
   "metadata": {
    "deletable": false,
    "editable": false,
    "nbgrader": {
     "cell_type": "markdown",
     "checksum": "9cdbb2067c8b35fc50d7701498c5a636",
     "grade": false,
     "grade_id": "cell-ce9008bef635107d",
     "locked": true,
     "schema_version": 3,
     "solution": false,
     "task": false
    }
   },
   "source": [
    "Give your explanation below."
   ]
  },
  {
   "cell_type": "markdown",
   "metadata": {
    "deletable": false,
    "nbgrader": {
     "cell_type": "markdown",
     "checksum": "c4e73d7bb51d5e82e745832d85ed6aa2",
     "grade": true,
     "grade_id": "cell-fb5c5d0fd9a6d900",
     "locked": false,
     "points": 4,
     "schema_version": 3,
     "solution": true,
     "task": false
    }
   },
   "source": [
    "The more hidden layers, the higher the accuracy. This makes sense, since with a deeper network, the network is able to learn the function more accuractely."
   ]
  },
  {
   "cell_type": "markdown",
   "metadata": {
    "deletable": false,
    "editable": false,
    "nbgrader": {
     "cell_type": "markdown",
     "checksum": "e87adf1174c1dd47be5f7caefdbe28d6",
     "grade": false,
     "grade_id": "cell-460dc5490c1516b3",
     "locked": true,
     "schema_version": 3,
     "solution": false,
     "task": false
    }
   },
   "source": [
    "**Extra Credit [10 points]:** Implement dropout by filling the `back_prop_dropout` function and update the `SGD_train` function to use it. Explain the impact of dropout on performance."
   ]
  },
  {
   "cell_type": "code",
   "execution_count": 13,
   "metadata": {},
   "outputs": [
    {
     "name": "stderr",
     "output_type": "stream",
     "text": "TestBackPropDropoutWithoutRegularization (tests.tests.TestNetwork) ...Epoch   20: Train    0.70500\nEpoch   40: Train    0.76500\nok\n\n----------------------------------------------------------------------\nRan 1 test in 2.240s\n\nOK\n"
    }
   ],
   "source": [
    "from tests import tests\n",
    "tests.run_test_suite('prob 4', Network)"
   ]
  },
  {
   "cell_type": "code",
   "execution_count": 62,
   "metadata": {},
   "outputs": [
    {
     "name": "stdout",
     "output_type": "stream",
     "text": "Epoch    1: Train    0.11485, Test    0.11204\nEpoch   20: Train    0.10004, Test    0.10044\nEpoch   40: Train    0.44778, Test    0.42577\nEpoch   60: Train    0.71429, Test    0.65946\nEpoch   80: Train    0.74430, Test    0.69908\nEpoch  100: Train    0.75270, Test    0.71068\nEpoch  120: Train    0.83233, Test    0.76911\nEpoch  140: Train    0.85154, Test    0.79512\nEpoch  160: Train    0.85834, Test    0.80112\nEpoch  180: Train    0.85914, Test    0.80272\nEpoch  200: Train    0.86595, Test    0.80312\nEpoch  220: Train    0.86795, Test    0.80872\nEpoch  240: Train    0.86875, Test    0.80792\nEpoch  260: Train    0.87035, Test    0.80552\nEpoch  280: Train    0.87475, Test    0.80992\nEpoch  300: Train    0.87515, Test    0.80552\nEpoch  320: Train    0.87515, Test    0.81192\nEpoch  340: Train    0.87635, Test    0.80792\nEpoch  360: Train    0.87675, Test    0.80992\nEpoch  380: Train    0.87835, Test    0.81192\nEpoch  400: Train    0.87915, Test    0.81112\n"
    }
   ],
   "source": [
    "hidden_layer_dimensions = 60\n",
    "nn = Network([input_dimensions, hidden_layer_dimensions, output_dimensions], keep_prob=0.5)\n",
    "nn.SGD_train(train, epochs=400, eta=0.1, lam=0, verbose=True, test=test)"
   ]
  },
  {
   "cell_type": "markdown",
   "metadata": {
    "collapsed": true,
    "deletable": false,
    "nbgrader": {
     "cell_type": "markdown",
     "checksum": "d1f81c6e069ad24bed4034816ccc6c65",
     "grade": true,
     "grade_id": "cell-f7345360536d4c03",
     "locked": false,
     "points": 0,
     "schema_version": 3,
     "solution": true
    }
   },
   "source": [
    "With dropout, a much larger network can be trained, without overfitting to the data. Dropout thus acts as a regularizer on the network as a whole. Thus, the performance stays high on test data, even with lam set to 0. Running on 400 epochs without dropout would result in much lower performance on the test data."
   ]
  },
  {
   "cell_type": "markdown",
   "metadata": {
    "deletable": false,
    "editable": false,
    "nbgrader": {
     "cell_type": "markdown",
     "checksum": "33951d1b8527ae01d775c9f185ee94dd",
     "grade": false,
     "grade_id": "cell-65d25b85ad55bfe6",
     "locked": true,
     "schema_version": 3,
     "solution": false,
     "task": false
    }
   },
   "source": [
    "## [9 points] Problem 4 - Tensors and Autograd.\n",
    "In this problem, we will demonstrate the benefits of PyTorch's Autograd mechanics by converting your implementation from Problem to utilize PyTorch Tensors. This problem is not meant to be difficult, rather it should be quite simple once you've done Problem 3.\n",
    "\n",
    "Note that there are *better* ways to go about this which we will cover next. Here. we are keeping things as close to numpy as possible on purpose to show what's going on behind the scenes. Take a moment to look through our modifications to get an understanding of the differences. In the comments, we'll make notes of native torch functions that perform the same operations. \n",
    "\n",
    "Here, SGD is implemented manually to show you what's going on behind the scenes, but  usually you'd use [`torch.optim.SGD`](https://pytorch.org/docs/stable/optim.html#torch.optim.SGD). For future reference, the `weight_decay` parameter implements L2 normilazion. \n",
    "\n",
    "--- \n",
    "\n",
    "Before we move forward, let's cover a couple of points on notation. \n",
    "\n",
    "Just as it's best practice to do `import numpy as np`, PyTorch has best practices for imports as well:\n",
    "\n",
    "```python\n",
    "import torch \n",
    "import torch.nn as nn\n",
    "import torch.nn.functional as F\n",
    "```\n",
    "You'll find that many of the functions you've been learning in NumPy have direct translations in PyTorch. The documentation can be found [here](https://pytorch.org/docs/stable/index.html) and is very user friendly, but we'll cover a few notable differences. \n",
    "\n",
    "- The numpy parameter `axis` becomes `dim` in PyTorch.\n",
    "- Tensors have [view](https://pytorch.org/docs/stable/tensor_view.html) operations, which avoid copying data unnecasarily. Use these instead of `reshape()`. \n",
    "- Using `torch.from_numpy()` also avoids copying data stored in `numpy` arrays.\n",
    "- Numpy interprets `np.dot()` of 2D matrices as matrix multiplication. Pytorch does not have this behaviour, see instead [`torch.matmul()`](https://pytorch.org/docs/stable/generated/torch.matmul.html?highlight=matmul#torch.matmul)\n",
    "- PyTorch uses trailing underscores such as `torch.add_()` to denote in-place operations. As an example, the following operations are equivilent:\n",
    "```python\n",
    "x = x + y\n",
    "x = torch.add(x, y)\n",
    "x.add_(y)\n",
    "```\n",
    "You're likely to see these operations when randomly initializing Tensors, or filling a tensor with zeros:\n",
    "```python\n",
    "torch.nn.init.uniform_(x)\n",
    "x.zero_()\n",
    "```\n",
    "\n",
    "---\n",
    "Now onto the problem, your tasks are as follows:\n",
    "\n",
    "1. Modify `forward_prop` to work on PyTorch Tensors.\n",
    "2. Modify `SGD_step` to work on PyTorch Tensors. This is easier than it sounds, since with PyTorch we don't have to worry about calculating gradients manually."
   ]
  },
  {
   "cell_type": "code",
   "execution_count": 63,
   "metadata": {},
   "outputs": [],
   "source": [
    "import torch\n",
    "\n",
    "\n",
    "class TorchNetwork(Network):\n",
    "    def __init__(self, sizes, keep_prob=-1):\n",
    "        super().__init__(sizes, keep_prob)\n",
    "        \n",
    "        # Convert your weights and biases to Tensors.\n",
    "        # The flag requires_grad=True tells PyTorch to track gradients for us. \n",
    "        self.biases = [torch.tensor(b, requires_grad=True) for b in self.biases]\n",
    "        self.weights = [torch.tensor(w, requires_grad=True) for w in self.weights]\n",
    "        \n",
    "\n",
    "    def g(self, z):\n",
    "        \"\"\" Activation function\n",
    "            Could also use torch.sigmoid(z)\n",
    "        \"\"\"\n",
    "        return sigmoid_torch(z) \n",
    "\n",
    "    def forward_prop(self, a):\n",
    "        \"\"\" Memory aware forward propagation. \n",
    "            Now this is for both training and testing.\n",
    "        \n",
    "        \"\"\"\n",
    "        # TODO: Convert your forward_prop function from part a to work on Tensors. \n",
    "        # YOUR CODE HERE\n",
    "        for W, b in zip(self.weights, self.biases):\n",
    "            a = self.g(torch.matmul(W, a) + b)\n",
    "\n",
    "        return a\n",
    "\n",
    "    def cost(self, a, y):\n",
    "        \"\"\" Cost function, same as F.mse_loss()\n",
    "        \"\"\"\n",
    "        return ((a - y)**2).mean() \n",
    "            \n",
    "\n",
    "    def SGD_step(self, x, y, eta, lam):\n",
    "        \"\"\"\n",
    "            Performs a single step of SGD on weights and biases\n",
    "\n",
    "        Args:\n",
    "            x: single sample features.\n",
    "            y: single sample target.\n",
    "            eta: learning rate.\n",
    "            lam: Regularization parameter.\n",
    "                \n",
    "        \"\"\"\n",
    "        \n",
    "        # Zero out the old gradients if they exist. \n",
    "        # Would be optim.zero_grad() if we were using an optimizer.\n",
    "        for p in (*self.weights, *self.biases):\n",
    "            if p.grad is not None:\n",
    "                p.grad.detach_()\n",
    "                p.grad.zero_()\n",
    "            \n",
    "        # TODO: \n",
    "        # (1) call forward_prop to get a. \n",
    "        # (2) Calucate loss using the cost function.\n",
    "        # (3) Use loss.backward() to to perform backpropagation automatically.\n",
    "\n",
    "        # YOUR CODE HERE\n",
    "        a = self.forward_prop(x)\n",
    "        loss = self.cost(a, y)\n",
    "        loss.backward()\n",
    "\n",
    "        # Perform sgd update \n",
    "        # Would be optimizer.step()\n",
    "        with torch.no_grad():\n",
    "            # l2 regularization on weights only.\n",
    "            for p in self.weights:\n",
    "                p.grad.add_(p, alpha=lam)\n",
    "            # sgd update. \n",
    "            for p in (*self.weights, *self.biases):\n",
    "                p.add_(p.grad, alpha=-eta)\n",
    "                \n",
    "\n",
    "def sigmoid_torch(z, threshold=20):\n",
    "    \"\"\" Same as sigmoid before, now with torch.clamp() instead of np.clip().\n",
    "        We could also just use torch.sigmoid().\n",
    "    \"\"\"\n",
    "    z = torch.clamp(z, -threshold, threshold)\n",
    "    return 1.0 / (1.0 + torch.exp(-z))\n"
   ]
  },
  {
   "cell_type": "markdown",
   "metadata": {
    "deletable": false,
    "editable": false,
    "nbgrader": {
     "cell_type": "markdown",
     "checksum": "1206b00e94aeffbf21002354917dd1c1",
     "grade": false,
     "grade_id": "cell-6227665a74ae9306",
     "locked": true,
     "schema_version": 3,
     "solution": false,
     "task": false
    }
   },
   "source": [
    "**Part 5 [10 points]:** Implement `SGD_step` and `forward_prop`. Use the following test cases to verify if the code is working as expected."
   ]
  },
  {
   "cell_type": "code",
   "execution_count": 64,
   "metadata": {},
   "outputs": [
    {
     "name": "stderr",
     "output_type": "stream",
     "text": "TestBackPropWithoutRegularization (tests.tests.TestNetwork) ...ok\nTestBackPropWithRegularization (tests.tests.TestNetwork) ...ok\n\n----------------------------------------------------------------------\nRan 2 tests in 1.310s\n\nOK\n"
    }
   ],
   "source": [
    "from tests import tests\n",
    "tests.run_test_suite('prob 5', TorchNetwork)"
   ]
  },
  {
   "cell_type": "markdown",
   "metadata": {
    "deletable": false,
    "editable": false,
    "nbgrader": {
     "cell_type": "markdown",
     "checksum": "e53c4e1514a0bf02745f4af149c63e90",
     "grade": false,
     "grade_id": "cell-895751c3d6ccf24a",
     "locked": true,
     "schema_version": 3,
     "solution": false,
     "task": false
    }
   },
   "source": [
    "[23 Points] Problem 5 - Implement RNN Network to classify whether text is spam or ham \n",
    "---\n",
    "\n",
    "Dataset is obtained from UCI Machine Learning repository consisting of SMS tagged messages (labelled as either **ham** (legitimate) or **spam**) that have been collected for SMS Spam research.\n",
    "\n",
    "We will now use [PyTorch](https://pytorch.org/docs/stable/index.html) (Pytorch Lightning to be precise) to implement a classifier. Update the snippet below to build a model with an embedding layer, and an LSTM layer, and a dense layer. This question allows you to get familiar with popular deep learning toolkits and the solution only has a few lines. In practice, there is no need to reinvent the wheels.\n",
    "\n",
    "\n",
    "Learn more about RNN : https://colah.github.io/posts/2015-08-Understanding-LSTMs/\n",
    "\n",
    "**Note**: You need to install Tensorflow for this problem (CPU version if you do not have a nvidia GPU). You can find installation instructions [here](https://www.tensorflow.org/install)\n",
    "\n",
    "If you are using Anaconda, install the CPU version by doing \n",
    "``` the end of the sequence, called pre- or post-sequence padding, can be specified by the “padding” argument, as follows.\n",
    "Pre-Sequence Padding\n",
    "\n",
    "Pre-sequence padding is the default (padding=’pre’)\n",
    "conda install 'tensorflow=*=mkl*'\n",
    "```"
   ]
  },
  {
   "cell_type": "markdown",
   "metadata": {},
   "source": [
    "The following class converts textual data to sequences of numbers. Initially, we create a vocabulary of words such that each word is associated with a particular number. Then, for each new sentence, each word is replaced by its corresponding encoding.\n",
    "\n",
    "For example, if we had an encoding : \"I\" : 1, \"am\" : 5, \"alive\"  : 9\n",
    "Then the sentence \"I am alive\" would be represented as [1, 5, 9]\n",
    "\n",
    "Now, since sentences can be of varying lengths and inputs to neural networks are fixed in size, we the input size to our model to be lager than the largest sentence and pad smaller sentences with 0's."
   ]
  },
  {
   "cell_type": "code",
   "execution_count": 65,
   "metadata": {},
   "outputs": [],
   "source": [
    "import multiprocessing as mp\n",
    "import pickle\n",
    "import pandas as pd\n",
    "import pytorch_lightning as pl\n",
    "import torch\n",
    "import torch.nn as nn\n",
    "import torch.nn.functional as F\n",
    "\n",
    "from tensorflow.keras.preprocessing import sequence\n",
    "from tensorflow.keras.preprocessing.text import Tokenizer\n",
    "from torch.utils.data import DataLoader, TensorDataset\n",
    "\n",
    "import pytorch_lightning as pl\n",
    "from pytorch_lightning.loggers import CSVLogger\n",
    "\n",
    "class SpamHam(pl.LightningDataModule):\n",
    "    \"\"\" A datamodule for the RNN. You shouldn't have to modify this class.\"\"\"\n",
    "    def __init__(self, dict_size=5000, example_length=150, batch_size=128):\n",
    "        super().__init__()\n",
    "\n",
    "        self.dict_size = dict_size\n",
    "        self.batch_size = batch_size\n",
    "        self.example_length = example_length\n",
    "\n",
    "        # preprocess training data\n",
    "        self.tok = Tokenizer(num_words=dict_size)\n",
    "\n",
    "    def load_data(self, location):\n",
    "        return pickle.load(open(location, 'rb'))\n",
    "\n",
    "    def make_dataset(self, x, y, tok=None):\n",
    "        # tokenize\n",
    "        sequences = self.tok.texts_to_sequences(x)\n",
    "        x = sequence.pad_sequences(sequences, maxlen=self.example_length)\n",
    "\n",
    "        # make torch arrays.\n",
    "        x = torch.from_numpy(x).to(torch.int64)\n",
    "        y = torch.from_numpy(y).to(torch.float32)\n",
    "\n",
    "        return TensorDataset(x, y)\n",
    "\n",
    "    def setup(self, stage):\n",
    "        # load data\n",
    "        train_x, test_x, train_y, test_y = self.load_data('./data/spam_data.pkl')\n",
    "        \n",
    "        # fit tokenizer\n",
    "        self.tok.fit_on_texts(train_x)        \n",
    "        \n",
    "        # make datasets\n",
    "        self.train = self.make_dataset(train_x, train_y)\n",
    "        self.test = self.make_dataset(test_x, test_y)\n",
    "\n",
    "    def train_dataloader(self):\n",
    "        return DataLoader(self.train, batch_size=self.batch_size, shuffle=True,\n",
    "                          num_workers=mp.cpu_count() // 4)\n",
    "\n",
    "    def test_dataloader(self):\n",
    "        return DataLoader(self.test, batch_size=self.batch_size, shuffle=False,\n",
    "                          num_workers=mp.cpu_count() // 4)"
   ]
  },
  {
   "cell_type": "markdown",
   "metadata": {
    "deletable": false,
    "editable": false,
    "nbgrader": {
     "cell_type": "markdown",
     "checksum": "9f7434f90f85937d2eb5e82ee2f0be1b",
     "grade": false,
     "grade_id": "cell-317b71960ee93b6d",
     "locked": true,
     "schema_version": 3,
     "solution": false,
     "task": false
    }
   },
   "source": [
    "### Part 1 [15 points]\n",
    "PyTorch Lightning expects your model to follow a standard class template. Once certain functions are completed, pl.Trainer() allows you train the model without explicitly writing a training loop. In the following example, you need to define the model and how the input is propagated through the model (called the forward pass) and then create the training and test steps.\n",
    "\n",
    "Complete the functions `init`, `training_step`, and `test_step` and `forward`functions. "
   ]
  },
  {
   "cell_type": "code",
   "execution_count": 138,
   "metadata": {},
   "outputs": [],
   "source": [
    "class RNN(pl.LightningModule):\n",
    "    \"\"\" RNN classifier \"\"\"\n",
    "\n",
    "    def __init__(self, embedding_length=32, dict_size=5000, example_length=150):\n",
    "        \"\"\"\n",
    "        initialize RNN model\n",
    "        :param embedding_length: size of word embedding\n",
    "        \"\"\"\n",
    "        super().__init__()\n",
    "\n",
    "        # To complete this function, you will need PyTorch's Embedding, LSTM and linear layers.\n",
    "        \n",
    "        # The embedding layer simply creates a dictionary between words in your vocabulary and their vector \n",
    "        # representations. Therefore, each word has a unique representation.\n",
    "        # For instance, say your input x is encoded as [1, 5, 9] and embedding_dim = 32 (see documentation for \n",
    "        # arguments to this layer), then after passing through the embedding layer the output will be \n",
    "        # of shape 3x32\n",
    "        \n",
    "        # Documentation for LSTM layer in :\n",
    "        #     https://pytorch.org/docs/stable/generated/torch.nn.LSTM.html#torch.nn.LSTM\n",
    "        \n",
    "        # Note there are multiple ways to define your model, \n",
    "        # we suggest adding individual layers here, but any method is fine.\n",
    "        \n",
    "        # As an example, you could define a linear layer with n inputs and m outputs like so:\n",
    "        # self.linear = nn.Linear(n, m)\n",
    "        \n",
    "        # Similarly, define the three layers needed for your model\n",
    "        \n",
    "        # TODO: build model by defining individual layers in the network\n",
    "            \n",
    "        # YOUR CODE HERE\n",
    "        # hidden_nodes = 1000\n",
    "        self.embedding = nn.Embedding(dict_size, embedding_length)\n",
    "        self.lstm = nn.LSTM(embedding_length, example_length, batch_first=True, num_layers=3)\n",
    "        self.linear = nn.Linear(example_length, 1)\n",
    "        \n",
    "        self.example_input_array = torch.zeros([1, 150], dtype=torch.int64)\n",
    "\n",
    "    def configure_optimizers(self):\n",
    "        return torch.optim.Adam(self.parameters())\n",
    "\n",
    "    def forward(self, x):\n",
    "        \"\"\"\n",
    "        \n",
    "        Pytorch allows you to stack layers on top of each other very easily.\n",
    "        \n",
    "        For example, if we have layers self.layer1 and self.layer2 acting on input x, we can do\n",
    "        out_1 = self.layer1(x)\n",
    "        out_2 = self.layer2(out_1)\n",
    "        This would constitute a forward pass for the above hypothetical network.\n",
    "        \n",
    "        Your job in this function is to propagate the input x through the network you defined in __init__()\n",
    "        \n",
    "        TODO:\n",
    "        1. Pass input though embedding layer\n",
    "        2. Propagate output of previous step through LSTM\n",
    "        3. Pass final output of LSTM through linear layer\n",
    "        4. Apply Sigmoid activation (torch.sigmoid()) to output of step 3 to obtain probabilities\n",
    "        \"\"\"\n",
    "        \n",
    "        # YOUR CODE HERE\n",
    "        x = self.embedding(x)\n",
    "        x, (hidden, cells) = self.lstm(x)\n",
    "        x = self.linear(x[:, -1])\n",
    "        out = torch.sigmoid(x)\n",
    "        return out\n",
    "\n",
    "    def accuracy(self, y_hat, y):\n",
    "        return (y == y_hat.round()).to(torch.float32).mean()\n",
    "\n",
    "    def training_step(self, batch, batch_idx):\n",
    "        \"\"\" Perfom a training step. \n",
    "        \n",
    "        This is just one step on one batch during training (no looping required) \n",
    "        \n",
    "        TODO:\n",
    "            - forward pass on data in batch\n",
    "            - compute training loss (use PyTorch's F.binary_cross_entropy since this is binary classification)\n",
    "            - Compute training accuracy (using the self.accuracy function)\n",
    "        \"\"\"\n",
    "        \n",
    "        # YOUR CODE HERE\n",
    "        x, y = batch\n",
    "        preds = self.forward(x)\n",
    "        loss = F.binary_cross_entropy(preds, y)\n",
    "        acc = self.accuracy(preds, y)\n",
    "        # We implemented logging for you. \n",
    "        result = pl.TrainResult(loss)\n",
    "        result.log('train_loss', loss)\n",
    "        result.log('train_accuracy', acc, prog_bar=True)\n",
    "        return result\n",
    "\n",
    "    def test_step(self, batch, batch_idx):\n",
    "        \"\"\" Perfom a test step \n",
    "            hint: your code should be the same as your train step\n",
    "        \n",
    "        TODO:\n",
    "            - forward pass on data in batch\n",
    "            - compute test loss \n",
    "            - Compute test accuracy  \n",
    "        \"\"\"\n",
    "        # YOUR CODE HERE\n",
    "        x, y = batch\n",
    "        preds = self.forward(x)\n",
    "        loss = F.binary_cross_entropy(preds, y)\n",
    "        acc = self.accuracy(preds, y)\n",
    "        \n",
    "        # We implemented logging for you. \n",
    "        result = pl.EvalResult(loss)\n",
    "        result.log('test_loss', loss, prog_bar=True)\n",
    "        result.log('test_acc', acc, prog_bar=True)\n",
    "\n",
    "        return result\n"
   ]
  },
  {
   "cell_type": "code",
   "execution_count": 142,
   "metadata": {},
   "outputs": [
    {
     "name": "stderr",
     "output_type": "stream",
     "text": "GPU available: True, used: True\nGPU available: True, used: True\nTPU available: False, using: 0 TPU cores\nTPU available: False, using: 0 TPU cores\nCUDA_VISIBLE_DEVICES: [0]\nCUDA_VISIBLE_DEVICES: [0]\n\n  | Name      | Type      | Params | In sizes     | Out sizes                                  \n-----------------------------------------------------------------------------------------------------\n0 | embedding | Embedding | 160 K  | [1, 150]     | [1, 150, 32]                               \n1 | lstm      | LSTM      | 472 K  | [1, 150, 32] | [[1, 150, 150], [[3, 1, 150], [3, 1, 150]]]\n2 | linear    | Linear    | 151    | [1, 150]     | [1, 1]                                     \n\n  | Name      | Type      | Params | In sizes     | Out sizes                                  \n-----------------------------------------------------------------------------------------------------\n0 | embedding | Embedding | 160 K  | [1, 150]     | [1, 150, 32]                               \n1 | lstm      | LSTM      | 472 K  | [1, 150, 32] | [[1, 150, 150], [[3, 1, 150], [3, 1, 150]]]\n2 | linear    | Linear    | 151    | [1, 150]     | [1, 1]                                     \nEpoch 4: 100%|██████████| 37/37 [00:02<00:00, 14.89it/s, loss=0.076, v_num=100, train_accuracy=1]Saving latest checkpoint..\nSaving latest checkpoint..\nEpoch 4: 100%|██████████| 37/37 [00:02<00:00, 14.58it/s, loss=0.076, v_num=100, train_accuracy=1]\nTesting: 100%|██████████| 7/7 [00:01<00:00,  5.05it/s]\nAccuracy for LSTM:  0.9833902716636658\n"
    }
   ],
   "source": [
    "# Define your data \n",
    "spam_ham_dm = SpamHam()\n",
    "\n",
    "def run_rnn(**kwargs):\n",
    "    # helper function for running RNN.\n",
    "    logger = CSVLogger(\"logs\", name=\"rnn\")\n",
    "    trainer = pl.Trainer(\n",
    "        gpus=int(torch.cuda.is_available()),\n",
    "        logger=logger,\n",
    "        min_epochs=5,\n",
    "        max_epochs=5,\n",
    "        row_log_interval=1,\n",
    "        log_save_interval=1,\n",
    "        deterministic=True\n",
    "    )\n",
    "    model = RNN(**kwargs)\n",
    "    trainer.fit(model, spam_ham_dm)\n",
    "    results = trainer.test(verbose=False)\n",
    "    return results, logger.experiment.metrics_file_path\n",
    "\n",
    "results, _ = run_rnn()\n",
    "print('Accuracy for LSTM: ', results[0]['test_acc'])"
   ]
  },
  {
   "cell_type": "markdown",
   "metadata": {
    "collapsed": true,
    "deletable": false,
    "nbgrader": {
     "cell_type": "markdown",
     "checksum": "2ccf7f440d3189f35e9610eacb0c3bec",
     "grade": true,
     "grade_id": "cell-41f4dc66c60e24b2",
     "locked": false,
     "points": 15,
     "schema_version": 3,
     "solution": true,
     "task": false
    }
   },
   "source": [
    "YOUR ANSWER HERE"
   ]
  },
  {
   "cell_type": "markdown",
   "metadata": {
    "deletable": false,
    "editable": false,
    "nbgrader": {
     "cell_type": "markdown",
     "checksum": "f26e2f2c38d1ddd3c8d5cca106f4f31a",
     "grade": false,
     "grade_id": "cell-41cfba637db6a1a9",
     "locked": true,
     "schema_version": 3,
     "solution": false,
     "task": false
    }
   },
   "source": [
    "### Part 2 [8 points]\n",
    "* Change the embedding length and experiment with these values: [8, 16, 32, 48, 64].\n",
    "* Plot training accuracies of different embedding lengths vs. epochs.\n",
    "* Observe and explain the impact of embedding length in LSTM Model."
   ]
  },
  {
   "cell_type": "code",
   "execution_count": 145,
   "metadata": {},
   "outputs": [
    {
     "name": "stderr",
     "output_type": "stream",
     "text": "GPU available: True, used: True\nGPU available: True, used: True\nTPU available: False, using: 0 TPU cores\nTPU available: False, using: 0 TPU cores\nCUDA_VISIBLE_DEVICES: [0]\nCUDA_VISIBLE_DEVICES: [0]\n\n  | Name      | Type      | Params | In sizes    | Out sizes                                  \n----------------------------------------------------------------------------------------------------\n0 | embedding | Embedding | 40 K   | [1, 150]    | [1, 150, 8]                                \n1 | lstm      | LSTM      | 458 K  | [1, 150, 8] | [[1, 150, 150], [[3, 1, 150], [3, 1, 150]]]\n2 | linear    | Linear    | 151    | [1, 150]    | [1, 1]                                     \n\n  | Name      | Type      | Params | In sizes    | Out sizes                                  \n----------------------------------------------------------------------------------------------------\n0 | embedding | Embedding | 40 K   | [1, 150]    | [1, 150, 8]                                \n1 | lstm      | LSTM      | 458 K  | [1, 150, 8] | [[1, 150, 150], [[3, 1, 150], [3, 1, 150]]]\n2 | linear    | Linear    | 151    | [1, 150]    | [1, 1]                                     \nEpoch 4: 100%|██████████| 37/37 [00:02<00:00, 15.72it/s, loss=0.187, v_num=106, train_accuracy=0.93]Saving latest checkpoint..\nSaving latest checkpoint..\nEpoch 4: 100%|██████████| 37/37 [00:02<00:00, 15.51it/s, loss=0.187, v_num=106, train_accuracy=0.93]\nTesting: 100%|██████████| 7/7 [00:01<00:00,  5.01it/s]GPU available: True, used: True\nGPU available: True, used: True\nTPU available: False, using: 0 TPU cores\nTPU available: False, using: 0 TPU cores\nCUDA_VISIBLE_DEVICES: [0]\nCUDA_VISIBLE_DEVICES: [0]\n\n  | Name      | Type      | Params | In sizes     | Out sizes                                  \n-----------------------------------------------------------------------------------------------------\n0 | embedding | Embedding | 80 K   | [1, 150]     | [1, 150, 16]                               \n1 | lstm      | LSTM      | 463 K  | [1, 150, 16] | [[1, 150, 150], [[3, 1, 150], [3, 1, 150]]]\n2 | linear    | Linear    | 151    | [1, 150]     | [1, 1]                                     \n\n  | Name      | Type      | Params | In sizes     | Out sizes                                  \n-----------------------------------------------------------------------------------------------------\n0 | embedding | Embedding | 80 K   | [1, 150]     | [1, 150, 16]                               \n1 | lstm      | LSTM      | 463 K  | [1, 150, 16] | [[1, 150, 150], [[3, 1, 150], [3, 1, 150]]]\n2 | linear    | Linear    | 151    | [1, 150]     | [1, 1]                                     \n\nAccuracy for LSTM:  0.9455751180648804\nEpoch 4: 100%|██████████| 37/37 [00:02<00:00, 16.03it/s, loss=0.128, v_num=107, train_accuracy=0.938]Saving latest checkpoint..\nSaving latest checkpoint..\nEpoch 4: 100%|██████████| 37/37 [00:02<00:00, 15.77it/s, loss=0.128, v_num=107, train_accuracy=0.938]\nTesting: 100%|██████████| 7/7 [00:01<00:00,  5.17it/s]GPU available: True, used: True\nGPU available: True, used: True\nTPU available: False, using: 0 TPU cores\nTPU available: False, using: 0 TPU cores\nCUDA_VISIBLE_DEVICES: [0]\nCUDA_VISIBLE_DEVICES: [0]\n\n  | Name      | Type      | Params | In sizes     | Out sizes                                  \n-----------------------------------------------------------------------------------------------------\n0 | embedding | Embedding | 160 K  | [1, 150]     | [1, 150, 32]                               \n1 | lstm      | LSTM      | 472 K  | [1, 150, 32] | [[1, 150, 150], [[3, 1, 150], [3, 1, 150]]]\n2 | linear    | Linear    | 151    | [1, 150]     | [1, 1]                                     \n\n  | Name      | Type      | Params | In sizes     | Out sizes                                  \n-----------------------------------------------------------------------------------------------------\n0 | embedding | Embedding | 160 K  | [1, 150]     | [1, 150, 32]                               \n1 | lstm      | LSTM      | 472 K  | [1, 150, 32] | [[1, 150, 150], [[3, 1, 150], [3, 1, 150]]]\n2 | linear    | Linear    | 151    | [1, 150]     | [1, 1]                                     \n\nAccuracy for LSTM:  0.9665178656578064\nEpoch 4: 100%|██████████| 37/37 [00:02<00:00, 15.74it/s, loss=0.075, v_num=108, train_accuracy=0.977]Saving latest checkpoint..\nSaving latest checkpoint..\nEpoch 4: 100%|██████████| 37/37 [00:02<00:00, 15.44it/s, loss=0.075, v_num=108, train_accuracy=0.977]\nTesting: 100%|██████████| 7/7 [00:01<00:00,  4.98it/s]GPU available: True, used: True\nGPU available: True, used: True\nTPU available: False, using: 0 TPU cores\nTPU available: False, using: 0 TPU cores\nCUDA_VISIBLE_DEVICES: [0]\nCUDA_VISIBLE_DEVICES: [0]\n\n  | Name      | Type      | Params | In sizes     | Out sizes                                  \n-----------------------------------------------------------------------------------------------------\n0 | embedding | Embedding | 240 K  | [1, 150]     | [1, 150, 48]                               \n1 | lstm      | LSTM      | 482 K  | [1, 150, 48] | [[1, 150, 150], [[3, 1, 150], [3, 1, 150]]]\n2 | linear    | Linear    | 151    | [1, 150]     | [1, 1]                                     \n\n  | Name      | Type      | Params | In sizes     | Out sizes                                  \n-----------------------------------------------------------------------------------------------------\n0 | embedding | Embedding | 240 K  | [1, 150]     | [1, 150, 48]                               \n1 | lstm      | LSTM      | 482 K  | [1, 150, 48] | [[1, 150, 150], [[3, 1, 150], [3, 1, 150]]]\n2 | linear    | Linear    | 151    | [1, 150]     | [1, 1]                                     \n\nAccuracy for LSTM:  0.9744616746902466\nEpoch 4: 100%|██████████| 37/37 [00:02<00:00, 15.65it/s, loss=0.047, v_num=109, train_accuracy=0.977]Saving latest checkpoint..\nSaving latest checkpoint..\nEpoch 4: 100%|██████████| 37/37 [00:02<00:00, 15.38it/s, loss=0.047, v_num=109, train_accuracy=0.977]\nTesting: 100%|██████████| 7/7 [00:01<00:00,  5.16it/s]GPU available: True, used: True\nGPU available: True, used: True\nTPU available: False, using: 0 TPU cores\nTPU available: False, using: 0 TPU cores\nCUDA_VISIBLE_DEVICES: [0]\nCUDA_VISIBLE_DEVICES: [0]\n\n  | Name      | Type      | Params | In sizes     | Out sizes                                  \n-----------------------------------------------------------------------------------------------------\n0 | embedding | Embedding | 320 K  | [1, 150]     | [1, 150, 64]                               \n1 | lstm      | LSTM      | 492 K  | [1, 150, 64] | [[1, 150, 150], [[3, 1, 150], [3, 1, 150]]]\n2 | linear    | Linear    | 151    | [1, 150]     | [1, 1]                                     \n\n  | Name      | Type      | Params | In sizes     | Out sizes                                  \n-----------------------------------------------------------------------------------------------------\n0 | embedding | Embedding | 320 K  | [1, 150]     | [1, 150, 64]                               \n1 | lstm      | LSTM      | 492 K  | [1, 150, 64] | [[1, 150, 150], [[3, 1, 150], [3, 1, 150]]]\n2 | linear    | Linear    | 151    | [1, 150]     | [1, 1]                                     \n\nAccuracy for LSTM:  0.9811581373214722\nEpoch 4: 100%|██████████| 37/37 [00:02<00:00, 15.49it/s, loss=0.049, v_num=110, train_accuracy=0.992]Saving latest checkpoint..\nSaving latest checkpoint..\nEpoch 4: 100%|██████████| 37/37 [00:02<00:00, 15.17it/s, loss=0.049, v_num=110, train_accuracy=0.992]\nTesting: 100%|██████████| 7/7 [00:01<00:00,  5.23it/s]\nAccuracy for LSTM:  0.984375\n"
    }
   ],
   "source": [
    "mfiles = []\n",
    "test_accuracy_array = []\n",
    "\n",
    "for embedding_len in [8, 16, 32, 48, 64]:    \n",
    "    results, metrics = run_rnn(embedding_length=embedding_len)\n",
    "    print('Accuracy for LSTM: ', results[0]['test_acc'])\n",
    "    mfiles.append(metrics)\n",
    "\n",
    "train_accuracy_matrix = np.array(\n",
    "    [pd.read_csv(f)[\"train_accuracy\"].values for f in mfiles])"
   ]
  },
  {
   "cell_type": "markdown",
   "metadata": {
    "deletable": false,
    "editable": false,
    "nbgrader": {
     "cell_type": "markdown",
     "checksum": "70841200f15334e929c905c548786aba",
     "grade": false,
     "grade_id": "cell-c89ec93459d7f684",
     "locked": true,
     "schema_version": 3,
     "solution": false,
     "task": false
    }
   },
   "source": [
    "Plot training results below."
   ]
  },
  {
   "cell_type": "code",
   "execution_count": 146,
   "metadata": {},
   "outputs": [
    {
     "data": {
      "image/png": "[encoded data removed]",
      "image/svg+xml": "<?xml version=\"1.0\" encoding=\"utf-8\" standalone=\"no\"?>\r\n<!DOCTYPE svg PUBLIC \"-//W3C//DTD SVG 1.1//EN\"\r\n  \"http://www.w3.org/Graphics/SVG/1.1/DTD/svg11.dtd\">\r\n<!-- Created with matplotlib (http://matplotlib.org/) -->\r\n<svg height=\"597.663125pt\" version=\"1.1\" viewBox=\"0 0 1176.288125 597.663125\" width=\"1176.288125pt\" xmlns=\"http://www.w3.org/2000/svg\" xmlns:xlink=\"http://www.w3.org/1999/xlink\">\r\n <defs>\r\n  <style type=\"text/css\">\r\n*{stroke-linecap:butt;stroke-linejoin:round;}\r\n  </style>\r\n </defs>\r\n <g id=\"figure_1\">\r\n  <g id=\"patch_1\">\r\n   <path d=\"M 0 597.663125 \r\nL 1176.288125 597.663125 \r\nL 1176.288125 0 \r\nL 0 0 \r\nz\r\n\" style=\"fill:none;\"/>\r\n  </g>\r\n  <g id=\"axes_1\">\r\n   <g id=\"patch_2\">\r\n    <path d=\"M 49.588125 554.3 \r\nL 1165.588125 554.3 \r\nL 1165.588125 10.7 \r\nL 49.588125 10.7 \r\nz\r\n\" style=\"fill:#ffffff;\"/>\r\n   </g>\r\n   <g id=\"matplotlib.axis_1\">\r\n    <g id=\"xtick_1\">\r\n     <g id=\"line2d_1\">\r\n      <path clip-path=\"url(#p99f8232b1f)\" d=\"M 100.315398 554.3 \r\nL 100.315398 10.7 \r\n\" style=\"fill:none;opacity:0.25;stroke:#b0b0b0;stroke-linecap:square;stroke-width:0.8;\"/>\r\n     </g>\r\n     <g id=\"line2d_2\">\r\n      <defs>\r\n       <path d=\"M 0 0 \r\nL 0 3.5 \r\n\" id=\"m3cdebfd519\" style=\"stroke:#000000;stroke-width:0.8;\"/>\r\n      </defs>\r\n      <g>\r\n       <use style=\"stroke:#000000;stroke-width:0.8;\" x=\"100.315398\" xlink:href=\"#m3cdebfd519\" y=\"554.3\"/>\r\n      </g>\r\n     </g>\r\n     <g id=\"text_1\">\r\n      <!-- 0.0 -->\r\n      <defs>\r\n       <path d=\"M 31.78125 66.40625 \r\nQ 24.171875 66.40625 20.328125 58.90625 \r\nQ 16.5 51.421875 16.5 36.375 \r\nQ 16.5 21.390625 20.328125 13.890625 \r\nQ 24.171875 6.390625 31.78125 6.390625 \r\nQ 39.453125 6.390625 43.28125 13.890625 \r\nQ 47.125 21.390625 47.125 36.375 \r\nQ 47.125 51.421875 43.28125 58.90625 \r\nQ 39.453125 66.40625 31.78125 66.40625 \r\nz\r\nM 31.78125 74.21875 \r\nQ 44.046875 74.21875 50.515625 64.515625 \r\nQ 56.984375 54.828125 56.984375 36.375 \r\nQ 56.984375 17.96875 50.515625 8.265625 \r\nQ 44.046875 -1.421875 31.78125 -1.421875 \r\nQ 19.53125 -1.421875 13.0625 8.265625 \r\nQ 6.59375 17.96875 6.59375 36.375 \r\nQ 6.59375 54.828125 13.0625 64.515625 \r\nQ 19.53125 74.21875 31.78125 74.21875 \r\nz\r\n\" id=\"DejaVuSans-30\"/>\r\n       <path d=\"M 10.6875 12.40625 \r\nL 21 12.40625 \r\nL 21 0 \r\nL 10.6875 0 \r\nz\r\n\" id=\"DejaVuSans-2e\"/>\r\n      </defs>\r\n      <g transform=\"translate(92.363835 568.898437)scale(0.1 -0.1)\">\r\n       <use xlink:href=\"#DejaVuSans-30\"/>\r\n       <use x=\"63.623047\" xlink:href=\"#DejaVuSans-2e\"/>\r\n       <use x=\"95.410156\" xlink:href=\"#DejaVuSans-30\"/>\r\n      </g>\r\n     </g>\r\n    </g>\r\n    <g id=\"xtick_2\">\r\n     <g id=\"line2d_3\">\r\n      <path clip-path=\"url(#p99f8232b1f)\" d=\"M 227.13358 554.3 \r\nL 227.13358 10.7 \r\n\" style=\"fill:none;opacity:0.25;stroke:#b0b0b0;stroke-linecap:square;stroke-width:0.8;\"/>\r\n     </g>\r\n     <g id=\"line2d_4\">\r\n      <g>\r\n       <use style=\"stroke:#000000;stroke-width:0.8;\" x=\"227.13358\" xlink:href=\"#m3cdebfd519\" y=\"554.3\"/>\r\n      </g>\r\n     </g>\r\n     <g id=\"text_2\">\r\n      <!-- 0.5 -->\r\n      <defs>\r\n       <path d=\"M 10.796875 72.90625 \r\nL 49.515625 72.90625 \r\nL 49.515625 64.59375 \r\nL 19.828125 64.59375 \r\nL 19.828125 46.734375 \r\nQ 21.96875 47.46875 24.109375 47.828125 \r\nQ 26.265625 48.1875 28.421875 48.1875 \r\nQ 40.625 48.1875 47.75 41.5 \r\nQ 54.890625 34.8125 54.890625 23.390625 \r\nQ 54.890625 11.625 47.5625 5.09375 \r\nQ 40.234375 -1.421875 26.90625 -1.421875 \r\nQ 22.3125 -1.421875 17.546875 -0.640625 \r\nQ 12.796875 0.140625 7.71875 1.703125 \r\nL 7.71875 11.625 \r\nQ 12.109375 9.234375 16.796875 8.0625 \r\nQ 21.484375 6.890625 26.703125 6.890625 \r\nQ 35.15625 6.890625 40.078125 11.328125 \r\nQ 45.015625 15.765625 45.015625 23.390625 \r\nQ 45.015625 31 40.078125 35.4375 \r\nQ 35.15625 39.890625 26.703125 39.890625 \r\nQ 22.75 39.890625 18.8125 39.015625 \r\nQ 14.890625 38.140625 10.796875 36.28125 \r\nz\r\n\" id=\"DejaVuSans-35\"/>\r\n      </defs>\r\n      <g transform=\"translate(219.182017 568.898437)scale(0.1 -0.1)\">\r\n       <use xlink:href=\"#DejaVuSans-30\"/>\r\n       <use x=\"63.623047\" xlink:href=\"#DejaVuSans-2e\"/>\r\n       <use x=\"95.410156\" xlink:href=\"#DejaVuSans-35\"/>\r\n      </g>\r\n     </g>\r\n    </g>\r\n    <g id=\"xtick_3\">\r\n     <g id=\"line2d_5\">\r\n      <path clip-path=\"url(#p99f8232b1f)\" d=\"M 353.951761 554.3 \r\nL 353.951761 10.7 \r\n\" style=\"fill:none;opacity:0.25;stroke:#b0b0b0;stroke-linecap:square;stroke-width:0.8;\"/>\r\n     </g>\r\n     <g id=\"line2d_6\">\r\n      <g>\r\n       <use style=\"stroke:#000000;stroke-width:0.8;\" x=\"353.951761\" xlink:href=\"#m3cdebfd519\" y=\"554.3\"/>\r\n      </g>\r\n     </g>\r\n     <g id=\"text_3\">\r\n      <!-- 1.0 -->\r\n      <defs>\r\n       <path d=\"M 12.40625 8.296875 \r\nL 28.515625 8.296875 \r\nL 28.515625 63.921875 \r\nL 10.984375 60.40625 \r\nL 10.984375 69.390625 \r\nL 28.421875 72.90625 \r\nL 38.28125 72.90625 \r\nL 38.28125 8.296875 \r\nL 54.390625 8.296875 \r\nL 54.390625 0 \r\nL 12.40625 0 \r\nz\r\n\" id=\"DejaVuSans-31\"/>\r\n      </defs>\r\n      <g transform=\"translate(346.000199 568.898437)scale(0.1 -0.1)\">\r\n       <use xlink:href=\"#DejaVuSans-31\"/>\r\n       <use x=\"63.623047\" xlink:href=\"#DejaVuSans-2e\"/>\r\n       <use x=\"95.410156\" xlink:href=\"#DejaVuSans-30\"/>\r\n      </g>\r\n     </g>\r\n    </g>\r\n    <g id=\"xtick_4\">\r\n     <g id=\"line2d_7\">\r\n      <path clip-path=\"url(#p99f8232b1f)\" d=\"M 480.769943 554.3 \r\nL 480.769943 10.7 \r\n\" style=\"fill:none;opacity:0.25;stroke:#b0b0b0;stroke-linecap:square;stroke-width:0.8;\"/>\r\n     </g>\r\n     <g id=\"line2d_8\">\r\n      <g>\r\n       <use style=\"stroke:#000000;stroke-width:0.8;\" x=\"480.769943\" xlink:href=\"#m3cdebfd519\" y=\"554.3\"/>\r\n      </g>\r\n     </g>\r\n     <g id=\"text_4\">\r\n      <!-- 1.5 -->\r\n      <g transform=\"translate(472.818381 568.898437)scale(0.1 -0.1)\">\r\n       <use xlink:href=\"#DejaVuSans-31\"/>\r\n       <use x=\"63.623047\" xlink:href=\"#DejaVuSans-2e\"/>\r\n       <use x=\"95.410156\" xlink:href=\"#DejaVuSans-35\"/>\r\n      </g>\r\n     </g>\r\n    </g>\r\n    <g id=\"xtick_5\">\r\n     <g id=\"line2d_9\">\r\n      <path clip-path=\"url(#p99f8232b1f)\" d=\"M 607.588125 554.3 \r\nL 607.588125 10.7 \r\n\" style=\"fill:none;opacity:0.25;stroke:#b0b0b0;stroke-linecap:square;stroke-width:0.8;\"/>\r\n     </g>\r\n     <g id=\"line2d_10\">\r\n      <g>\r\n       <use style=\"stroke:#000000;stroke-width:0.8;\" x=\"607.588125\" xlink:href=\"#m3cdebfd519\" y=\"554.3\"/>\r\n      </g>\r\n     </g>\r\n     <g id=\"text_5\">\r\n      <!-- 2.0 -->\r\n      <defs>\r\n       <path d=\"M 19.1875 8.296875 \r\nL 53.609375 8.296875 \r\nL 53.609375 0 \r\nL 7.328125 0 \r\nL 7.328125 8.296875 \r\nQ 12.9375 14.109375 22.625 23.890625 \r\nQ 32.328125 33.6875 34.8125 36.53125 \r\nQ 39.546875 41.84375 41.421875 45.53125 \r\nQ 43.3125 49.21875 43.3125 52.78125 \r\nQ 43.3125 58.59375 39.234375 62.25 \r\nQ 35.15625 65.921875 28.609375 65.921875 \r\nQ 23.96875 65.921875 18.8125 64.3125 \r\nQ 13.671875 62.703125 7.8125 59.421875 \r\nL 7.8125 69.390625 \r\nQ 13.765625 71.78125 18.9375 73 \r\nQ 24.125 74.21875 28.421875 74.21875 \r\nQ 39.75 74.21875 46.484375 68.546875 \r\nQ 53.21875 62.890625 53.21875 53.421875 \r\nQ 53.21875 48.921875 51.53125 44.890625 \r\nQ 49.859375 40.875 45.40625 35.40625 \r\nQ 44.1875 33.984375 37.640625 27.21875 \r\nQ 31.109375 20.453125 19.1875 8.296875 \r\nz\r\n\" id=\"DejaVuSans-32\"/>\r\n      </defs>\r\n      <g transform=\"translate(599.636562 568.898437)scale(0.1 -0.1)\">\r\n       <use xlink:href=\"#DejaVuSans-32\"/>\r\n       <use x=\"63.623047\" xlink:href=\"#DejaVuSans-2e\"/>\r\n       <use x=\"95.410156\" xlink:href=\"#DejaVuSans-30\"/>\r\n      </g>\r\n     </g>\r\n    </g>\r\n    <g id=\"xtick_6\">\r\n     <g id=\"line2d_11\">\r\n      <path clip-path=\"url(#p99f8232b1f)\" d=\"M 734.406307 554.3 \r\nL 734.406307 10.7 \r\n\" style=\"fill:none;opacity:0.25;stroke:#b0b0b0;stroke-linecap:square;stroke-width:0.8;\"/>\r\n     </g>\r\n     <g id=\"line2d_12\">\r\n      <g>\r\n       <use style=\"stroke:#000000;stroke-width:0.8;\" x=\"734.406307\" xlink:href=\"#m3cdebfd519\" y=\"554.3\"/>\r\n      </g>\r\n     </g>\r\n     <g id=\"text_6\">\r\n      <!-- 2.5 -->\r\n      <g transform=\"translate(726.454744 568.898437)scale(0.1 -0.1)\">\r\n       <use xlink:href=\"#DejaVuSans-32\"/>\r\n       <use x=\"63.623047\" xlink:href=\"#DejaVuSans-2e\"/>\r\n       <use x=\"95.410156\" xlink:href=\"#DejaVuSans-35\"/>\r\n      </g>\r\n     </g>\r\n    </g>\r\n    <g id=\"xtick_7\">\r\n     <g id=\"line2d_13\">\r\n      <path clip-path=\"url(#p99f8232b1f)\" d=\"M 861.224489 554.3 \r\nL 861.224489 10.7 \r\n\" style=\"fill:none;opacity:0.25;stroke:#b0b0b0;stroke-linecap:square;stroke-width:0.8;\"/>\r\n     </g>\r\n     <g id=\"line2d_14\">\r\n      <g>\r\n       <use style=\"stroke:#000000;stroke-width:0.8;\" x=\"861.224489\" xlink:href=\"#m3cdebfd519\" y=\"554.3\"/>\r\n      </g>\r\n     </g>\r\n     <g id=\"text_7\">\r\n      <!-- 3.0 -->\r\n      <defs>\r\n       <path d=\"M 40.578125 39.3125 \r\nQ 47.65625 37.796875 51.625 33 \r\nQ 55.609375 28.21875 55.609375 21.1875 \r\nQ 55.609375 10.40625 48.1875 4.484375 \r\nQ 40.765625 -1.421875 27.09375 -1.421875 \r\nQ 22.515625 -1.421875 17.65625 -0.515625 \r\nQ 12.796875 0.390625 7.625 2.203125 \r\nL 7.625 11.71875 \r\nQ 11.71875 9.328125 16.59375 8.109375 \r\nQ 21.484375 6.890625 26.8125 6.890625 \r\nQ 36.078125 6.890625 40.9375 10.546875 \r\nQ 45.796875 14.203125 45.796875 21.1875 \r\nQ 45.796875 27.640625 41.28125 31.265625 \r\nQ 36.765625 34.90625 28.71875 34.90625 \r\nL 20.21875 34.90625 \r\nL 20.21875 43.015625 \r\nL 29.109375 43.015625 \r\nQ 36.375 43.015625 40.234375 45.921875 \r\nQ 44.09375 48.828125 44.09375 54.296875 \r\nQ 44.09375 59.90625 40.109375 62.90625 \r\nQ 36.140625 65.921875 28.71875 65.921875 \r\nQ 24.65625 65.921875 20.015625 65.03125 \r\nQ 15.375 64.15625 9.8125 62.3125 \r\nL 9.8125 71.09375 \r\nQ 15.4375 72.65625 20.34375 73.4375 \r\nQ 25.25 74.21875 29.59375 74.21875 \r\nQ 40.828125 74.21875 47.359375 69.109375 \r\nQ 53.90625 64.015625 53.90625 55.328125 \r\nQ 53.90625 49.265625 50.4375 45.09375 \r\nQ 46.96875 40.921875 40.578125 39.3125 \r\nz\r\n\" id=\"DejaVuSans-33\"/>\r\n      </defs>\r\n      <g transform=\"translate(853.272926 568.898437)scale(0.1 -0.1)\">\r\n       <use xlink:href=\"#DejaVuSans-33\"/>\r\n       <use x=\"63.623047\" xlink:href=\"#DejaVuSans-2e\"/>\r\n       <use x=\"95.410156\" xlink:href=\"#DejaVuSans-30\"/>\r\n      </g>\r\n     </g>\r\n    </g>\r\n    <g id=\"xtick_8\">\r\n     <g id=\"line2d_15\">\r\n      <path clip-path=\"url(#p99f8232b1f)\" d=\"M 988.04267 554.3 \r\nL 988.04267 10.7 \r\n\" style=\"fill:none;opacity:0.25;stroke:#b0b0b0;stroke-linecap:square;stroke-width:0.8;\"/>\r\n     </g>\r\n     <g id=\"line2d_16\">\r\n      <g>\r\n       <use style=\"stroke:#000000;stroke-width:0.8;\" x=\"988.04267\" xlink:href=\"#m3cdebfd519\" y=\"554.3\"/>\r\n      </g>\r\n     </g>\r\n     <g id=\"text_8\">\r\n      <!-- 3.5 -->\r\n      <g transform=\"translate(980.091108 568.898437)scale(0.1 -0.1)\">\r\n       <use xlink:href=\"#DejaVuSans-33\"/>\r\n       <use x=\"63.623047\" xlink:href=\"#DejaVuSans-2e\"/>\r\n       <use x=\"95.410156\" xlink:href=\"#DejaVuSans-35\"/>\r\n      </g>\r\n     </g>\r\n    </g>\r\n    <g id=\"xtick_9\">\r\n     <g id=\"line2d_17\">\r\n      <path clip-path=\"url(#p99f8232b1f)\" d=\"M 1114.860852 554.3 \r\nL 1114.860852 10.7 \r\n\" style=\"fill:none;opacity:0.25;stroke:#b0b0b0;stroke-linecap:square;stroke-width:0.8;\"/>\r\n     </g>\r\n     <g id=\"line2d_18\">\r\n      <g>\r\n       <use style=\"stroke:#000000;stroke-width:0.8;\" x=\"1114.860852\" xlink:href=\"#m3cdebfd519\" y=\"554.3\"/>\r\n      </g>\r\n     </g>\r\n     <g id=\"text_9\">\r\n      <!-- 4.0 -->\r\n      <defs>\r\n       <path d=\"M 37.796875 64.3125 \r\nL 12.890625 25.390625 \r\nL 37.796875 25.390625 \r\nz\r\nM 35.203125 72.90625 \r\nL 47.609375 72.90625 \r\nL 47.609375 25.390625 \r\nL 58.015625 25.390625 \r\nL 58.015625 17.1875 \r\nL 47.609375 17.1875 \r\nL 47.609375 0 \r\nL 37.796875 0 \r\nL 37.796875 17.1875 \r\nL 4.890625 17.1875 \r\nL 4.890625 26.703125 \r\nz\r\n\" id=\"DejaVuSans-34\"/>\r\n      </defs>\r\n      <g transform=\"translate(1106.90929 568.898437)scale(0.1 -0.1)\">\r\n       <use xlink:href=\"#DejaVuSans-34\"/>\r\n       <use x=\"63.623047\" xlink:href=\"#DejaVuSans-2e\"/>\r\n       <use x=\"95.410156\" xlink:href=\"#DejaVuSans-30\"/>\r\n      </g>\r\n     </g>\r\n    </g>\r\n    <g id=\"text_10\">\r\n     <!-- epoch -->\r\n     <defs>\r\n      <path d=\"M 56.203125 29.59375 \r\nL 56.203125 25.203125 \r\nL 14.890625 25.203125 \r\nQ 15.484375 15.921875 20.484375 11.0625 \r\nQ 25.484375 6.203125 34.421875 6.203125 \r\nQ 39.59375 6.203125 44.453125 7.46875 \r\nQ 49.3125 8.734375 54.109375 11.28125 \r\nL 54.109375 2.78125 \r\nQ 49.265625 0.734375 44.1875 -0.34375 \r\nQ 39.109375 -1.421875 33.890625 -1.421875 \r\nQ 20.796875 -1.421875 13.15625 6.1875 \r\nQ 5.515625 13.8125 5.515625 26.8125 \r\nQ 5.515625 40.234375 12.765625 48.109375 \r\nQ 20.015625 56 32.328125 56 \r\nQ 43.359375 56 49.78125 48.890625 \r\nQ 56.203125 41.796875 56.203125 29.59375 \r\nz\r\nM 47.21875 32.234375 \r\nQ 47.125 39.59375 43.09375 43.984375 \r\nQ 39.0625 48.390625 32.421875 48.390625 \r\nQ 24.90625 48.390625 20.390625 44.140625 \r\nQ 15.875 39.890625 15.1875 32.171875 \r\nz\r\n\" id=\"DejaVuSans-65\"/>\r\n      <path d=\"M 18.109375 8.203125 \r\nL 18.109375 -20.796875 \r\nL 9.078125 -20.796875 \r\nL 9.078125 54.6875 \r\nL 18.109375 54.6875 \r\nL 18.109375 46.390625 \r\nQ 20.953125 51.265625 25.265625 53.625 \r\nQ 29.59375 56 35.59375 56 \r\nQ 45.5625 56 51.78125 48.09375 \r\nQ 58.015625 40.1875 58.015625 27.296875 \r\nQ 58.015625 14.40625 51.78125 6.484375 \r\nQ 45.5625 -1.421875 35.59375 -1.421875 \r\nQ 29.59375 -1.421875 25.265625 0.953125 \r\nQ 20.953125 3.328125 18.109375 8.203125 \r\nz\r\nM 48.6875 27.296875 \r\nQ 48.6875 37.203125 44.609375 42.84375 \r\nQ 40.53125 48.484375 33.40625 48.484375 \r\nQ 26.265625 48.484375 22.1875 42.84375 \r\nQ 18.109375 37.203125 18.109375 27.296875 \r\nQ 18.109375 17.390625 22.1875 11.75 \r\nQ 26.265625 6.109375 33.40625 6.109375 \r\nQ 40.53125 6.109375 44.609375 11.75 \r\nQ 48.6875 17.390625 48.6875 27.296875 \r\nz\r\n\" id=\"DejaVuSans-70\"/>\r\n      <path d=\"M 30.609375 48.390625 \r\nQ 23.390625 48.390625 19.1875 42.75 \r\nQ 14.984375 37.109375 14.984375 27.296875 \r\nQ 14.984375 17.484375 19.15625 11.84375 \r\nQ 23.34375 6.203125 30.609375 6.203125 \r\nQ 37.796875 6.203125 41.984375 11.859375 \r\nQ 46.1875 17.53125 46.1875 27.296875 \r\nQ 46.1875 37.015625 41.984375 42.703125 \r\nQ 37.796875 48.390625 30.609375 48.390625 \r\nz\r\nM 30.609375 56 \r\nQ 42.328125 56 49.015625 48.375 \r\nQ 55.71875 40.765625 55.71875 27.296875 \r\nQ 55.71875 13.875 49.015625 6.21875 \r\nQ 42.328125 -1.421875 30.609375 -1.421875 \r\nQ 18.84375 -1.421875 12.171875 6.21875 \r\nQ 5.515625 13.875 5.515625 27.296875 \r\nQ 5.515625 40.765625 12.171875 48.375 \r\nQ 18.84375 56 30.609375 56 \r\nz\r\n\" id=\"DejaVuSans-6f\"/>\r\n      <path d=\"M 48.78125 52.59375 \r\nL 48.78125 44.1875 \r\nQ 44.96875 46.296875 41.140625 47.34375 \r\nQ 37.3125 48.390625 33.40625 48.390625 \r\nQ 24.65625 48.390625 19.8125 42.84375 \r\nQ 14.984375 37.3125 14.984375 27.296875 \r\nQ 14.984375 17.28125 19.8125 11.734375 \r\nQ 24.65625 6.203125 33.40625 6.203125 \r\nQ 37.3125 6.203125 41.140625 7.25 \r\nQ 44.96875 8.296875 48.78125 10.40625 \r\nL 48.78125 2.09375 \r\nQ 45.015625 0.34375 40.984375 -0.53125 \r\nQ 36.96875 -1.421875 32.421875 -1.421875 \r\nQ 20.0625 -1.421875 12.78125 6.34375 \r\nQ 5.515625 14.109375 5.515625 27.296875 \r\nQ 5.515625 40.671875 12.859375 48.328125 \r\nQ 20.21875 56 33.015625 56 \r\nQ 37.15625 56 41.109375 55.140625 \r\nQ 45.0625 54.296875 48.78125 52.59375 \r\nz\r\n\" id=\"DejaVuSans-63\"/>\r\n      <path d=\"M 54.890625 33.015625 \r\nL 54.890625 0 \r\nL 45.90625 0 \r\nL 45.90625 32.71875 \r\nQ 45.90625 40.484375 42.875 44.328125 \r\nQ 39.84375 48.1875 33.796875 48.1875 \r\nQ 26.515625 48.1875 22.3125 43.546875 \r\nQ 18.109375 38.921875 18.109375 30.90625 \r\nL 18.109375 0 \r\nL 9.078125 0 \r\nL 9.078125 75.984375 \r\nL 18.109375 75.984375 \r\nL 18.109375 46.1875 \r\nQ 21.34375 51.125 25.703125 53.5625 \r\nQ 30.078125 56 35.796875 56 \r\nQ 45.21875 56 50.046875 50.171875 \r\nQ 54.890625 44.34375 54.890625 33.015625 \r\nz\r\n\" id=\"DejaVuSans-68\"/>\r\n     </defs>\r\n     <g transform=\"translate(583.223125 587.135625)scale(0.16 -0.16)\">\r\n      <use xlink:href=\"#DejaVuSans-65\"/>\r\n      <use x=\"61.523438\" xlink:href=\"#DejaVuSans-70\"/>\r\n      <use x=\"125\" xlink:href=\"#DejaVuSans-6f\"/>\r\n      <use x=\"186.181641\" xlink:href=\"#DejaVuSans-63\"/>\r\n      <use x=\"241.162109\" xlink:href=\"#DejaVuSans-68\"/>\r\n     </g>\r\n    </g>\r\n   </g>\r\n   <g id=\"matplotlib.axis_2\">\r\n    <g id=\"ytick_1\">\r\n     <g id=\"line2d_19\">\r\n      <path clip-path=\"url(#p99f8232b1f)\" d=\"M 49.588125 553.894933 \r\nL 1165.588125 553.894933 \r\n\" style=\"fill:none;opacity:0.25;stroke:#b0b0b0;stroke-linecap:square;stroke-width:0.8;\"/>\r\n     </g>\r\n     <g id=\"line2d_20\">\r\n      <defs>\r\n       <path d=\"M 0 0 \r\nL -3.5 0 \r\n\" id=\"m9be9ebdb58\" style=\"stroke:#000000;stroke-width:0.8;\"/>\r\n      </defs>\r\n      <g>\r\n       <use style=\"stroke:#000000;stroke-width:0.8;\" x=\"49.588125\" xlink:href=\"#m9be9ebdb58\" y=\"553.894933\"/>\r\n      </g>\r\n     </g>\r\n     <g id=\"text_11\">\r\n      <!-- 0.5 -->\r\n      <g transform=\"translate(26.685 557.694152)scale(0.1 -0.1)\">\r\n       <use xlink:href=\"#DejaVuSans-30\"/>\r\n       <use x=\"63.623047\" xlink:href=\"#DejaVuSans-2e\"/>\r\n       <use x=\"95.410156\" xlink:href=\"#DejaVuSans-35\"/>\r\n      </g>\r\n     </g>\r\n    </g>\r\n    <g id=\"ytick_2\">\r\n     <g id=\"line2d_21\">\r\n      <path clip-path=\"url(#p99f8232b1f)\" d=\"M 49.588125 450.197765 \r\nL 1165.588125 450.197765 \r\n\" style=\"fill:none;opacity:0.25;stroke:#b0b0b0;stroke-linecap:square;stroke-width:0.8;\"/>\r\n     </g>\r\n     <g id=\"line2d_22\">\r\n      <g>\r\n       <use style=\"stroke:#000000;stroke-width:0.8;\" x=\"49.588125\" xlink:href=\"#m9be9ebdb58\" y=\"450.197765\"/>\r\n      </g>\r\n     </g>\r\n     <g id=\"text_12\">\r\n      <!-- 0.6 -->\r\n      <defs>\r\n       <path d=\"M 33.015625 40.375 \r\nQ 26.375 40.375 22.484375 35.828125 \r\nQ 18.609375 31.296875 18.609375 23.390625 \r\nQ 18.609375 15.53125 22.484375 10.953125 \r\nQ 26.375 6.390625 33.015625 6.390625 \r\nQ 39.65625 6.390625 43.53125 10.953125 \r\nQ 47.40625 15.53125 47.40625 23.390625 \r\nQ 47.40625 31.296875 43.53125 35.828125 \r\nQ 39.65625 40.375 33.015625 40.375 \r\nz\r\nM 52.59375 71.296875 \r\nL 52.59375 62.3125 \r\nQ 48.875 64.0625 45.09375 64.984375 \r\nQ 41.3125 65.921875 37.59375 65.921875 \r\nQ 27.828125 65.921875 22.671875 59.328125 \r\nQ 17.53125 52.734375 16.796875 39.40625 \r\nQ 19.671875 43.65625 24.015625 45.921875 \r\nQ 28.375 48.1875 33.59375 48.1875 \r\nQ 44.578125 48.1875 50.953125 41.515625 \r\nQ 57.328125 34.859375 57.328125 23.390625 \r\nQ 57.328125 12.15625 50.6875 5.359375 \r\nQ 44.046875 -1.421875 33.015625 -1.421875 \r\nQ 20.359375 -1.421875 13.671875 8.265625 \r\nQ 6.984375 17.96875 6.984375 36.375 \r\nQ 6.984375 53.65625 15.1875 63.9375 \r\nQ 23.390625 74.21875 37.203125 74.21875 \r\nQ 40.921875 74.21875 44.703125 73.484375 \r\nQ 48.484375 72.75 52.59375 71.296875 \r\nz\r\n\" id=\"DejaVuSans-36\"/>\r\n      </defs>\r\n      <g transform=\"translate(26.685 453.996983)scale(0.1 -0.1)\">\r\n       <use xlink:href=\"#DejaVuSans-30\"/>\r\n       <use x=\"63.623047\" xlink:href=\"#DejaVuSans-2e\"/>\r\n       <use x=\"95.410156\" xlink:href=\"#DejaVuSans-36\"/>\r\n      </g>\r\n     </g>\r\n    </g>\r\n    <g id=\"ytick_3\">\r\n     <g id=\"line2d_23\">\r\n      <path clip-path=\"url(#p99f8232b1f)\" d=\"M 49.588125 346.500596 \r\nL 1165.588125 346.500596 \r\n\" style=\"fill:none;opacity:0.25;stroke:#b0b0b0;stroke-linecap:square;stroke-width:0.8;\"/>\r\n     </g>\r\n     <g id=\"line2d_24\">\r\n      <g>\r\n       <use style=\"stroke:#000000;stroke-width:0.8;\" x=\"49.588125\" xlink:href=\"#m9be9ebdb58\" y=\"346.500596\"/>\r\n      </g>\r\n     </g>\r\n     <g id=\"text_13\">\r\n      <!-- 0.7 -->\r\n      <defs>\r\n       <path d=\"M 8.203125 72.90625 \r\nL 55.078125 72.90625 \r\nL 55.078125 68.703125 \r\nL 28.609375 0 \r\nL 18.3125 0 \r\nL 43.21875 64.59375 \r\nL 8.203125 64.59375 \r\nz\r\n\" id=\"DejaVuSans-37\"/>\r\n      </defs>\r\n      <g transform=\"translate(26.685 350.299815)scale(0.1 -0.1)\">\r\n       <use xlink:href=\"#DejaVuSans-30\"/>\r\n       <use x=\"63.623047\" xlink:href=\"#DejaVuSans-2e\"/>\r\n       <use x=\"95.410156\" xlink:href=\"#DejaVuSans-37\"/>\r\n      </g>\r\n     </g>\r\n    </g>\r\n    <g id=\"ytick_4\">\r\n     <g id=\"line2d_25\">\r\n      <path clip-path=\"url(#p99f8232b1f)\" d=\"M 49.588125 242.803428 \r\nL 1165.588125 242.803428 \r\n\" style=\"fill:none;opacity:0.25;stroke:#b0b0b0;stroke-linecap:square;stroke-width:0.8;\"/>\r\n     </g>\r\n     <g id=\"line2d_26\">\r\n      <g>\r\n       <use style=\"stroke:#000000;stroke-width:0.8;\" x=\"49.588125\" xlink:href=\"#m9be9ebdb58\" y=\"242.803428\"/>\r\n      </g>\r\n     </g>\r\n     <g id=\"text_14\">\r\n      <!-- 0.8 -->\r\n      <defs>\r\n       <path d=\"M 31.78125 34.625 \r\nQ 24.75 34.625 20.71875 30.859375 \r\nQ 16.703125 27.09375 16.703125 20.515625 \r\nQ 16.703125 13.921875 20.71875 10.15625 \r\nQ 24.75 6.390625 31.78125 6.390625 \r\nQ 38.8125 6.390625 42.859375 10.171875 \r\nQ 46.921875 13.96875 46.921875 20.515625 \r\nQ 46.921875 27.09375 42.890625 30.859375 \r\nQ 38.875 34.625 31.78125 34.625 \r\nz\r\nM 21.921875 38.8125 \r\nQ 15.578125 40.375 12.03125 44.71875 \r\nQ 8.5 49.078125 8.5 55.328125 \r\nQ 8.5 64.0625 14.71875 69.140625 \r\nQ 20.953125 74.21875 31.78125 74.21875 \r\nQ 42.671875 74.21875 48.875 69.140625 \r\nQ 55.078125 64.0625 55.078125 55.328125 \r\nQ 55.078125 49.078125 51.53125 44.71875 \r\nQ 48 40.375 41.703125 38.8125 \r\nQ 48.828125 37.15625 52.796875 32.3125 \r\nQ 56.78125 27.484375 56.78125 20.515625 \r\nQ 56.78125 9.90625 50.3125 4.234375 \r\nQ 43.84375 -1.421875 31.78125 -1.421875 \r\nQ 19.734375 -1.421875 13.25 4.234375 \r\nQ 6.78125 9.90625 6.78125 20.515625 \r\nQ 6.78125 27.484375 10.78125 32.3125 \r\nQ 14.796875 37.15625 21.921875 38.8125 \r\nz\r\nM 18.3125 54.390625 \r\nQ 18.3125 48.734375 21.84375 45.5625 \r\nQ 25.390625 42.390625 31.78125 42.390625 \r\nQ 38.140625 42.390625 41.71875 45.5625 \r\nQ 45.3125 48.734375 45.3125 54.390625 \r\nQ 45.3125 60.0625 41.71875 63.234375 \r\nQ 38.140625 66.40625 31.78125 66.40625 \r\nQ 25.390625 66.40625 21.84375 63.234375 \r\nQ 18.3125 60.0625 18.3125 54.390625 \r\nz\r\n\" id=\"DejaVuSans-38\"/>\r\n      </defs>\r\n      <g transform=\"translate(26.685 246.602646)scale(0.1 -0.1)\">\r\n       <use xlink:href=\"#DejaVuSans-30\"/>\r\n       <use x=\"63.623047\" xlink:href=\"#DejaVuSans-2e\"/>\r\n       <use x=\"95.410156\" xlink:href=\"#DejaVuSans-38\"/>\r\n      </g>\r\n     </g>\r\n    </g>\r\n    <g id=\"ytick_5\">\r\n     <g id=\"line2d_27\">\r\n      <path clip-path=\"url(#p99f8232b1f)\" d=\"M 49.588125 139.106259 \r\nL 1165.588125 139.106259 \r\n\" style=\"fill:none;opacity:0.25;stroke:#b0b0b0;stroke-linecap:square;stroke-width:0.8;\"/>\r\n     </g>\r\n     <g id=\"line2d_28\">\r\n      <g>\r\n       <use style=\"stroke:#000000;stroke-width:0.8;\" x=\"49.588125\" xlink:href=\"#m9be9ebdb58\" y=\"139.106259\"/>\r\n      </g>\r\n     </g>\r\n     <g id=\"text_15\">\r\n      <!-- 0.9 -->\r\n      <defs>\r\n       <path d=\"M 10.984375 1.515625 \r\nL 10.984375 10.5 \r\nQ 14.703125 8.734375 18.5 7.8125 \r\nQ 22.3125 6.890625 25.984375 6.890625 \r\nQ 35.75 6.890625 40.890625 13.453125 \r\nQ 46.046875 20.015625 46.78125 33.40625 \r\nQ 43.953125 29.203125 39.59375 26.953125 \r\nQ 35.25 24.703125 29.984375 24.703125 \r\nQ 19.046875 24.703125 12.671875 31.3125 \r\nQ 6.296875 37.9375 6.296875 49.421875 \r\nQ 6.296875 60.640625 12.9375 67.421875 \r\nQ 19.578125 74.21875 30.609375 74.21875 \r\nQ 43.265625 74.21875 49.921875 64.515625 \r\nQ 56.59375 54.828125 56.59375 36.375 \r\nQ 56.59375 19.140625 48.40625 8.859375 \r\nQ 40.234375 -1.421875 26.421875 -1.421875 \r\nQ 22.703125 -1.421875 18.890625 -0.6875 \r\nQ 15.09375 0.046875 10.984375 1.515625 \r\nz\r\nM 30.609375 32.421875 \r\nQ 37.25 32.421875 41.125 36.953125 \r\nQ 45.015625 41.5 45.015625 49.421875 \r\nQ 45.015625 57.28125 41.125 61.84375 \r\nQ 37.25 66.40625 30.609375 66.40625 \r\nQ 23.96875 66.40625 20.09375 61.84375 \r\nQ 16.21875 57.28125 16.21875 49.421875 \r\nQ 16.21875 41.5 20.09375 36.953125 \r\nQ 23.96875 32.421875 30.609375 32.421875 \r\nz\r\n\" id=\"DejaVuSans-39\"/>\r\n      </defs>\r\n      <g transform=\"translate(26.685 142.905478)scale(0.1 -0.1)\">\r\n       <use xlink:href=\"#DejaVuSans-30\"/>\r\n       <use x=\"63.623047\" xlink:href=\"#DejaVuSans-2e\"/>\r\n       <use x=\"95.410156\" xlink:href=\"#DejaVuSans-39\"/>\r\n      </g>\r\n     </g>\r\n    </g>\r\n    <g id=\"ytick_6\">\r\n     <g id=\"line2d_29\">\r\n      <path clip-path=\"url(#p99f8232b1f)\" d=\"M 49.588125 35.409091 \r\nL 1165.588125 35.409091 \r\n\" style=\"fill:none;opacity:0.25;stroke:#b0b0b0;stroke-linecap:square;stroke-width:0.8;\"/>\r\n     </g>\r\n     <g id=\"line2d_30\">\r\n      <g>\r\n       <use style=\"stroke:#000000;stroke-width:0.8;\" x=\"49.588125\" xlink:href=\"#m9be9ebdb58\" y=\"35.409091\"/>\r\n      </g>\r\n     </g>\r\n     <g id=\"text_16\">\r\n      <!-- 1.0 -->\r\n      <g transform=\"translate(26.685 39.20831)scale(0.1 -0.1)\">\r\n       <use xlink:href=\"#DejaVuSans-31\"/>\r\n       <use x=\"63.623047\" xlink:href=\"#DejaVuSans-2e\"/>\r\n       <use x=\"95.410156\" xlink:href=\"#DejaVuSans-30\"/>\r\n      </g>\r\n     </g>\r\n    </g>\r\n    <g id=\"text_17\">\r\n     <!-- train accuracy -->\r\n     <defs>\r\n      <path d=\"M 18.3125 70.21875 \r\nL 18.3125 54.6875 \r\nL 36.8125 54.6875 \r\nL 36.8125 47.703125 \r\nL 18.3125 47.703125 \r\nL 18.3125 18.015625 \r\nQ 18.3125 11.328125 20.140625 9.421875 \r\nQ 21.96875 7.515625 27.59375 7.515625 \r\nL 36.8125 7.515625 \r\nL 36.8125 0 \r\nL 27.59375 0 \r\nQ 17.1875 0 13.234375 3.875 \r\nQ 9.28125 7.765625 9.28125 18.015625 \r\nL 9.28125 47.703125 \r\nL 2.6875 47.703125 \r\nL 2.6875 54.6875 \r\nL 9.28125 54.6875 \r\nL 9.28125 70.21875 \r\nz\r\n\" id=\"DejaVuSans-74\"/>\r\n      <path d=\"M 41.109375 46.296875 \r\nQ 39.59375 47.171875 37.8125 47.578125 \r\nQ 36.03125 48 33.890625 48 \r\nQ 26.265625 48 22.1875 43.046875 \r\nQ 18.109375 38.09375 18.109375 28.8125 \r\nL 18.109375 0 \r\nL 9.078125 0 \r\nL 9.078125 54.6875 \r\nL 18.109375 54.6875 \r\nL 18.109375 46.1875 \r\nQ 20.953125 51.171875 25.484375 53.578125 \r\nQ 30.03125 56 36.53125 56 \r\nQ 37.453125 56 38.578125 55.875 \r\nQ 39.703125 55.765625 41.0625 55.515625 \r\nz\r\n\" id=\"DejaVuSans-72\"/>\r\n      <path d=\"M 34.28125 27.484375 \r\nQ 23.390625 27.484375 19.1875 25 \r\nQ 14.984375 22.515625 14.984375 16.5 \r\nQ 14.984375 11.71875 18.140625 8.90625 \r\nQ 21.296875 6.109375 26.703125 6.109375 \r\nQ 34.1875 6.109375 38.703125 11.40625 \r\nQ 43.21875 16.703125 43.21875 25.484375 \r\nL 43.21875 27.484375 \r\nz\r\nM 52.203125 31.203125 \r\nL 52.203125 0 \r\nL 43.21875 0 \r\nL 43.21875 8.296875 \r\nQ 40.140625 3.328125 35.546875 0.953125 \r\nQ 30.953125 -1.421875 24.3125 -1.421875 \r\nQ 15.921875 -1.421875 10.953125 3.296875 \r\nQ 6 8.015625 6 15.921875 \r\nQ 6 25.140625 12.171875 29.828125 \r\nQ 18.359375 34.515625 30.609375 34.515625 \r\nL 43.21875 34.515625 \r\nL 43.21875 35.40625 \r\nQ 43.21875 41.609375 39.140625 45 \r\nQ 35.0625 48.390625 27.6875 48.390625 \r\nQ 23 48.390625 18.546875 47.265625 \r\nQ 14.109375 46.140625 10.015625 43.890625 \r\nL 10.015625 52.203125 \r\nQ 14.9375 54.109375 19.578125 55.046875 \r\nQ 24.21875 56 28.609375 56 \r\nQ 40.484375 56 46.34375 49.84375 \r\nQ 52.203125 43.703125 52.203125 31.203125 \r\nz\r\n\" id=\"DejaVuSans-61\"/>\r\n      <path d=\"M 9.421875 54.6875 \r\nL 18.40625 54.6875 \r\nL 18.40625 0 \r\nL 9.421875 0 \r\nz\r\nM 9.421875 75.984375 \r\nL 18.40625 75.984375 \r\nL 18.40625 64.59375 \r\nL 9.421875 64.59375 \r\nz\r\n\" id=\"DejaVuSans-69\"/>\r\n      <path d=\"M 54.890625 33.015625 \r\nL 54.890625 0 \r\nL 45.90625 0 \r\nL 45.90625 32.71875 \r\nQ 45.90625 40.484375 42.875 44.328125 \r\nQ 39.84375 48.1875 33.796875 48.1875 \r\nQ 26.515625 48.1875 22.3125 43.546875 \r\nQ 18.109375 38.921875 18.109375 30.90625 \r\nL 18.109375 0 \r\nL 9.078125 0 \r\nL 9.078125 54.6875 \r\nL 18.109375 54.6875 \r\nL 18.109375 46.1875 \r\nQ 21.34375 51.125 25.703125 53.5625 \r\nQ 30.078125 56 35.796875 56 \r\nQ 45.21875 56 50.046875 50.171875 \r\nQ 54.890625 44.34375 54.890625 33.015625 \r\nz\r\n\" id=\"DejaVuSans-6e\"/>\r\n      <path id=\"DejaVuSans-20\"/>\r\n      <path d=\"M 8.5 21.578125 \r\nL 8.5 54.6875 \r\nL 17.484375 54.6875 \r\nL 17.484375 21.921875 \r\nQ 17.484375 14.15625 20.5 10.265625 \r\nQ 23.53125 6.390625 29.59375 6.390625 \r\nQ 36.859375 6.390625 41.078125 11.03125 \r\nQ 45.3125 15.671875 45.3125 23.6875 \r\nL 45.3125 54.6875 \r\nL 54.296875 54.6875 \r\nL 54.296875 0 \r\nL 45.3125 0 \r\nL 45.3125 8.40625 \r\nQ 42.046875 3.421875 37.71875 1 \r\nQ 33.40625 -1.421875 27.6875 -1.421875 \r\nQ 18.265625 -1.421875 13.375 4.4375 \r\nQ 8.5 10.296875 8.5 21.578125 \r\nz\r\nM 31.109375 56 \r\nz\r\n\" id=\"DejaVuSans-75\"/>\r\n      <path d=\"M 32.171875 -5.078125 \r\nQ 28.375 -14.84375 24.75 -17.8125 \r\nQ 21.140625 -20.796875 15.09375 -20.796875 \r\nL 7.90625 -20.796875 \r\nL 7.90625 -13.28125 \r\nL 13.1875 -13.28125 \r\nQ 16.890625 -13.28125 18.9375 -11.515625 \r\nQ 21 -9.765625 23.484375 -3.21875 \r\nL 25.09375 0.875 \r\nL 2.984375 54.6875 \r\nL 12.5 54.6875 \r\nL 29.59375 11.921875 \r\nL 46.6875 54.6875 \r\nL 56.203125 54.6875 \r\nz\r\n\" id=\"DejaVuSans-79\"/>\r\n     </defs>\r\n     <g transform=\"translate(19.3575 339.7575)rotate(-90)scale(0.16 -0.16)\">\r\n      <use xlink:href=\"#DejaVuSans-74\"/>\r\n      <use x=\"39.208984\" xlink:href=\"#DejaVuSans-72\"/>\r\n      <use x=\"80.322266\" xlink:href=\"#DejaVuSans-61\"/>\r\n      <use x=\"141.601562\" xlink:href=\"#DejaVuSans-69\"/>\r\n      <use x=\"169.384766\" xlink:href=\"#DejaVuSans-6e\"/>\r\n      <use x=\"232.763672\" xlink:href=\"#DejaVuSans-20\"/>\r\n      <use x=\"264.550781\" xlink:href=\"#DejaVuSans-61\"/>\r\n      <use x=\"325.830078\" xlink:href=\"#DejaVuSans-63\"/>\r\n      <use x=\"380.810547\" xlink:href=\"#DejaVuSans-63\"/>\r\n      <use x=\"435.791016\" xlink:href=\"#DejaVuSans-75\"/>\r\n      <use x=\"499.169922\" xlink:href=\"#DejaVuSans-72\"/>\r\n      <use x=\"540.283203\" xlink:href=\"#DejaVuSans-61\"/>\r\n      <use x=\"601.5625\" xlink:href=\"#DejaVuSans-63\"/>\r\n      <use x=\"656.542969\" xlink:href=\"#DejaVuSans-79\"/>\r\n     </g>\r\n    </g>\r\n   </g>\r\n   <g id=\"line2d_31\">\r\n    <path clip-path=\"url(#p99f8232b1f)\" d=\"M 100.315398 156.92921 \r\nL 353.951761 173.131893 \r\nL 607.588125 116.422504 \r\nL 861.224489 92.11848 \r\nL 1114.860852 108.321162 \r\n\" style=\"fill:none;stroke:#1f77b4;stroke-linecap:square;stroke-width:1.5;\"/>\r\n    <defs>\r\n     <path d=\"M 0 3 \r\nC 0.795609 3 1.55874 2.683901 2.12132 2.12132 \r\nC 2.683901 1.55874 3 0.795609 3 0 \r\nC 3 -0.795609 2.683901 -1.55874 2.12132 -2.12132 \r\nC 1.55874 -2.683901 0.795609 -3 0 -3 \r\nC -0.795609 -3 -1.55874 -2.683901 -2.12132 -2.12132 \r\nC -2.683901 -1.55874 -3 -0.795609 -3 0 \r\nC -3 0.795609 -2.683901 1.55874 -2.12132 2.12132 \r\nC -1.55874 2.683901 -0.795609 3 0 3 \r\nz\r\n\" id=\"md5f773e5fb\" style=\"stroke:#1f77b4;\"/>\r\n    </defs>\r\n    <g clip-path=\"url(#p99f8232b1f)\">\r\n     <use style=\"fill:#1f77b4;stroke:#1f77b4;\" x=\"100.315398\" xlink:href=\"#md5f773e5fb\" y=\"156.92921\"/>\r\n     <use style=\"fill:#1f77b4;stroke:#1f77b4;\" x=\"353.951761\" xlink:href=\"#md5f773e5fb\" y=\"173.131893\"/>\r\n     <use style=\"fill:#1f77b4;stroke:#1f77b4;\" x=\"607.588125\" xlink:href=\"#md5f773e5fb\" y=\"116.422504\"/>\r\n     <use style=\"fill:#1f77b4;stroke:#1f77b4;\" x=\"861.224489\" xlink:href=\"#md5f773e5fb\" y=\"92.11848\"/>\r\n     <use style=\"fill:#1f77b4;stroke:#1f77b4;\" x=\"1114.860852\" xlink:href=\"#md5f773e5fb\" y=\"108.321162\"/>\r\n    </g>\r\n   </g>\r\n   <g id=\"line2d_32\">\r\n    <path clip-path=\"url(#p99f8232b1f)\" d=\"M 100.315398 148.827869 \r\nL 353.951761 116.422504 \r\nL 607.588125 92.11848 \r\nL 861.224489 156.92921 \r\nL 1114.860852 100.219821 \r\n\" style=\"fill:none;stroke:#ff7f0e;stroke-linecap:square;stroke-width:1.5;\"/>\r\n    <defs>\r\n     <path d=\"M 0 3 \r\nC 0.795609 3 1.55874 2.683901 2.12132 2.12132 \r\nC 2.683901 1.55874 3 0.795609 3 0 \r\nC 3 -0.795609 2.683901 -1.55874 2.12132 -2.12132 \r\nC 1.55874 -2.683901 0.795609 -3 0 -3 \r\nC -0.795609 -3 -1.55874 -2.683901 -2.12132 -2.12132 \r\nC -2.683901 -1.55874 -3 -0.795609 -3 0 \r\nC -3 0.795609 -2.683901 1.55874 -2.12132 2.12132 \r\nC -1.55874 2.683901 -0.795609 3 0 3 \r\nz\r\n\" id=\"mad0aab373f\" style=\"stroke:#ff7f0e;\"/>\r\n    </defs>\r\n    <g clip-path=\"url(#p99f8232b1f)\">\r\n     <use style=\"fill:#ff7f0e;stroke:#ff7f0e;\" x=\"100.315398\" xlink:href=\"#mad0aab373f\" y=\"148.827869\"/>\r\n     <use style=\"fill:#ff7f0e;stroke:#ff7f0e;\" x=\"353.951761\" xlink:href=\"#mad0aab373f\" y=\"116.422504\"/>\r\n     <use style=\"fill:#ff7f0e;stroke:#ff7f0e;\" x=\"607.588125\" xlink:href=\"#mad0aab373f\" y=\"92.11848\"/>\r\n     <use style=\"fill:#ff7f0e;stroke:#ff7f0e;\" x=\"861.224489\" xlink:href=\"#mad0aab373f\" y=\"156.92921\"/>\r\n     <use style=\"fill:#ff7f0e;stroke:#ff7f0e;\" x=\"1114.860852\" xlink:href=\"#mad0aab373f\" y=\"100.219821\"/>\r\n    </g>\r\n   </g>\r\n   <g id=\"line2d_33\">\r\n    <path clip-path=\"url(#p99f8232b1f)\" d=\"M 100.315398 124.523845 \r\nL 353.951761 84.017139 \r\nL 607.588125 35.409091 \r\nL 861.224489 100.219821 \r\nL 1114.860852 59.713115 \r\n\" style=\"fill:none;stroke:#2ca02c;stroke-linecap:square;stroke-width:1.5;\"/>\r\n    <defs>\r\n     <path d=\"M 0 3 \r\nC 0.795609 3 1.55874 2.683901 2.12132 2.12132 \r\nC 2.683901 1.55874 3 0.795609 3 0 \r\nC 3 -0.795609 2.683901 -1.55874 2.12132 -2.12132 \r\nC 1.55874 -2.683901 0.795609 -3 0 -3 \r\nC -0.795609 -3 -1.55874 -2.683901 -2.12132 -2.12132 \r\nC -2.683901 -1.55874 -3 -0.795609 -3 0 \r\nC -3 0.795609 -2.683901 1.55874 -2.12132 2.12132 \r\nC -1.55874 2.683901 -0.795609 3 0 3 \r\nz\r\n\" id=\"m41baef5bd9\" style=\"stroke:#2ca02c;\"/>\r\n    </defs>\r\n    <g clip-path=\"url(#p99f8232b1f)\">\r\n     <use style=\"fill:#2ca02c;stroke:#2ca02c;\" x=\"100.315398\" xlink:href=\"#m41baef5bd9\" y=\"124.523845\"/>\r\n     <use style=\"fill:#2ca02c;stroke:#2ca02c;\" x=\"353.951761\" xlink:href=\"#m41baef5bd9\" y=\"84.017139\"/>\r\n     <use style=\"fill:#2ca02c;stroke:#2ca02c;\" x=\"607.588125\" xlink:href=\"#m41baef5bd9\" y=\"35.409091\"/>\r\n     <use style=\"fill:#2ca02c;stroke:#2ca02c;\" x=\"861.224489\" xlink:href=\"#m41baef5bd9\" y=\"100.219821\"/>\r\n     <use style=\"fill:#2ca02c;stroke:#2ca02c;\" x=\"1114.860852\" xlink:href=\"#m41baef5bd9\" y=\"59.713115\"/>\r\n    </g>\r\n   </g>\r\n   <g id=\"line2d_34\">\r\n    <path clip-path=\"url(#p99f8232b1f)\" d=\"M 100.315398 181.233234 \r\nL 353.951761 100.219821 \r\nL 607.588125 59.713115 \r\nL 861.224489 43.510432 \r\nL 1114.860852 59.713115 \r\n\" style=\"fill:none;stroke:#d62728;stroke-linecap:square;stroke-width:1.5;\"/>\r\n    <defs>\r\n     <path d=\"M 0 3 \r\nC 0.795609 3 1.55874 2.683901 2.12132 2.12132 \r\nC 2.683901 1.55874 3 0.795609 3 0 \r\nC 3 -0.795609 2.683901 -1.55874 2.12132 -2.12132 \r\nC 1.55874 -2.683901 0.795609 -3 0 -3 \r\nC -0.795609 -3 -1.55874 -2.683901 -2.12132 -2.12132 \r\nC -2.683901 -1.55874 -3 -0.795609 -3 0 \r\nC -3 0.795609 -2.683901 1.55874 -2.12132 2.12132 \r\nC -1.55874 2.683901 -0.795609 3 0 3 \r\nz\r\n\" id=\"mc3b140fb5f\" style=\"stroke:#d62728;\"/>\r\n    </defs>\r\n    <g clip-path=\"url(#p99f8232b1f)\">\r\n     <use style=\"fill:#d62728;stroke:#d62728;\" x=\"100.315398\" xlink:href=\"#mc3b140fb5f\" y=\"181.233234\"/>\r\n     <use style=\"fill:#d62728;stroke:#d62728;\" x=\"353.951761\" xlink:href=\"#mc3b140fb5f\" y=\"100.219821\"/>\r\n     <use style=\"fill:#d62728;stroke:#d62728;\" x=\"607.588125\" xlink:href=\"#mc3b140fb5f\" y=\"59.713115\"/>\r\n     <use style=\"fill:#d62728;stroke:#d62728;\" x=\"861.224489\" xlink:href=\"#mc3b140fb5f\" y=\"43.510432\"/>\r\n     <use style=\"fill:#d62728;stroke:#d62728;\" x=\"1114.860852\" xlink:href=\"#mc3b140fb5f\" y=\"59.713115\"/>\r\n    </g>\r\n   </g>\r\n   <g id=\"line2d_35\">\r\n    <path clip-path=\"url(#p99f8232b1f)\" d=\"M 100.315398 529.590909 \r\nL 353.951761 100.219821 \r\nL 607.588125 59.713115 \r\nL 861.224489 51.611773 \r\nL 1114.860852 43.510432 \r\n\" style=\"fill:none;stroke:#9467bd;stroke-linecap:square;stroke-width:1.5;\"/>\r\n    <defs>\r\n     <path d=\"M 0 3 \r\nC 0.795609 3 1.55874 2.683901 2.12132 2.12132 \r\nC 2.683901 1.55874 3 0.795609 3 0 \r\nC 3 -0.795609 2.683901 -1.55874 2.12132 -2.12132 \r\nC 1.55874 -2.683901 0.795609 -3 0 -3 \r\nC -0.795609 -3 -1.55874 -2.683901 -2.12132 -2.12132 \r\nC -2.683901 -1.55874 -3 -0.795609 -3 0 \r\nC -3 0.795609 -2.683901 1.55874 -2.12132 2.12132 \r\nC -1.55874 2.683901 -0.795609 3 0 3 \r\nz\r\n\" id=\"m2e36643a0b\" style=\"stroke:#9467bd;\"/>\r\n    </defs>\r\n    <g clip-path=\"url(#p99f8232b1f)\">\r\n     <use style=\"fill:#9467bd;stroke:#9467bd;\" x=\"100.315398\" xlink:href=\"#m2e36643a0b\" y=\"529.590909\"/>\r\n     <use style=\"fill:#9467bd;stroke:#9467bd;\" x=\"353.951761\" xlink:href=\"#m2e36643a0b\" y=\"100.219821\"/>\r\n     <use style=\"fill:#9467bd;stroke:#9467bd;\" x=\"607.588125\" xlink:href=\"#m2e36643a0b\" y=\"59.713115\"/>\r\n     <use style=\"fill:#9467bd;stroke:#9467bd;\" x=\"861.224489\" xlink:href=\"#m2e36643a0b\" y=\"51.611773\"/>\r\n     <use style=\"fill:#9467bd;stroke:#9467bd;\" x=\"1114.860852\" xlink:href=\"#m2e36643a0b\" y=\"43.510432\"/>\r\n    </g>\r\n   </g>\r\n   <g id=\"patch_3\">\r\n    <path d=\"M 49.588125 554.3 \r\nL 49.588125 10.7 \r\n\" style=\"fill:none;stroke:#000000;stroke-linecap:square;stroke-linejoin:miter;stroke-width:0.8;\"/>\r\n   </g>\r\n   <g id=\"patch_4\">\r\n    <path d=\"M 1165.588125 554.3 \r\nL 1165.588125 10.7 \r\n\" style=\"fill:none;stroke:#000000;stroke-linecap:square;stroke-linejoin:miter;stroke-width:0.8;\"/>\r\n   </g>\r\n   <g id=\"patch_5\">\r\n    <path d=\"M 49.588125 554.3 \r\nL 1165.588125 554.3 \r\n\" style=\"fill:none;stroke:#000000;stroke-linecap:square;stroke-linejoin:miter;stroke-width:0.8;\"/>\r\n   </g>\r\n   <g id=\"patch_6\">\r\n    <path d=\"M 49.588125 10.7 \r\nL 1165.588125 10.7 \r\n\" style=\"fill:none;stroke:#000000;stroke-linecap:square;stroke-linejoin:miter;stroke-width:0.8;\"/>\r\n   </g>\r\n   <g id=\"legend_1\">\r\n    <g id=\"patch_7\">\r\n     <path d=\"M 925.513125 546.3 \r\nL 1154.388125 546.3 \r\nQ 1157.588125 546.3 1157.588125 543.1 \r\nL 1157.588125 427.275 \r\nQ 1157.588125 424.075 1154.388125 424.075 \r\nL 925.513125 424.075 \r\nQ 922.313125 424.075 922.313125 427.275 \r\nL 922.313125 543.1 \r\nQ 922.313125 546.3 925.513125 546.3 \r\nz\r\n\" style=\"fill:#ffffff;opacity:0.8;stroke:#cccccc;stroke-linejoin:miter;\"/>\r\n    </g>\r\n    <g id=\"line2d_36\">\r\n     <path d=\"M 928.713125 437.0325 \r\nL 960.713125 437.0325 \r\n\" style=\"fill:none;stroke:#1f77b4;stroke-linecap:square;stroke-width:1.5;\"/>\r\n    </g>\r\n    <g id=\"line2d_37\">\r\n     <g>\r\n      <use style=\"fill:#1f77b4;stroke:#1f77b4;\" x=\"944.713125\" xlink:href=\"#md5f773e5fb\" y=\"437.0325\"/>\r\n     </g>\r\n    </g>\r\n    <g id=\"text_18\">\r\n     <!-- Embedding length: 8 -->\r\n     <defs>\r\n      <path d=\"M 9.8125 72.90625 \r\nL 55.90625 72.90625 \r\nL 55.90625 64.59375 \r\nL 19.671875 64.59375 \r\nL 19.671875 43.015625 \r\nL 54.390625 43.015625 \r\nL 54.390625 34.71875 \r\nL 19.671875 34.71875 \r\nL 19.671875 8.296875 \r\nL 56.78125 8.296875 \r\nL 56.78125 0 \r\nL 9.8125 0 \r\nz\r\n\" id=\"DejaVuSans-45\"/>\r\n      <path d=\"M 52 44.1875 \r\nQ 55.375 50.25 60.0625 53.125 \r\nQ 64.75 56 71.09375 56 \r\nQ 79.640625 56 84.28125 50.015625 \r\nQ 88.921875 44.046875 88.921875 33.015625 \r\nL 88.921875 0 \r\nL 79.890625 0 \r\nL 79.890625 32.71875 \r\nQ 79.890625 40.578125 77.09375 44.375 \r\nQ 74.3125 48.1875 68.609375 48.1875 \r\nQ 61.625 48.1875 57.5625 43.546875 \r\nQ 53.515625 38.921875 53.515625 30.90625 \r\nL 53.515625 0 \r\nL 44.484375 0 \r\nL 44.484375 32.71875 \r\nQ 44.484375 40.625 41.703125 44.40625 \r\nQ 38.921875 48.1875 33.109375 48.1875 \r\nQ 26.21875 48.1875 22.15625 43.53125 \r\nQ 18.109375 38.875 18.109375 30.90625 \r\nL 18.109375 0 \r\nL 9.078125 0 \r\nL 9.078125 54.6875 \r\nL 18.109375 54.6875 \r\nL 18.109375 46.1875 \r\nQ 21.1875 51.21875 25.484375 53.609375 \r\nQ 29.78125 56 35.6875 56 \r\nQ 41.65625 56 45.828125 52.96875 \r\nQ 50 49.953125 52 44.1875 \r\nz\r\n\" id=\"DejaVuSans-6d\"/>\r\n      <path d=\"M 48.6875 27.296875 \r\nQ 48.6875 37.203125 44.609375 42.84375 \r\nQ 40.53125 48.484375 33.40625 48.484375 \r\nQ 26.265625 48.484375 22.1875 42.84375 \r\nQ 18.109375 37.203125 18.109375 27.296875 \r\nQ 18.109375 17.390625 22.1875 11.75 \r\nQ 26.265625 6.109375 33.40625 6.109375 \r\nQ 40.53125 6.109375 44.609375 11.75 \r\nQ 48.6875 17.390625 48.6875 27.296875 \r\nz\r\nM 18.109375 46.390625 \r\nQ 20.953125 51.265625 25.265625 53.625 \r\nQ 29.59375 56 35.59375 56 \r\nQ 45.5625 56 51.78125 48.09375 \r\nQ 58.015625 40.1875 58.015625 27.296875 \r\nQ 58.015625 14.40625 51.78125 6.484375 \r\nQ 45.5625 -1.421875 35.59375 -1.421875 \r\nQ 29.59375 -1.421875 25.265625 0.953125 \r\nQ 20.953125 3.328125 18.109375 8.203125 \r\nL 18.109375 0 \r\nL 9.078125 0 \r\nL 9.078125 75.984375 \r\nL 18.109375 75.984375 \r\nz\r\n\" id=\"DejaVuSans-62\"/>\r\n      <path d=\"M 45.40625 46.390625 \r\nL 45.40625 75.984375 \r\nL 54.390625 75.984375 \r\nL 54.390625 0 \r\nL 45.40625 0 \r\nL 45.40625 8.203125 \r\nQ 42.578125 3.328125 38.25 0.953125 \r\nQ 33.9375 -1.421875 27.875 -1.421875 \r\nQ 17.96875 -1.421875 11.734375 6.484375 \r\nQ 5.515625 14.40625 5.515625 27.296875 \r\nQ 5.515625 40.1875 11.734375 48.09375 \r\nQ 17.96875 56 27.875 56 \r\nQ 33.9375 56 38.25 53.625 \r\nQ 42.578125 51.265625 45.40625 46.390625 \r\nz\r\nM 14.796875 27.296875 \r\nQ 14.796875 17.390625 18.875 11.75 \r\nQ 22.953125 6.109375 30.078125 6.109375 \r\nQ 37.203125 6.109375 41.296875 11.75 \r\nQ 45.40625 17.390625 45.40625 27.296875 \r\nQ 45.40625 37.203125 41.296875 42.84375 \r\nQ 37.203125 48.484375 30.078125 48.484375 \r\nQ 22.953125 48.484375 18.875 42.84375 \r\nQ 14.796875 37.203125 14.796875 27.296875 \r\nz\r\n\" id=\"DejaVuSans-64\"/>\r\n      <path d=\"M 45.40625 27.984375 \r\nQ 45.40625 37.75 41.375 43.109375 \r\nQ 37.359375 48.484375 30.078125 48.484375 \r\nQ 22.859375 48.484375 18.828125 43.109375 \r\nQ 14.796875 37.75 14.796875 27.984375 \r\nQ 14.796875 18.265625 18.828125 12.890625 \r\nQ 22.859375 7.515625 30.078125 7.515625 \r\nQ 37.359375 7.515625 41.375 12.890625 \r\nQ 45.40625 18.265625 45.40625 27.984375 \r\nz\r\nM 54.390625 6.78125 \r\nQ 54.390625 -7.171875 48.1875 -13.984375 \r\nQ 42 -20.796875 29.203125 -20.796875 \r\nQ 24.46875 -20.796875 20.265625 -20.09375 \r\nQ 16.0625 -19.390625 12.109375 -17.921875 \r\nL 12.109375 -9.1875 \r\nQ 16.0625 -11.328125 19.921875 -12.34375 \r\nQ 23.78125 -13.375 27.78125 -13.375 \r\nQ 36.625 -13.375 41.015625 -8.765625 \r\nQ 45.40625 -4.15625 45.40625 5.171875 \r\nL 45.40625 9.625 \r\nQ 42.625 4.78125 38.28125 2.390625 \r\nQ 33.9375 0 27.875 0 \r\nQ 17.828125 0 11.671875 7.65625 \r\nQ 5.515625 15.328125 5.515625 27.984375 \r\nQ 5.515625 40.671875 11.671875 48.328125 \r\nQ 17.828125 56 27.875 56 \r\nQ 33.9375 56 38.28125 53.609375 \r\nQ 42.625 51.21875 45.40625 46.390625 \r\nL 45.40625 54.6875 \r\nL 54.390625 54.6875 \r\nz\r\n\" id=\"DejaVuSans-67\"/>\r\n      <path d=\"M 9.421875 75.984375 \r\nL 18.40625 75.984375 \r\nL 18.40625 0 \r\nL 9.421875 0 \r\nz\r\n\" id=\"DejaVuSans-6c\"/>\r\n      <path d=\"M 11.71875 12.40625 \r\nL 22.015625 12.40625 \r\nL 22.015625 0 \r\nL 11.71875 0 \r\nz\r\nM 11.71875 51.703125 \r\nL 22.015625 51.703125 \r\nL 22.015625 39.3125 \r\nL 11.71875 39.3125 \r\nz\r\n\" id=\"DejaVuSans-3a\"/>\r\n     </defs>\r\n     <g transform=\"translate(973.513125 442.6325)scale(0.16 -0.16)\">\r\n      <use xlink:href=\"#DejaVuSans-45\"/>\r\n      <use x=\"63.183594\" xlink:href=\"#DejaVuSans-6d\"/>\r\n      <use x=\"160.595703\" xlink:href=\"#DejaVuSans-62\"/>\r\n      <use x=\"224.072266\" xlink:href=\"#DejaVuSans-65\"/>\r\n      <use x=\"285.595703\" xlink:href=\"#DejaVuSans-64\"/>\r\n      <use x=\"349.072266\" xlink:href=\"#DejaVuSans-64\"/>\r\n      <use x=\"412.548828\" xlink:href=\"#DejaVuSans-69\"/>\r\n      <use x=\"440.332031\" xlink:href=\"#DejaVuSans-6e\"/>\r\n      <use x=\"503.710938\" xlink:href=\"#DejaVuSans-67\"/>\r\n      <use x=\"567.1875\" xlink:href=\"#DejaVuSans-20\"/>\r\n      <use x=\"598.974609\" xlink:href=\"#DejaVuSans-6c\"/>\r\n      <use x=\"626.757812\" xlink:href=\"#DejaVuSans-65\"/>\r\n      <use x=\"688.28125\" xlink:href=\"#DejaVuSans-6e\"/>\r\n      <use x=\"751.660156\" xlink:href=\"#DejaVuSans-67\"/>\r\n      <use x=\"815.136719\" xlink:href=\"#DejaVuSans-74\"/>\r\n      <use x=\"854.345703\" xlink:href=\"#DejaVuSans-68\"/>\r\n      <use x=\"917.724609\" xlink:href=\"#DejaVuSans-3a\"/>\r\n      <use x=\"951.416016\" xlink:href=\"#DejaVuSans-20\"/>\r\n      <use x=\"983.203125\" xlink:href=\"#DejaVuSans-38\"/>\r\n     </g>\r\n    </g>\r\n    <g id=\"line2d_38\">\r\n     <path d=\"M 928.713125 460.5175 \r\nL 960.713125 460.5175 \r\n\" style=\"fill:none;stroke:#ff7f0e;stroke-linecap:square;stroke-width:1.5;\"/>\r\n    </g>\r\n    <g id=\"line2d_39\">\r\n     <g>\r\n      <use style=\"fill:#ff7f0e;stroke:#ff7f0e;\" x=\"944.713125\" xlink:href=\"#mad0aab373f\" y=\"460.5175\"/>\r\n     </g>\r\n    </g>\r\n    <g id=\"text_19\">\r\n     <!-- Embedding length: 16 -->\r\n     <g transform=\"translate(973.513125 466.1175)scale(0.16 -0.16)\">\r\n      <use xlink:href=\"#DejaVuSans-45\"/>\r\n      <use x=\"63.183594\" xlink:href=\"#DejaVuSans-6d\"/>\r\n      <use x=\"160.595703\" xlink:href=\"#DejaVuSans-62\"/>\r\n      <use x=\"224.072266\" xlink:href=\"#DejaVuSans-65\"/>\r\n      <use x=\"285.595703\" xlink:href=\"#DejaVuSans-64\"/>\r\n      <use x=\"349.072266\" xlink:href=\"#DejaVuSans-64\"/>\r\n      <use x=\"412.548828\" xlink:href=\"#DejaVuSans-69\"/>\r\n      <use x=\"440.332031\" xlink:href=\"#DejaVuSans-6e\"/>\r\n      <use x=\"503.710938\" xlink:href=\"#DejaVuSans-67\"/>\r\n      <use x=\"567.1875\" xlink:href=\"#DejaVuSans-20\"/>\r\n      <use x=\"598.974609\" xlink:href=\"#DejaVuSans-6c\"/>\r\n      <use x=\"626.757812\" xlink:href=\"#DejaVuSans-65\"/>\r\n      <use x=\"688.28125\" xlink:href=\"#DejaVuSans-6e\"/>\r\n      <use x=\"751.660156\" xlink:href=\"#DejaVuSans-67\"/>\r\n      <use x=\"815.136719\" xlink:href=\"#DejaVuSans-74\"/>\r\n      <use x=\"854.345703\" xlink:href=\"#DejaVuSans-68\"/>\r\n      <use x=\"917.724609\" xlink:href=\"#DejaVuSans-3a\"/>\r\n      <use x=\"951.416016\" xlink:href=\"#DejaVuSans-20\"/>\r\n      <use x=\"983.203125\" xlink:href=\"#DejaVuSans-31\"/>\r\n      <use x=\"1046.826172\" xlink:href=\"#DejaVuSans-36\"/>\r\n     </g>\r\n    </g>\r\n    <g id=\"line2d_40\">\r\n     <path d=\"M 928.713125 484.0025 \r\nL 960.713125 484.0025 \r\n\" style=\"fill:none;stroke:#2ca02c;stroke-linecap:square;stroke-width:1.5;\"/>\r\n    </g>\r\n    <g id=\"line2d_41\">\r\n     <g>\r\n      <use style=\"fill:#2ca02c;stroke:#2ca02c;\" x=\"944.713125\" xlink:href=\"#m41baef5bd9\" y=\"484.0025\"/>\r\n     </g>\r\n    </g>\r\n    <g id=\"text_20\">\r\n     <!-- Embedding length: 32 -->\r\n     <g transform=\"translate(973.513125 489.6025)scale(0.16 -0.16)\">\r\n      <use xlink:href=\"#DejaVuSans-45\"/>\r\n      <use x=\"63.183594\" xlink:href=\"#DejaVuSans-6d\"/>\r\n      <use x=\"160.595703\" xlink:href=\"#DejaVuSans-62\"/>\r\n      <use x=\"224.072266\" xlink:href=\"#DejaVuSans-65\"/>\r\n      <use x=\"285.595703\" xlink:href=\"#DejaVuSans-64\"/>\r\n      <use x=\"349.072266\" xlink:href=\"#DejaVuSans-64\"/>\r\n      <use x=\"412.548828\" xlink:href=\"#DejaVuSans-69\"/>\r\n      <use x=\"440.332031\" xlink:href=\"#DejaVuSans-6e\"/>\r\n      <use x=\"503.710938\" xlink:href=\"#DejaVuSans-67\"/>\r\n      <use x=\"567.1875\" xlink:href=\"#DejaVuSans-20\"/>\r\n      <use x=\"598.974609\" xlink:href=\"#DejaVuSans-6c\"/>\r\n      <use x=\"626.757812\" xlink:href=\"#DejaVuSans-65\"/>\r\n      <use x=\"688.28125\" xlink:href=\"#DejaVuSans-6e\"/>\r\n      <use x=\"751.660156\" xlink:href=\"#DejaVuSans-67\"/>\r\n      <use x=\"815.136719\" xlink:href=\"#DejaVuSans-74\"/>\r\n      <use x=\"854.345703\" xlink:href=\"#DejaVuSans-68\"/>\r\n      <use x=\"917.724609\" xlink:href=\"#DejaVuSans-3a\"/>\r\n      <use x=\"951.416016\" xlink:href=\"#DejaVuSans-20\"/>\r\n      <use x=\"983.203125\" xlink:href=\"#DejaVuSans-33\"/>\r\n      <use x=\"1046.826172\" xlink:href=\"#DejaVuSans-32\"/>\r\n     </g>\r\n    </g>\r\n    <g id=\"line2d_42\">\r\n     <path d=\"M 928.713125 507.4875 \r\nL 960.713125 507.4875 \r\n\" style=\"fill:none;stroke:#d62728;stroke-linecap:square;stroke-width:1.5;\"/>\r\n    </g>\r\n    <g id=\"line2d_43\">\r\n     <g>\r\n      <use style=\"fill:#d62728;stroke:#d62728;\" x=\"944.713125\" xlink:href=\"#mc3b140fb5f\" y=\"507.4875\"/>\r\n     </g>\r\n    </g>\r\n    <g id=\"text_21\">\r\n     <!-- Embedding length: 48 -->\r\n     <g transform=\"translate(973.513125 513.0875)scale(0.16 -0.16)\">\r\n      <use xlink:href=\"#DejaVuSans-45\"/>\r\n      <use x=\"63.183594\" xlink:href=\"#DejaVuSans-6d\"/>\r\n      <use x=\"160.595703\" xlink:href=\"#DejaVuSans-62\"/>\r\n      <use x=\"224.072266\" xlink:href=\"#DejaVuSans-65\"/>\r\n      <use x=\"285.595703\" xlink:href=\"#DejaVuSans-64\"/>\r\n      <use x=\"349.072266\" xlink:href=\"#DejaVuSans-64\"/>\r\n      <use x=\"412.548828\" xlink:href=\"#DejaVuSans-69\"/>\r\n      <use x=\"440.332031\" xlink:href=\"#DejaVuSans-6e\"/>\r\n      <use x=\"503.710938\" xlink:href=\"#DejaVuSans-67\"/>\r\n      <use x=\"567.1875\" xlink:href=\"#DejaVuSans-20\"/>\r\n      <use x=\"598.974609\" xlink:href=\"#DejaVuSans-6c\"/>\r\n      <use x=\"626.757812\" xlink:href=\"#DejaVuSans-65\"/>\r\n      <use x=\"688.28125\" xlink:href=\"#DejaVuSans-6e\"/>\r\n      <use x=\"751.660156\" xlink:href=\"#DejaVuSans-67\"/>\r\n      <use x=\"815.136719\" xlink:href=\"#DejaVuSans-74\"/>\r\n      <use x=\"854.345703\" xlink:href=\"#DejaVuSans-68\"/>\r\n      <use x=\"917.724609\" xlink:href=\"#DejaVuSans-3a\"/>\r\n      <use x=\"951.416016\" xlink:href=\"#DejaVuSans-20\"/>\r\n      <use x=\"983.203125\" xlink:href=\"#DejaVuSans-34\"/>\r\n      <use x=\"1046.826172\" xlink:href=\"#DejaVuSans-38\"/>\r\n     </g>\r\n    </g>\r\n    <g id=\"line2d_44\">\r\n     <path d=\"M 928.713125 530.9725 \r\nL 960.713125 530.9725 \r\n\" style=\"fill:none;stroke:#9467bd;stroke-linecap:square;stroke-width:1.5;\"/>\r\n    </g>\r\n    <g id=\"line2d_45\">\r\n     <g>\r\n      <use style=\"fill:#9467bd;stroke:#9467bd;\" x=\"944.713125\" xlink:href=\"#m2e36643a0b\" y=\"530.9725\"/>\r\n     </g>\r\n    </g>\r\n    <g id=\"text_22\">\r\n     <!-- Embedding length: 64 -->\r\n     <g transform=\"translate(973.513125 536.5725)scale(0.16 -0.16)\">\r\n      <use xlink:href=\"#DejaVuSans-45\"/>\r\n      <use x=\"63.183594\" xlink:href=\"#DejaVuSans-6d\"/>\r\n      <use x=\"160.595703\" xlink:href=\"#DejaVuSans-62\"/>\r\n      <use x=\"224.072266\" xlink:href=\"#DejaVuSans-65\"/>\r\n      <use x=\"285.595703\" xlink:href=\"#DejaVuSans-64\"/>\r\n      <use x=\"349.072266\" xlink:href=\"#DejaVuSans-64\"/>\r\n      <use x=\"412.548828\" xlink:href=\"#DejaVuSans-69\"/>\r\n      <use x=\"440.332031\" xlink:href=\"#DejaVuSans-6e\"/>\r\n      <use x=\"503.710938\" xlink:href=\"#DejaVuSans-67\"/>\r\n      <use x=\"567.1875\" xlink:href=\"#DejaVuSans-20\"/>\r\n      <use x=\"598.974609\" xlink:href=\"#DejaVuSans-6c\"/>\r\n      <use x=\"626.757812\" xlink:href=\"#DejaVuSans-65\"/>\r\n      <use x=\"688.28125\" xlink:href=\"#DejaVuSans-6e\"/>\r\n      <use x=\"751.660156\" xlink:href=\"#DejaVuSans-67\"/>\r\n      <use x=\"815.136719\" xlink:href=\"#DejaVuSans-74\"/>\r\n      <use x=\"854.345703\" xlink:href=\"#DejaVuSans-68\"/>\r\n      <use x=\"917.724609\" xlink:href=\"#DejaVuSans-3a\"/>\r\n      <use x=\"951.416016\" xlink:href=\"#DejaVuSans-20\"/>\r\n      <use x=\"983.203125\" xlink:href=\"#DejaVuSans-36\"/>\r\n      <use x=\"1046.826172\" xlink:href=\"#DejaVuSans-34\"/>\r\n     </g>\r\n    </g>\r\n   </g>\r\n  </g>\r\n </g>\r\n <defs>\r\n  <clipPath id=\"p99f8232b1f\">\r\n   <rect height=\"543.6\" width=\"1116\" x=\"49.588125\" y=\"10.7\"/>\r\n  </clipPath>\r\n </defs>\r\n</svg>\r\n",
      "text/plain": "<Figure size 1440x720 with 1 Axes>"
     },
     "metadata": {
      "needs_background": "light"
     },
     "output_type": "display_data"
    }
   ],
   "source": [
    "# YOUR CODE HERE\n",
    "fig, ax = plt.subplots(nrows=1, ncols=1, figsize=(20,10))\n",
    "\n",
    "epoch_indexes = np.linspace(0, len(train_accuracy_matrix[0]) - 2, 5).astype(int)\n",
    "\n",
    "for i, length in enumerate([8, 16, 32, 48, 64]):\n",
    "    plt.plot(np.take(train_accuracy_matrix[i], epoch_indexes), '-o', label='Embedding length: ' + str(length))\n",
    "\n",
    "ax.grid(alpha=0.25)\n",
    "ax.legend(loc=\"lower right\", fontsize=16)\n",
    "ax.set_xlabel(\"epoch\", fontsize=16)\n",
    "ax.set_ylabel(\"train accuracy\", fontsize=16)\n",
    "plt.show()\n"
   ]
  },
  {
   "cell_type": "markdown",
   "metadata": {
    "deletable": false,
    "editable": false,
    "nbgrader": {
     "cell_type": "markdown",
     "checksum": "e65b1d3e3766e5df4b3f17332ca8fa0b",
     "grade": false,
     "grade_id": "cell-6edf99edb9a7bdcc",
     "locked": true,
     "schema_version": 3,
     "solution": false,
     "task": false
    }
   },
   "source": [
    "Give your observation and explanation below."
   ]
  },
  {
   "cell_type": "markdown",
   "metadata": {
    "deletable": false,
    "nbgrader": {
     "cell_type": "markdown",
     "checksum": "80155864567eb1ff7ebeafa96eaa8585",
     "grade": true,
     "grade_id": "cell-b621817b4445c626",
     "locked": false,
     "points": 4,
     "schema_version": 3,
     "solution": true,
     "task": false
    }
   },
   "source": [
    "By increasing the embedding length, the accuracy seemed to increase after training. Having a higher dimension embedding allows the model to learn more complex representations of the words. Having too low of a dimensionality for the embedding can cause many generalizations to be made, but having too high of a dimension can cause the words to have little relation to each other. In addition, higher embedding leads to a larger network that can take longer to train."
   ]
  },
  {
   "cell_type": "markdown",
   "metadata": {},
   "source": [
    "### Optional survey.\n",
    "***\n",
    "\n",
    "We are always interested in your feedback. At the end of each homework, there is a simple anonymous feedback [survey](https://forms.gle/6Kf72C26am1SAjtg6) to solicit your feedback for how to improve the course."
   ]
  },
  {
   "cell_type": "code",
   "execution_count": null,
   "metadata": {},
   "outputs": [],
   "source": []
  }
 ],
 "metadata": {
  "kernelspec": {
   "display_name": "Python 3.6.6 64-bit ('base': conda)",
   "language": "python",
   "name": "python36664bitbasecondaa1d8aa6123fa4350b9f144e6418d2e32"
  },
  "language_info": {
   "codemirror_mode": {
    "name": "ipython",
    "version": 3
   },
   "file_extension": ".py",
   "mimetype": "text/x-python",
   "name": "python",
   "nbconvert_exporter": "python",
   "pygments_lexer": "ipython3",
   "version": "3.6.6-final"
  },
  "toc": {
   "base_numbering": 1,
   "nav_menu": {},
   "number_sections": false,
   "sideBar": true,
   "skip_h1_title": true,
   "title_cell": "Table of Contents",
   "title_sidebar": "Contents",
   "toc_cell": false,
   "toc_position": {
    "height": "calc(100% - 180px)",
    "left": "10px",
    "top": "150px",
    "width": "340px"
   },
   "toc_section_display": true,
   "toc_window_display": true
  }
 },
 "nbformat": 4,
 "nbformat_minor": 2
}