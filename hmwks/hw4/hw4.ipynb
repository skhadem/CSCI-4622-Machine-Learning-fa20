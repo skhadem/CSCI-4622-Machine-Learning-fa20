{
 "cells": [
  {
   "cell_type": "markdown",
   "metadata": {
    "deletable": false,
    "editable": false,
    "nbgrader": {
     "cell_type": "markdown",
     "checksum": "02804d34b749993749a391fe95bd7520",
     "grade": false,
     "grade_id": "cell-39cc69ad672c2457",
     "locked": true,
     "schema_version": 3,
     "solution": false,
     "task": false
    }
   },
   "source": [
    "# Homework 4: SVM\n",
    "\n",
    "\n",
    "This assignment is due on Moodle by **11:59pm on Friday October 30**. \n",
    "Your solutions to theoretical questions should be done in Markdown/MathJax directly below the associated question.\n",
    "Your solutions to computational questions should include any specified Python code and results \n",
    "as well as written commentary on your conclusions.\n",
    "Remember that you are encouraged to discuss the problems with your instructors and classmates, \n",
    "but **you must write all code and solutions on your own**. For a refresher on the course **Collaboration Policy** click [here](https://github.com/BoulderDS/CSCI5622-Machine-Learning/blob/master/info/syllabus.md#collaboration-policy).\n",
    "\n",
    "**NOTES**: \n",
    "\n",
    "- Do **NOT** load or use any Python packages that are not available in Anaconda (Version: 2019.07) with Python 3.7. \n",
    "- Some problems with code may be autograded.  If we provide a function API **do not** change it.  If we do not provide a function API then you're free to structure your code however you like. \n",
    "- Submit only this Jupyter notebook to Moodle.  Do not compress it using tar, rar, zip, etc. \n",
    "- In this homework you will explore the primal and dual representations of support vector machines, as well as the performance of various kernels while classifying sentiments. Install the following packages: `nltk` (Version: 3.5), `scikit-learn` (Version: 0.23.2)\n"
   ]
  },
  {
   "cell_type": "markdown",
   "metadata": {
    "deletable": false,
    "editable": false,
    "nbgrader": {
     "cell_type": "markdown",
     "checksum": "b6a65990e3ee338fcca6169ba1c4d1ff",
     "grade": false,
     "grade_id": "cell-42609c0d44322df4",
     "locked": true,
     "schema_version": 3,
     "solution": false,
     "task": false
    }
   },
   "source": [
    "**Please put your name and cuidentity username.**"
   ]
  },
  {
   "cell_type": "markdown",
   "metadata": {},
   "source": [
    "**Name**: Soroush Khadem"
   ]
  },
  {
   "cell_type": "markdown",
   "metadata": {},
   "source": [
    "**Identity Key**: sokh4726"
   ]
  },
  {
   "cell_type": "code",
   "execution_count": 1,
   "metadata": {},
   "outputs": [],
   "source": [
    "import math\n",
    "import pickle\n",
    "import gzip\n",
    "import numpy as np\n",
    "import pandas\n",
    "import matplotlib.pylab as plt\n",
    "%matplotlib inline\n",
    "\n",
    "# Set random seed for deterministic output\n",
    "np.random.seed(5622)"
   ]
  },
  {
   "cell_type": "markdown",
   "metadata": {
    "deletable": false,
    "editable": false,
    "nbgrader": {
     "cell_type": "markdown",
     "checksum": "bcadea9323aaa669deed90d8c5ea2f4b",
     "grade": false,
     "grade_id": "cell-1e40b611c0a33948",
     "locked": true,
     "schema_version": 3,
     "solution": false,
     "task": false
    }
   },
   "source": [
    "[40 Points] Problem 1 - Basic concepts of SVM\n",
    "---\n",
    "\n",
    "### Part 1 [10 points]\n",
    "* What are the main differences between the primal and the dual representations?\n",
    "* For the variables $\\xi_i$, $C$ in the primal formation, what are their roles? Write out the upper/lower bounds (constraints) of these variables. What are the interpretation for these maximum/minimum values?\n",
    "* For the variable $\\alpha_i$, $\\beta_i$ in the dual formation, what are the upper/lower bound (constraints) of them?"
   ]
  },
  {
   "cell_type": "markdown",
   "metadata": {
    "collapsed": true,
    "deletable": false,
    "nbgrader": {
     "cell_type": "markdown",
     "checksum": "f616bf5ea6cd25ba5b9bbbf94bb465f5",
     "grade": true,
     "grade_id": "cell-f177349aed9aabcf",
     "locked": false,
     "points": 10,
     "schema_version": 3,
     "solution": true
    }
   },
   "source": [
    "- The main differences between the primal and dual representations of the SVM is what parameters you are optimizing. For the primal problem, you optimize the weight abd bias directly. In the dual, you optimize $\\alpha$ and then find your wight and bias from the constrains imposed on the problem\n",
    "- $\\xi_i$ is the amount of slack for an example $i$, it shows how far away from the boundary misclassified points are, $C$ is the penalty for slack, it can allow some slack, or misclassifications, in order to deal with outliers. $C$ ranges from 0 to infinity. If $C = 0$, then the SVM doesn't even look at the data. Very large $C$ approaches the hard-margin case of the SVM. $\\xi_i$ is 0 for values that are classified correctly, and non-zero for misclassified examples.\n",
    "- $\\alpha_i$ and $\\beta_i$ are constrained by the values of $x$ AND $y$"
   ]
  },
  {
   "cell_type": "markdown",
   "metadata": {
    "deletable": false,
    "editable": false,
    "nbgrader": {
     "cell_type": "markdown",
     "checksum": "d9711d8637903ea332d20ecae46de997",
     "grade": false,
     "grade_id": "cell-fe7878b1dd2ff1df",
     "locked": true,
     "schema_version": 3,
     "solution": false,
     "task": false
    }
   },
   "source": [
    "### Part 2 [20 points]\n",
    "\n",
    " * Given a weight vector, implement the `find_support` function that returns the indices of the support vectors.\n",
    " * Given a weight vector, implement the `find_slack` function that returns the indices of the vectors with nonzero slack.\n",
    " * Given the alpha dual vector, implement the `weight_vector` function that returns the corresponding weight vector."
   ]
  },
  {
   "cell_type": "code",
   "execution_count": 2,
   "metadata": {},
   "outputs": [],
   "source": [
    "class SVM:\n",
    "    def __init__(self):\n",
    "        self.kINSP = np.array([\n",
    "            (1, 8, +1),\n",
    "            (7, 2, -1),\n",
    "            (6, -1, -1),\n",
    "            (-5, 0, +1),\n",
    "            (-5, 1, -1),\n",
    "            (-5, 2, +1),\n",
    "            (6, 3, +1),\n",
    "            (6, 1, -1),\n",
    "            (5, 2, -1)\n",
    "        ])\n",
    "        self.kSEP = np.array([\n",
    "            (-2, 2, +1),    # 0 - A\n",
    "            (0, 4, +1),     # 1 - B\n",
    "            (2, 1, +1),     # 2 - C\n",
    "            (-2, -3, -1),   # 3 - D\n",
    "            (0, -1, -1),    # 4 - E\n",
    "            (2, -3, -1),    # 5 - F\n",
    "        ])\n",
    "\n",
    "\n",
    "    def weight_vector(self, x, y, alpha):\n",
    "        \"\"\"\n",
    "        Given a vector of alphas, compute the primal weight vector w.\n",
    "        The vector w should be returned as an Numpy array.\n",
    "        \n",
    "        Returns:\n",
    "            w (np.ndarray): The primal weight vector w.\n",
    "        \"\"\"\n",
    "\n",
    "        w = np.zeros(len(x[0]))\n",
    "        # YOUR CODE HERE\n",
    "        for index, x_ in enumerate(x.T):\n",
    "            w[index] = np.sum(alpha*y*x_)\n",
    "\n",
    "        return w\n",
    "\n",
    "\n",
    "\n",
    "    def find_support(self, x, y, w, b, tolerance=0.001):\n",
    "        \"\"\"\n",
    "        Given a set of training examples and primal weights, return the indices\n",
    "        of all of the support vectors as a set.\n",
    "        \n",
    "        Returns:\n",
    "            support (set) : set of support vector indices\n",
    "        \"\"\"\n",
    "\n",
    "        support = set()\n",
    "        # YOUR CODE HERE\n",
    "        \n",
    "        for index, (x_, y_) in enumerate(zip(x, y)):\n",
    "            if y_*(w.dot(x_) + b) <= (1 + tolerance):\n",
    "                support.add(index)\n",
    "\n",
    "        return support\n",
    "\n",
    "\n",
    "\n",
    "    def find_slack(self, x, y, w, b):\n",
    "        \"\"\"\n",
    "        Given a set of training examples and primal weights, return the indices\n",
    "        of all examples with nonzero slack as a set.\n",
    "        \n",
    "        Returns:\n",
    "            slack (set) : set of slack indices \n",
    "        \"\"\"\n",
    "\n",
    "        slack = set()\n",
    "        for index, (x_, y_) in enumerate(zip(x, y)):\n",
    "            if y_*(w.dot(x_) + b) < 1:\n",
    "                slack.add(index)\n",
    "\n",
    "        \n",
    "        return slack"
   ]
  },
  {
   "cell_type": "code",
   "execution_count": 3,
   "metadata": {},
   "outputs": [
    {
     "name": "stderr",
     "output_type": "stream",
     "text": [
      "TestWideSlack (tests.tests.TestSVM) ... ok\n",
      "TestNarrowSlack (tests.tests.TestSVM) ... ok\n",
      "TestSupport (tests.tests.TestSVM) ... ok\n",
      "TestWeight (tests.tests.TestSVM) ... ok\n",
      "\n",
      "----------------------------------------------------------------------\n",
      "Ran 4 tests in 0.004s\n",
      "\n",
      "OK\n"
     ]
    }
   ],
   "source": [
    "from tests import tests\n",
    "tests.run_test_suite(\"prob 1\", SVM)"
   ]
  },
  {
   "cell_type": "markdown",
   "metadata": {
    "deletable": false,
    "editable": false,
    "nbgrader": {
     "cell_type": "markdown",
     "checksum": "b842153bbb481e2a662612aaa95c8979",
     "grade": false,
     "grade_id": "cell-7c25ab5ed0d77621",
     "locked": true,
     "schema_version": 3,
     "solution": false,
     "task": false
    }
   },
   "source": [
    "### Part 3 [10 points]\n",
    "\n",
    "The goal of this problem is to correctly classify test data points, given a training data set.\n",
    "For this problem, assume that we are training an SVM with a quadratic kernel, which means our kernel function is a polynomial kernel of degree 2. You are given the data set presented in the figure below. The slack penalty $C$ will determine the location of the decision boundary.\n",
    "\n",
    "Justify the following questions in a sentence or via drawing decision boundary.\n",
    "![training_data](./data/data.png)\n",
    "\n",
    "* Where would the decision boundary be for very large values of $C$ ?\n",
    "* Where you would expect the decision boundary to be if  $C = 0$ ?\n",
    "* Which of the two cases above would you expect to generalize better on test data? Why?"
   ]
  },
  {
   "cell_type": "markdown",
   "metadata": {
    "deletable": false,
    "nbgrader": {
     "cell_type": "markdown",
     "checksum": "985db05b9496fb3714ee2096479f6f7d",
     "grade": true,
     "grade_id": "cell-02406ba497be1623",
     "locked": false,
     "points": 10,
     "schema_version": 3,
     "solution": true
    }
   },
   "source": [
    "- For large values of C, I would expect the line to be very close to the cluster of green points, since the SVM will try not to misclassify the two red points on that side\n",
    "- For C = 0, the SVM ignores the data completely, since there is no effect of slack. Therefore, the line can be anywhere. However, with a small C not equal to 0, the line will allow the two red outliers, and fit the data nicely\n",
    "- I expect large values of C to generalize better. With C = 0, the SVM tends to underfit the data, since there is no effect of slack on the boundary"
   ]
  },
  {
   "cell_type": "markdown",
   "metadata": {
    "deletable": false,
    "editable": false,
    "nbgrader": {
     "cell_type": "markdown",
     "checksum": "bef866dff5b0ce6c9dea5e7aea37f23a",
     "grade": false,
     "grade_id": "cell-55888810e6151283",
     "locked": true,
     "schema_version": 3,
     "solution": false,
     "task": false
    }
   },
   "source": [
    "[30 points] Problem 2 - The Kernel Trick\n",
    "---\n",
    "The kernel trick can make SVM powerful and become non-linear. In this problem we will get familiar with the kernel trick.\n",
    "\n",
    "### Part 1 [10 points]\n",
    "\n",
    "We will construct a support vector machine that computes the XOR function, using values of +1 and −1 (instead of 1 and 0) for both inputs and outputs, so that an example looks like ($[−1, 1], 1$) or ($[−1, −1], −1$). \n",
    "- Map the input $[x_1, x_2]$ into a space consisting of $x_1$ and $x_1x_2$. \n",
    "- Plot the four input points in this space, and the maximal margin separator. \n",
    "- Give the margin value in the markdown cell. \n",
    "\n",
    "Remember to indicate which points have output +1 and which -1."
   ]
  },
  {
   "cell_type": "code",
   "execution_count": 4,
   "metadata": {},
   "outputs": [
    {
     "data": {
      "image/png": "[encoded data removed]",
      "text/plain": [
       "<Figure size 720x360 with 1 Axes>"
      ]
     },
     "metadata": {
      "needs_background": "light"
     },
     "output_type": "display_data"
    }
   ],
   "source": [
    "# YOUR CODE HERE\n",
    "pos_points = np.array([\n",
    "    [-1, 1],\n",
    "    [1, -1]\n",
    "])\n",
    "neg_points = np.array([\n",
    "    [-1, 1],\n",
    "    [-1, 1]\n",
    "])\n",
    "\n",
    "plt.figure(figsize=[10, 5])\n",
    "plt.plot(pos_points[0], pos_points[0] * pos_points[1], 'o', color='g', label='+1', markersize=10)\n",
    "plt.plot(neg_points[0], neg_points[1] * neg_points[1], 'o', color='r', label='-1', markersize=10)\n",
    "plt.plot(pos_points[0], pos_points[0] * pos_points[1], '--', color='k')\n",
    "plt.plot(neg_points[0], neg_points[1] * neg_points[1], '--', color='k')\n",
    "plt.plot([-1, 1], [0, 0], 'k', label='$x_1\\cdot x_2 = 0$', linewidth=3)\n",
    "plt.xlabel('$x_1$')\n",
    "plt.ylabel('$x_1\\cdot x_2$')\n",
    "plt.grid(alpha=0.25)\n",
    "plt.legend(loc='right')\n",
    "plt.show()"
   ]
  },
  {
   "cell_type": "markdown",
   "metadata": {
    "deletable": false,
    "nbgrader": {
     "cell_type": "markdown",
     "checksum": "e73071136adefa9aed2ebcd5957bd69a",
     "grade": true,
     "grade_id": "cell-64bbc4980b5c4edd",
     "locked": false,
     "points": 2,
     "schema_version": 3,
     "solution": true,
     "task": false
    }
   },
   "source": [
    "The margin has a value of $1$."
   ]
  },
  {
   "cell_type": "markdown",
   "metadata": {
    "deletable": false,
    "editable": false,
    "nbgrader": {
     "cell_type": "markdown",
     "checksum": "387213f9cb504ea0e2fc596e89d0f919",
     "grade": false,
     "grade_id": "cell-5ba884cd7e49d78d",
     "locked": true,
     "schema_version": 3,
     "solution": false,
     "task": false
    }
   },
   "source": [
    "### Part 2 [5 points]\n",
    "Plot the separating line of **Part 1** back in the original Euclidean input space."
   ]
  },
  {
   "cell_type": "code",
   "execution_count": 5,
   "metadata": {},
   "outputs": [
    {
     "name": "stderr",
     "output_type": "stream",
     "text": [
      "C:\\ProgramData\\Anaconda2\\lib\\site-packages\\matplotlib\\legend.py:641: UserWarning: Unrecognized location \"bottom right\". Falling back on \"best\"; valid locations are\n",
      "\tbest\n",
      "\tupper right\n",
      "\tupper left\n",
      "\tlower left\n",
      "\tlower right\n",
      "\tright\n",
      "\tcenter left\n",
      "\tcenter right\n",
      "\tlower center\n",
      "\tupper center\n",
      "\tcenter\n",
      "\n",
      "  % (loc, '\\n\\t'.join(self.codes)))\n"
     ]
    },
    {
     "data": {
      "image/png": "[encoded data removed]",
      "text/plain": [
       "<Figure size 720x360 with 1 Axes>"
      ]
     },
     "metadata": {
      "needs_background": "light"
     },
     "output_type": "display_data"
    }
   ],
   "source": [
    "# YOUR CODE HERE\n",
    "pos_points = np.array([\n",
    "    [-1, 1],\n",
    "    [1, -1]\n",
    "])\n",
    "neg_points = np.array([\n",
    "    [-1, 1],\n",
    "    [-1, 1]\n",
    "])\n",
    "\n",
    "plt.figure(figsize=[10, 5])\n",
    "plt.plot(pos_points[0], pos_points[1], 'o', color='g', label='+1', markersize=10)\n",
    "plt.plot(neg_points[0], neg_points[1], 'o', color='r', label='-1', markersize=10)\n",
    "plt.plot([0, 0], [-1, 1], 'k', label='$x_1 = 0$', linewidth=3)\n",
    "plt.plot([-1, 1], [0, 0], 'k', label='$x_2 = 0$', linewidth=3)\n",
    "plt.xlabel('$x_1$')\n",
    "plt.ylabel('$x_2$')\n",
    "plt.grid(alpha=0.25)\n",
    "plt.legend(loc='bottom right')\n",
    "plt.show()"
   ]
  },
  {
   "cell_type": "markdown",
   "metadata": {
    "deletable": false,
    "editable": false,
    "nbgrader": {
     "cell_type": "markdown",
     "checksum": "d978690256991b3b10176a46bb25febe",
     "grade": false,
     "grade_id": "cell-3013de14effe2d4a",
     "locked": true,
     "schema_version": 3,
     "solution": false,
     "task": false
    }
   },
   "source": [
    "### Part 3 [5 points]\n",
    "Is the separator in **Part 1** linear? Is the one in **Part 2** linear? Explain your answer."
   ]
  },
  {
   "cell_type": "markdown",
   "metadata": {
    "deletable": false,
    "nbgrader": {
     "cell_type": "markdown",
     "checksum": "8821f5382c580de24c483bd1a0cd4b31",
     "grade": true,
     "grade_id": "cell-119e16472d287f4e",
     "locked": false,
     "points": 5,
     "schema_version": 3,
     "solution": true,
     "task": false
    }
   },
   "source": [
    "In part 1, the separator is linear, in part 2 it is not. In the new feature space of $x_1\\cdot x_2$, the separator is a line, but in the original space it is not a linear function (even though it is two straight lines)."
   ]
  },
  {
   "cell_type": "markdown",
   "metadata": {
    "deletable": false,
    "editable": false,
    "nbgrader": {
     "cell_type": "markdown",
     "checksum": "95b20466fd3ca86119c013f75bc4656f",
     "grade": false,
     "grade_id": "cell-b8218f37ba88f7c9",
     "locked": true,
     "schema_version": 3,
     "solution": false,
     "task": false
    }
   },
   "source": [
    "### Part 4 [10 points]\n",
    "The key point of the so-called “kernel trick” in SVMs is to learn a classifier that effectively separates the training data in a higher dimensional space without having to explicitly compute the representation $\\phi(\\mathbf{x})$ of every point $\\mathbf{x}$ in the original input space. Instead, all the work is done through the kernel function $K(\\mathbf{x}_i, \\mathbf{x}_i)$, for example, we can use $K(\\mathbf{x}_i, \\mathbf{x}_i) = \\phi(\\mathbf{x}_i)\\phi(\\mathbf{x}_j)$.\n",
    "\n",
    "Show how to compute the squared Euclidean distance in the projected space between any two points $\\mathbf{x}_i$, $\\mathbf{x}_j$ in the original space without explicitly computing the $\\phi$ mapping, instead using the kernel function $K$. In other words, derive $d(\\phi(\\mathbf{x}_i), \\phi(\\mathbf{x}_j))$ into a form using only the kernel function.\n",
    "\n",
    "Please remember to simplify your solution."
   ]
  },
  {
   "cell_type": "markdown",
   "metadata": {
    "deletable": false,
    "nbgrader": {
     "cell_type": "markdown",
     "checksum": "3beedd96d39e9c464377ae2885f78ba0",
     "grade": true,
     "grade_id": "cell-c6b6512e7d992202",
     "locked": false,
     "points": 10,
     "schema_version": 3,
     "solution": true,
     "task": false
    }
   },
   "source": [
    "Using the definition of Euclidian distance squared:\n",
    "\n",
    "$d(\\phi(x_i), \\phi(x_j)) = (\\phi(x_i) - \\phi(x_j))^2$\n",
    "\n",
    "Expanding the squared term:\n",
    "\n",
    "$= \\phi(x_i)^2 - 2\\phi(x_i)\\phi(x_j) + \\phi(x_j)^2$\n",
    "\n",
    "Expanding again:\n",
    "\n",
    "$= \\phi(x_i)\\phi(x_i) + \\phi(x_j)\\phi(x_j) - 2\\phi(x_i)\\phi(x_j)$\n",
    "\n",
    "Because our kernel is defined as $K(x_i, x_j) = \\phi(x_i)\\phi(x_j)$, we can substite the kernel in to get our final answer:\n",
    "\n",
    "$= K(x_i, x_i) + K(x_j, x_j) - 2K(x_i, x_j)$"
   ]
  },
  {
   "cell_type": "markdown",
   "metadata": {
    "deletable": false,
    "editable": false,
    "nbgrader": {
     "cell_type": "markdown",
     "checksum": "eda0db6d3653c96ec72059179ddb52ec",
     "grade": false,
     "grade_id": "cell-2a7361023bfbbe84",
     "locked": true,
     "schema_version": 3,
     "solution": false,
     "task": false
    }
   },
   "source": [
    "[30 points] Problem 3 - SVM with `sklearn`\n",
    "---\n",
    "\n",
    "In this problem, you will get familiar with important practical functions in scikit-learn such as pipeline, grid search, and cross validation. You will experiment with these using support vector machines.\n",
    "\n",
    "Note that grid search can take some time on your laptop, so make sure that your code is correct with a small subset of the training data and search a reasonable number of options.\n",
    "\n",
    "* Use the Sklearn implementation of support vector machines to train a classifier to distinguish Positive and negative sentiments\n",
    "* Experiment with linear, polynomial, and RBF kernels. First, perform a GridSearch over each kernel function and a small set of parameters defined over a wide range to help narrow down the search space.\n",
    "* Then choose the best performing kernel from your coarse scale search and define a narrower set of parameters for random search to further optimize the hyperparameters. Comment on the experiments you ran and optimal hyperparameters you found.\n",
    "Hint: http://scikit-learn.org/stable/modules/grid_search.html\n",
    "* Evaluate classification performance for each model for optimal parameters by testing on a hold-out set.\n",
    "\n",
    "Following is a dataset containing reviews and sentiments associated with it.\n",
    "\n",
    "We will create a SVM Classifier to predict positive or negative sentiments."
   ]
  },
  {
   "cell_type": "code",
   "execution_count": 6,
   "metadata": {},
   "outputs": [
    {
     "name": "stdout",
     "output_type": "stream",
     "text": [
      "[Sizes] train: 4000, test: 1000\n",
      "[Avg S] train: 0.49875, test: 0.505\n"
     ]
    }
   ],
   "source": [
    "import pandas as pd\n",
    "from sklearn.model_selection import train_test_split, StratifiedKFold\n",
    "reviews  = pd.read_csv('./data/reviews.csv')\n",
    "train, test = train_test_split(reviews, test_size=0.2, random_state=5622)\n",
    "X_train = train['reviews']\n",
    "X_test = test['reviews']\n",
    "y_train = train['sentiment']\n",
    "y_test = test['sentiment']\n",
    "\n",
    "# Print some data info\n",
    "print(f'[Sizes] train: {len(X_train)}, test: {len(X_test)}')\n",
    "print(f'[Avg S] train: {sum(y_train)/len(X_train)}, test: {sum(y_test)/len(X_test)}')"
   ]
  },
  {
   "cell_type": "code",
   "execution_count": 7,
   "metadata": {},
   "outputs": [
    {
     "name": "stderr",
     "output_type": "stream",
     "text": [
      "[nltk_data] Downloading package stopwords to\n",
      "[nltk_data]     C:\\Users\\sorou\\AppData\\Roaming\\nltk_data...\n",
      "[nltk_data]   Package stopwords is already up-to-date!\n"
     ]
    }
   ],
   "source": [
    "import nltk\n",
    "from nltk.corpus import stopwords\n",
    "from nltk.tokenize import TweetTokenizer\n",
    "from sklearn.feature_extraction.text import CountVectorizer\n",
    "from sklearn.svm import SVC\n",
    "from sklearn.pipeline import make_pipeline, Pipeline\n",
    "from sklearn.model_selection import GridSearchCV, RandomizedSearchCV\n",
    "from sklearn.metrics import accuracy_score, f1_score\n",
    "from sklearn.metrics import confusion_matrix, roc_auc_score, recall_score, precision_score\n",
    "\n",
    "# download nltk data\n",
    "nltk.download('stopwords')\n",
    "en_stopwords = set(stopwords.words(\"english\")) "
   ]
  },
  {
   "cell_type": "markdown",
   "metadata": {
    "deletable": false,
    "editable": false,
    "nbgrader": {
     "cell_type": "markdown",
     "checksum": "3824735b35e2893522e59b8f68ebf486",
     "grade": false,
     "grade_id": "cell-c5af7b0df4f72c74",
     "locked": true,
     "schema_version": 3,
     "solution": false,
     "task": false
    }
   },
   "source": [
    "### Part 1 [5 points]\n",
    "\n",
    "Complete the `get_vectorizer` and `get_kfolds` functions below.\n",
    "\n",
    "- Use [`CountVectorizer`](https://scikit-learn.org/stable/modules/generated/sklearn.feature_extraction.text.CountVectorizer.html) to vectorize reviews as dictionary of term frequencies.\n",
    "- Define the crossvalidation split using [`StratifiedKFold`](https://scikit-learn.org/stable/modules/generated/sklearn.model_selection.StratifiedKFold.html?highlight=stratifiedkfold#sklearn.model_selection.StratifiedKFold)."
   ]
  },
  {
   "cell_type": "code",
   "execution_count": 8,
   "metadata": {},
   "outputs": [],
   "source": [
    "def tokenize(text): \n",
    "    \"\"\"\n",
    "    Separate text into tokens\n",
    "    \"\"\"\n",
    "    tknzr = TweetTokenizer()\n",
    "    return tknzr.tokenize(text)\n",
    "\n",
    "def get_vectorizer():\n",
    "    \"\"\" \n",
    "    \n",
    "    Create and return a CountVectorizer\n",
    "    \n",
    "    Hints:\n",
    "        Read docs on CountVectorizer to set arguments (https://scikit-learn.org/stable/modules/generated/sklearn.feature_extraction.text.CountVectorizer.html) \n",
    "        Pass the above tokenize function as the tokenizer.\n",
    "        Use en_stopwords variable above as stopwords\n",
    "        \n",
    "        Play with different parameters.\n",
    "        min_df argument can help with generalizability\n",
    "    \"\"\"\n",
    "    \n",
    "    # YOUR CODE HERE\n",
    "    vectorizer = CountVectorizer(tokenizer=tokenize, stop_words=en_stopwords)\n",
    "    return vectorizer\n",
    "\n",
    "def get_kfolds():\n",
    "    \"\"\" \n",
    "    Split dataset into 5 splits using StratifiedKFold \n",
    "    \n",
    "    Hint:\n",
    "    Remember to shuffle\n",
    "    \"\"\"\n",
    "    # YOUR CODE HERE\n",
    "    kfolds = StratifiedKFold(n_splits=5, shuffle=True)\n",
    "    return kfolds\n",
    "\n",
    "\n",
    "vectorizer = get_vectorizer()\n",
    "kfolds = get_kfolds()"
   ]
  },
  {
   "cell_type": "code",
   "execution_count": 9,
   "metadata": {},
   "outputs": [],
   "source": [
    "# for grading; please ignore"
   ]
  },
  {
   "cell_type": "markdown",
   "metadata": {
    "deletable": false,
    "editable": false,
    "nbgrader": {
     "cell_type": "markdown",
     "checksum": "75b3eb30df1712dcef3a3334c4f4c8b8",
     "grade": false,
     "grade_id": "cell-ddb76d3c6bae8e15",
     "locked": true,
     "schema_version": 3,
     "solution": false,
     "task": false
    }
   },
   "source": [
    "### Part 2 [10 points]\n",
    "* Create a pipeline with our `CountVectorizer` object in **Part 1** and an SVM Classifier.\n",
    "* Create and fit a `GridSearchCV` object with the following parameter values:\n",
    "  * Linear kernel, $C = 0.01, 1.0, 10.0$\n",
    "  * Polynomial kernel, $\\text{degree} = 2, 3$, $\\gamma = 0.1, 0.5, 1$\n",
    "  * RBF kernel, $\\gamma = 0.1, 0.5, 1$\n",
    "* Report accuracy on the best estimator from our `GridSearchCV` object."
   ]
  },
  {
   "cell_type": "code",
   "execution_count": 10,
   "metadata": {},
   "outputs": [
    {
     "name": "stdout",
     "output_type": "stream",
     "text": [
      "Fitting 5 folds for each of 12 candidates, totalling 60 fits\n"
     ]
    },
    {
     "name": "stderr",
     "output_type": "stream",
     "text": [
      "[Parallel(n_jobs=-1)]: Using backend LokyBackend with 12 concurrent workers.\n",
      "[Parallel(n_jobs=-1)]: Done  26 tasks      | elapsed:   59.5s\n",
      "[Parallel(n_jobs=-1)]: Done  60 out of  60 | elapsed:  1.9min finished\n"
     ]
    }
   ],
   "source": [
    "def get_pipeline(**kwargs):\n",
    "    \"\"\"\n",
    "        Define pipeline using make_pipeline (see sklearn docs) with vectorizer and SVM Classifier. \n",
    "        \n",
    "        The SVM Classifer should take in all kwargs passed (passing kwargs can be achieved with fn(**kwargs))\n",
    "        You should use balanced class weights for SVM.\n",
    "    \"\"\"\n",
    "    \n",
    "    # YOUR CODE HERE\n",
    "    pipeline_svm = make_pipeline(vectorizer, SVC(class_weight='balanced', **kwargs))\n",
    "    return pipeline_svm\n",
    "\n",
    "def get_course_params():\n",
    "    \"\"\"\n",
    "        Create the grid search parameters defined above for course grid search. \n",
    "        Returns a list of dictionaries to be passed as argument to GridSearchCV below\n",
    "    \"\"\"\n",
    "    \n",
    "    # YOUR CODE HERE\n",
    "    param_grid = [\n",
    "        {\n",
    "            'svc__kernel' : ['linear'],\n",
    "            'svc__C' : [0.01, 1.0, 10.0]\n",
    "        },\n",
    "        {\n",
    "            'svc__kernel' : ['poly'],\n",
    "            'svc__degree' : [2, 3],\n",
    "            'svc__gamma' : [0.1, 0.5, 1],\n",
    "        },\n",
    "        {\n",
    "            'svc__kernel' : ['rbf'],\n",
    "            'svc__gamma' : [0.1, 0.5, 1],\n",
    "        },\n",
    "    ]\n",
    "    return param_grid\n",
    "\n",
    "def get_grid_svm():\n",
    "    \"\"\"\n",
    "        Create GridSearchCV with pipeline and the grid search parameters given above using \"accuracy\" for scoring.\n",
    "    \"\"\" \n",
    "     \n",
    "    param_grid = get_course_params()\n",
    "    pipeline_svm = get_pipeline()\n",
    "    \n",
    "    # YOUR CODE HERE\n",
    "    grid_svm = GridSearchCV(\n",
    "        pipeline_svm, \n",
    "        param_grid=param_grid, \n",
    "        scoring='accuracy',\n",
    "        n_jobs=-1,\n",
    "        verbose=1)\n",
    "    \n",
    "    return grid_svm\n",
    "    \n",
    "    \n",
    "\n",
    "grid_svm = get_grid_svm()\n",
    "# For debugging purposes, it makes sense to use a smaller set of training set to speed up the grid search progress\n",
    "# refit is not necessary since by default refit is true in GridSearchCV, \n",
    "# but we did this to show that you need to use the best parameter to fit the whole training set\n",
    "_ = grid_svm.fit(X_train, y_train)"
   ]
  },
  {
   "cell_type": "code",
   "execution_count": 11,
   "metadata": {},
   "outputs": [],
   "source": [
    "# For grading; please ignore."
   ]
  },
  {
   "cell_type": "code",
   "execution_count": 12,
   "metadata": {},
   "outputs": [
    {
     "name": "stdout",
     "output_type": "stream",
     "text": [
      "best params: {'svc__C': 0.01, 'svc__kernel': 'linear'} | best cv score: 0.8745\n"
     ]
    }
   ],
   "source": [
    "best_params = None\n",
    "best_score = None\n",
    "\n",
    "# Store best parameters and CV score from grid search for reporting into the variables above\n",
    "# YOUR CODE HERE\n",
    "best_params = grid_svm.best_params_\n",
    "best_score = grid_svm.best_score_\n",
    "# Report best parameters and CV score from grid search\n",
    "print(f'best params: {best_params} | best cv score: {best_score}')"
   ]
  },
  {
   "cell_type": "code",
   "execution_count": 13,
   "metadata": {},
   "outputs": [],
   "source": [
    "# For grading; please ignore."
   ]
  },
  {
   "cell_type": "markdown",
   "metadata": {
    "deletable": false,
    "editable": false,
    "nbgrader": {
     "cell_type": "markdown",
     "checksum": "ef3c4187f1be7404dd2fb775bb68dea1",
     "grade": false,
     "grade_id": "cell-a561071b8ec246bc",
     "locked": true,
     "schema_version": 3,
     "solution": false,
     "task": false
    }
   },
   "source": [
    "### Part 3 [10 points]\n",
    "\n",
    "Choose the best performing kernel and parameter values from your coarse scale grid search and use them to set up a narrower range of parameter values. We will use randomized grid search to sample a fixed number of these candidate parameter sets for cross validation. The number of sampled parameter sets `n_iter` provides a trade-off between computational cost and quality of the \"optimal\" parameters. Feel free to experiment with different values of this parameter, but please change it back to `n_iter = 5` before submitting your assignment."
   ]
  },
  {
   "cell_type": "code",
   "execution_count": 14,
   "metadata": {},
   "outputs": [
    {
     "name": "stdout",
     "output_type": "stream",
     "text": [
      "Fitting 5 folds for each of 5 candidates, totalling 25 fits\n"
     ]
    },
    {
     "name": "stderr",
     "output_type": "stream",
     "text": [
      "[Parallel(n_jobs=-1)]: Using backend LokyBackend with 12 concurrent workers.\n",
      "[Parallel(n_jobs=-1)]: Done  25 out of  25 | elapsed:   45.9s finished\n"
     ]
    }
   ],
   "source": [
    "def get_params_fine_scale():\n",
    "    \"\"\"\n",
    "        Set param_grid to a dictionary containing parameter values for fine scale search.\n",
    "        Return value is passed as argument to RandomizedSearchCV below\n",
    "    \"\"\" \n",
    "    # YOUR CODE HERE\n",
    "    param_grid = [\n",
    "        {\n",
    "            'svc__kernel' : ['linear'],\n",
    "            'svc__C' : list(np.arange(0.001, 0.02, step=0.0005))\n",
    "        }\n",
    "    ]\n",
    "    return param_grid\n",
    "\n",
    "def get_random_svm():\n",
    "    \"\"\"\n",
    "        Create randomized parameter search over fine scale grid;\n",
    "        Do NOT change the value of n_iter in the submitted version of your notebook.\n",
    "    \"\"\" \n",
    "    n_iter = 5\n",
    "    pipeline_svm = get_pipeline()\n",
    "    param_grid = get_params_fine_scale()\n",
    "\n",
    "    random_svm = RandomizedSearchCV(\n",
    "        pipeline_svm,\n",
    "        param_grid,\n",
    "        n_iter=n_iter,\n",
    "        cv = kfolds,\n",
    "        scoring=\"accuracy\",\n",
    "        verbose=1,   \n",
    "        n_jobs=-1\n",
    "    )\n",
    "    return random_svm\n",
    "\n",
    "random_svm = get_random_svm()\n",
    "# refit is not necessary since by default refit is true in RandomSearchCV, \n",
    "# but we did this to show that you need to use the best parameter to fit the whole training set\n",
    "_ = random_svm.fit(X_train, y_train)"
   ]
  },
  {
   "cell_type": "code",
   "execution_count": 15,
   "metadata": {},
   "outputs": [
    {
     "name": "stdout",
     "output_type": "stream",
     "text": [
      "best params: {'svc__kernel': 'linear', 'svc__C': 0.010499999999999999} | best cv score: 0.8787499999999999\n"
     ]
    }
   ],
   "source": [
    "best_params = None\n",
    "best_score = None\n",
    "\n",
    "# Store best parameters and score from random search for reporting into the variables above \n",
    "# YOUR CODE HERE\n",
    "best_params = random_svm.best_params_\n",
    "best_score = random_svm.best_score_\n",
    "\n",
    "# Report best parameters and score from random search\n",
    "print(f'best params: {best_params} | best cv score: {best_score}')"
   ]
  },
  {
   "cell_type": "code",
   "execution_count": 16,
   "metadata": {},
   "outputs": [],
   "source": [
    "# For grading; please ignore."
   ]
  },
  {
   "cell_type": "code",
   "execution_count": 17,
   "metadata": {},
   "outputs": [],
   "source": [
    "def report_results(model, X, y):\n",
    "    # Reports various model metrics.  \n",
    "    pred = model.predict(X)        \n",
    "    acc = accuracy_score(y, pred)\n",
    "    f1 = f1_score(y, pred)\n",
    "    prec = precision_score(y, pred)\n",
    "    rec = recall_score(y, pred)\n",
    "    result = {'f1': f1, 'acc': acc, 'precision': prec, 'recall': rec}\n",
    "    return result"
   ]
  },
  {
   "cell_type": "code",
   "execution_count": 18,
   "metadata": {},
   "outputs": [
    {
     "data": {
      "text/plain": [
       "{'f1': 0.8784313725490197,\n",
       " 'acc': 0.876,\n",
       " 'precision': 0.8699029126213592,\n",
       " 'recall': 0.8871287128712871}"
      ]
     },
     "execution_count": 18,
     "metadata": {},
     "output_type": "execute_result"
    }
   ],
   "source": [
    "# get test metrics.\n",
    "report_results(random_svm.best_estimator_, X_test, y_test)"
   ]
  },
  {
   "cell_type": "markdown",
   "metadata": {
    "deletable": false,
    "editable": false,
    "nbgrader": {
     "cell_type": "markdown",
     "checksum": "c7739604efa929d396b9cf11c0d8114a",
     "grade": false,
     "grade_id": "cell-a47ce46465ea41d1",
     "locked": true,
     "schema_version": 3,
     "solution": false,
     "task": false
    }
   },
   "source": [
    "### Part 4 [5 points]\n",
    "\n",
    "Explain the overall procedure, and report the final result including which hyperparameter values were chosen. Make sure to explain your reasoning in choosing a refined parameter search space in **Part 3**."
   ]
  },
  {
   "cell_type": "markdown",
   "metadata": {
    "deletable": false,
    "nbgrader": {
     "cell_type": "markdown",
     "checksum": "651d32596f089e5e6a6cc978c6f79cd6",
     "grade": true,
     "grade_id": "cell-6fecb92ed6ad5abe",
     "locked": false,
     "points": 5,
     "schema_version": 3,
     "solution": true
    }
   },
   "source": [
    "In the end, the best hyperparameters were a linear kernel with a C value of 0.0115. The overall procedure shows how advanced some tools are becoming. Optimizing over a hyperparameter space, by hand (as I have done in the past) can be time consuming just to set up, since you have to think of how to store the data, what data to store, etc. With tools like scikit learn, all of that thought has been done already! It is super simple to set up a search space, call `fit` and then return to the best results. Although, it is important to still be smart about what parameters to choose, so it is important to have a rough idea of the space of params to choose from. For example, after doing the coarse grid, I saw that 0.01 was the optimal value for C for a liner kernel. Them, I just setup a find grid centered aroung 0.01 with very small step size, and randomly chose values from this fine grid to improve the results even further."
   ]
  },
  {
   "cell_type": "markdown",
   "metadata": {},
   "source": [
    "### Extra Credit [10 points] Advanced Hyperparameter Optimization\n",
    "While Grid Search and Random Search are tried and true methods for hyperparameter optimization, they are often very computationally expensive on larger models. Here you will explore a more advanced approach such as Bayesian Optimization or Tree-structured Parzen estimators (TPE). These algorithms are more complex, but there are packages that abstract away the complications. \n",
    "\n",
    "The general idea of these methods is to focus on the \"good\" areas of the hyperparameter space, and quickly rule out the bad areas. \n",
    "\n",
    "This extra credit is fairly open-ended, and meant to allow you to explore other hyperaparameter optimization methods outside the scikit-learn environment. Exploring this now will be **very helpful for your final project**. \n",
    "\n",
    "Here are some package recommendations:\n",
    "- [wandb](https://docs.wandb.com/): An alternative to TensorBoard. You can do hyperparameter optimization with sweeps. \n",
    "- [ray.tune](https://docs.ray.io/en/latest/tune/): Great package for large hyperparameter sweeps with great parallelization. The Hyperopt search algorithm is especially useful.\n",
    "\n",
    "Any package is okay, but **please make sure to leave an install command for us in the cell below so that we can install it automatically**.\n",
    "\n",
    "```python\n",
    "!pip install ray[tune]\n",
    "```\n",
    "\n",
    "The main criteria are that you use one of the following search algorithms (https://docs.ray.io/en/latest/tune/api_docs/suggestion.html):\n",
    "- Bayesian Optimization\n",
    "- Tree-structured Parzen estimators (TPE)\n",
    "- Adaptive TPE\n",
    "- Population Based Training (PBT)\n",
    "\n",
    "Additionally, you should optimize over the **course parameters** defined in part 2. However, instead of using a fixed categorical parameter space, you should choose ranges as follows.\n",
    "\n",
    "| Kenel| Parameter | space type | min | max |\n",
    "| --------- | ---------- | --- | --- | ---- |\n",
    "| Linear kernel | $C$ | log uniform | exp(-3) | exp(3)| \n",
    "| Polynomial kernel | degree| int uniform | 1 | 5| \n",
    "| Polynomial kernel | $\\gamma$ | uniform | 0.01 | 1 | \n",
    " RBF kernel | $\\gamma$ |  uniform | 0.01 | 1 | \n",
    "\n",
    "Fine-Tuning will be done automatically, which is the beauty of these methods, but make sure to run enough trials that you consistently score better than your previous solutions.\n",
    "\n",
    "We've laid out a template for using ray.tune and hyperopt, but feel free to change to a different package if you prefer.\n",
    "\n",
    "Note that when using a search algorithm like hyperopt, you should always wrap your algorithm in a `ConcurrencyLimiter` where the number of concurrent trials is a small fraction of the total number of trials."
   ]
  },
  {
   "cell_type": "code",
   "execution_count": 19,
   "metadata": {},
   "outputs": [
    {
     "data": {
      "text/html": [
       "== Status ==<br>Memory usage on this node: 10.0/15.9 GiB<br>Using FIFO scheduling algorithm.<br>Resources requested: 0/12 CPUs, 0/1 GPUs, 0.0/2.93 GiB heap, 0.0/0.98 GiB objects<br>Result logdir: C:\\School\\Fall2020\\CSCI-4622-Machine-Learning-fa20\\hmwks\\hw4\\tune_results\\objective<br>Number of trials: 32 (32 TERMINATED)<br><table>\n",
       "<thead>\n",
       "<tr><th>Trial name        </th><th>status    </th><th>loc  </th><th style=\"text-align: right;\">         outer/C</th><th style=\"text-align: right;\">  outer/degree</th><th style=\"text-align: right;\">  outer/gamma</th><th>outer/kernel  </th><th style=\"text-align: right;\">  iter</th><th style=\"text-align: right;\">  total time (s)</th><th style=\"text-align: right;\">  accuracy</th></tr>\n",
       "</thead>\n",
       "<tbody>\n",
       "<tr><td>objective_065586b6</td><td>TERMINATED</td><td>     </td><td style=\"text-align: right;\">     8.93561e+06</td><td style=\"text-align: right;\">              </td><td style=\"text-align: right;\">             </td><td>linear        </td><td style=\"text-align: right;\">     1</td><td style=\"text-align: right;\">         54.7145</td><td style=\"text-align: right;\">   0.865  </td></tr>\n",
       "<tr><td>objective_066bba46</td><td>TERMINATED</td><td>     </td><td style=\"text-align: right;\"> 25960.3        </td><td style=\"text-align: right;\">              </td><td style=\"text-align: right;\">             </td><td>linear        </td><td style=\"text-align: right;\">     1</td><td style=\"text-align: right;\">         52.7095</td><td style=\"text-align: right;\">   0.8625 </td></tr>\n",
       "<tr><td>objective_0681c6cc</td><td>TERMINATED</td><td>     </td><td style=\"text-align: right;\">                </td><td style=\"text-align: right;\">              </td><td style=\"text-align: right;\">     0.881668</td><td>rbf           </td><td style=\"text-align: right;\">     1</td><td style=\"text-align: right;\">         80.2838</td><td style=\"text-align: right;\">   0.50325</td></tr>\n",
       "<tr><td>objective_06999492</td><td>TERMINATED</td><td>     </td><td style=\"text-align: right;\">                </td><td style=\"text-align: right;\">              </td><td style=\"text-align: right;\">     0.2041  </td><td>rbf           </td><td style=\"text-align: right;\">     1</td><td style=\"text-align: right;\">         79.285 </td><td style=\"text-align: right;\">   0.50575</td></tr>\n",
       "<tr><td>objective_298edc5a</td><td>TERMINATED</td><td>     </td><td style=\"text-align: right;\">                </td><td style=\"text-align: right;\">              </td><td style=\"text-align: right;\">     0.623037</td><td>rbf           </td><td style=\"text-align: right;\">     1</td><td style=\"text-align: right;\">         79.555 </td><td style=\"text-align: right;\">   0.50225</td></tr>\n",
       "<tr><td>objective_4a3cf8ca</td><td>TERMINATED</td><td>     </td><td style=\"text-align: right;\">                </td><td style=\"text-align: right;\">              </td><td style=\"text-align: right;\">     0.401516</td><td>rbf           </td><td style=\"text-align: right;\">     1</td><td style=\"text-align: right;\">         79.558 </td><td style=\"text-align: right;\">   0.50325</td></tr>\n",
       "<tr><td>objective_7b66eb34</td><td>TERMINATED</td><td>     </td><td style=\"text-align: right;\">                </td><td style=\"text-align: right;\">             3</td><td style=\"text-align: right;\">     0.187203</td><td>poly          </td><td style=\"text-align: right;\">     1</td><td style=\"text-align: right;\">         53.4235</td><td style=\"text-align: right;\">   0.76625</td></tr>\n",
       "<tr><td>objective_abfc4312</td><td>TERMINATED</td><td>     </td><td style=\"text-align: right;\">                </td><td style=\"text-align: right;\">             4</td><td style=\"text-align: right;\">     0.648419</td><td>poly          </td><td style=\"text-align: right;\">     1</td><td style=\"text-align: right;\">         61.369 </td><td style=\"text-align: right;\">   0.7115 </td></tr>\n",
       "<tr><td>objective_dcb1223a</td><td>TERMINATED</td><td>     </td><td style=\"text-align: right;\">     2.20368e+06</td><td style=\"text-align: right;\">              </td><td style=\"text-align: right;\">             </td><td>linear        </td><td style=\"text-align: right;\">     1</td><td style=\"text-align: right;\">         50.0465</td><td style=\"text-align: right;\">   0.859  </td></tr>\n",
       "<tr><td>objective_0d64dc92</td><td>TERMINATED</td><td>     </td><td style=\"text-align: right;\">                </td><td style=\"text-align: right;\">              </td><td style=\"text-align: right;\">     0.628562</td><td>rbf           </td><td style=\"text-align: right;\">     1</td><td style=\"text-align: right;\">         74.637 </td><td style=\"text-align: right;\">   0.50275</td></tr>\n",
       "<tr><td>objective_2eacc34c</td><td>TERMINATED</td><td>     </td><td style=\"text-align: right;\">                </td><td style=\"text-align: right;\">              </td><td style=\"text-align: right;\">     0.716252</td><td>rbf           </td><td style=\"text-align: right;\">     1</td><td style=\"text-align: right;\">         74.4695</td><td style=\"text-align: right;\">   0.50275</td></tr>\n",
       "<tr><td>objective_548023a8</td><td>TERMINATED</td><td>     </td><td style=\"text-align: right;\">                </td><td style=\"text-align: right;\">             3</td><td style=\"text-align: right;\">     0.680687</td><td>poly          </td><td style=\"text-align: right;\">     1</td><td style=\"text-align: right;\">         54.1795</td><td style=\"text-align: right;\">   0.759  </td></tr>\n",
       "<tr><td>objective_739dfd78</td><td>TERMINATED</td><td>     </td><td style=\"text-align: right;\">     1.41044e+08</td><td style=\"text-align: right;\">              </td><td style=\"text-align: right;\">             </td><td>linear        </td><td style=\"text-align: right;\">     1</td><td style=\"text-align: right;\">         46.5075</td><td style=\"text-align: right;\">   0.86175</td></tr>\n",
       "<tr><td>objective_a156658a</td><td>TERMINATED</td><td>     </td><td style=\"text-align: right;\">                </td><td style=\"text-align: right;\">             2</td><td style=\"text-align: right;\">     0.199708</td><td>poly          </td><td style=\"text-align: right;\">     1</td><td style=\"text-align: right;\">         62.1284</td><td style=\"text-align: right;\">   0.84825</td></tr>\n",
       "<tr><td>objective_cef53eb4</td><td>TERMINATED</td><td>     </td><td style=\"text-align: right;\"> 69176.3        </td><td style=\"text-align: right;\">              </td><td style=\"text-align: right;\">             </td><td>linear        </td><td style=\"text-align: right;\">     1</td><td style=\"text-align: right;\">         46.383 </td><td style=\"text-align: right;\">   0.8655 </td></tr>\n",
       "<tr><td>objective_f074d652</td><td>TERMINATED</td><td>     </td><td style=\"text-align: right;\">                </td><td style=\"text-align: right;\">             2</td><td style=\"text-align: right;\">     0.195994</td><td>poly          </td><td style=\"text-align: right;\">     1</td><td style=\"text-align: right;\">         58.6105</td><td style=\"text-align: right;\">   0.8375 </td></tr>\n",
       "<tr><td>objective_0e229158</td><td>TERMINATED</td><td>     </td><td style=\"text-align: right;\">   679.115      </td><td style=\"text-align: right;\">              </td><td style=\"text-align: right;\">             </td><td>linear        </td><td style=\"text-align: right;\">     1</td><td style=\"text-align: right;\">         47.125 </td><td style=\"text-align: right;\">   0.8605 </td></tr>\n",
       "<tr><td>objective_3521b60a</td><td>TERMINATED</td><td>     </td><td style=\"text-align: right;\">                </td><td style=\"text-align: right;\">             2</td><td style=\"text-align: right;\">     0.413218</td><td>poly          </td><td style=\"text-align: right;\">     1</td><td style=\"text-align: right;\">         56.9525</td><td style=\"text-align: right;\">   0.831  </td></tr>\n",
       "<tr><td>objective_52c474f0</td><td>TERMINATED</td><td>     </td><td style=\"text-align: right;\">                </td><td style=\"text-align: right;\">              </td><td style=\"text-align: right;\">     0.155282</td><td>rbf           </td><td style=\"text-align: right;\">     1</td><td style=\"text-align: right;\">         74.051 </td><td style=\"text-align: right;\">   0.512  </td></tr>\n",
       "<tr><td>objective_77afacbe</td><td>TERMINATED</td><td>     </td><td style=\"text-align: right;\">                </td><td style=\"text-align: right;\">             2</td><td style=\"text-align: right;\">     0.763046</td><td>poly          </td><td style=\"text-align: right;\">     1</td><td style=\"text-align: right;\">         62.6095</td><td style=\"text-align: right;\">   0.8345 </td></tr>\n",
       "<tr><td>objective_95c6e3ee</td><td>TERMINATED</td><td>     </td><td style=\"text-align: right;\">     1.78593e+06</td><td style=\"text-align: right;\">              </td><td style=\"text-align: right;\">             </td><td>linear        </td><td style=\"text-align: right;\">     1</td><td style=\"text-align: right;\">         46.7019</td><td style=\"text-align: right;\">   0.856  </td></tr>\n",
       "<tr><td>objective_b9b94540</td><td>TERMINATED</td><td>     </td><td style=\"text-align: right;\">429682          </td><td style=\"text-align: right;\">              </td><td style=\"text-align: right;\">             </td><td>linear        </td><td style=\"text-align: right;\">     1</td><td style=\"text-align: right;\">         46.3595</td><td style=\"text-align: right;\">   0.85975</td></tr>\n",
       "<tr><td>objective_e7ec7154</td><td>TERMINATED</td><td>     </td><td style=\"text-align: right;\">     2.03188e+08</td><td style=\"text-align: right;\">              </td><td style=\"text-align: right;\">             </td><td>linear        </td><td style=\"text-align: right;\">     1</td><td style=\"text-align: right;\">         49.559 </td><td style=\"text-align: right;\">   0.86725</td></tr>\n",
       "<tr><td>objective_0f34c0c0</td><td>TERMINATED</td><td>     </td><td style=\"text-align: right;\">    61.9011     </td><td style=\"text-align: right;\">              </td><td style=\"text-align: right;\">             </td><td>linear        </td><td style=\"text-align: right;\">     1</td><td style=\"text-align: right;\">         46.098 </td><td style=\"text-align: right;\">   0.86475</td></tr>\n",
       "<tr><td>objective_2d08b0f0</td><td>TERMINATED</td><td>     </td><td style=\"text-align: right;\"> 15788.1        </td><td style=\"text-align: right;\">              </td><td style=\"text-align: right;\">             </td><td>linear        </td><td style=\"text-align: right;\">     1</td><td style=\"text-align: right;\">         46.148 </td><td style=\"text-align: right;\">   0.86125</td></tr>\n",
       "<tr><td>objective_4aab62c0</td><td>TERMINATED</td><td>     </td><td style=\"text-align: right;\">     7.33631e+06</td><td style=\"text-align: right;\">              </td><td style=\"text-align: right;\">             </td><td>linear        </td><td style=\"text-align: right;\">     1</td><td style=\"text-align: right;\">         47.8505</td><td style=\"text-align: right;\">   0.86325</td></tr>\n",
       "<tr><td>objective_6a4ad992</td><td>TERMINATED</td><td>     </td><td style=\"text-align: right;\">     1.31518    </td><td style=\"text-align: right;\">              </td><td style=\"text-align: right;\">             </td><td>linear        </td><td style=\"text-align: right;\">     1</td><td style=\"text-align: right;\">         46.6245</td><td style=\"text-align: right;\">   0.86675</td></tr>\n",
       "<tr><td>objective_87cc339e</td><td>TERMINATED</td><td>     </td><td style=\"text-align: right;\">     3.63213e+08</td><td style=\"text-align: right;\">              </td><td style=\"text-align: right;\">             </td><td>linear        </td><td style=\"text-align: right;\">     1</td><td style=\"text-align: right;\">         49.51  </td><td style=\"text-align: right;\">   0.85875</td></tr>\n",
       "<tr><td>objective_a54ba8fa</td><td>TERMINATED</td><td>     </td><td style=\"text-align: right;\"> 51934.6        </td><td style=\"text-align: right;\">              </td><td style=\"text-align: right;\">             </td><td>linear        </td><td style=\"text-align: right;\">     1</td><td style=\"text-align: right;\">         48.7655</td><td style=\"text-align: right;\">   0.86625</td></tr>\n",
       "<tr><td>objective_c3d75e82</td><td>TERMINATED</td><td>     </td><td style=\"text-align: right;\">   405.001      </td><td style=\"text-align: right;\">              </td><td style=\"text-align: right;\">             </td><td>linear        </td><td style=\"text-align: right;\">     1</td><td style=\"text-align: right;\">         49.9565</td><td style=\"text-align: right;\">   0.85325</td></tr>\n",
       "<tr><td>objective_e19a5136</td><td>TERMINATED</td><td>     </td><td style=\"text-align: right;\">     6.43256    </td><td style=\"text-align: right;\">              </td><td style=\"text-align: right;\">             </td><td>linear        </td><td style=\"text-align: right;\">     1</td><td style=\"text-align: right;\">         46.9115</td><td style=\"text-align: right;\">   0.86175</td></tr>\n",
       "<tr><td>objective_01164cb8</td><td>TERMINATED</td><td>     </td><td style=\"text-align: right;\">     1.67038    </td><td style=\"text-align: right;\">              </td><td style=\"text-align: right;\">             </td><td>linear        </td><td style=\"text-align: right;\">     1</td><td style=\"text-align: right;\">         46.102 </td><td style=\"text-align: right;\">   0.86275</td></tr>\n",
       "</tbody>\n",
       "</table><br><br>"
      ],
      "text/plain": [
       "<IPython.core.display.HTML object>"
      ]
     },
     "metadata": {},
     "output_type": "display_data"
    }
   ],
   "source": [
    "# install package here\n",
    "# !pip install ray[tune] -q\n",
    "# !pip install hyperopt\n",
    "\n",
    "# import any packages here\n",
    "from sklearn.model_selection import cross_val_score\n",
    "\n",
    "from ray import tune\n",
    "from ray.tune.suggest import ConcurrencyLimiter\n",
    "from ray.tune.suggest.hyperopt import HyperOptSearch\n",
    "from hyperopt import hp\n",
    "\n",
    "\n",
    "def objective(config):\n",
    "    \"\"\" \n",
    "        This is an objective function for ray.tune.\n",
    "    \"\"\"\n",
    "    \n",
    "    config=config['outer']\n",
    "    # Now, train the SVM\n",
    "    model = get_pipeline(**config)\n",
    "    kfolds = get_kfolds()\n",
    "    score = cross_val_score(model, X_train, y_train, cv=kfolds, scoring='accuracy')\n",
    "    tune.report(accuracy=score.mean())\n",
    "\n",
    "# TODO: Define the parameter space and your search algorithm \n",
    "# YOUR CODE HERE\n",
    "search_space = {\n",
    "    'outer' : hp.choice('outer', [\n",
    "        {\n",
    "            'kernel' : 'linear',\n",
    "            'C' : hp.loguniform('C', np.exp(-3), np.exp(3)),\n",
    "        },\n",
    "        {\n",
    "            'kernel' : 'poly',\n",
    "            'gamma' : hp.uniform('poly_gamma', 0.01, 1),\n",
    "            'degree' : hp.randint('degree', 0, 6), # max is exclusive\n",
    "        },\n",
    "        {\n",
    "            'kernel' : 'rbf',\n",
    "            'gamma' : hp.uniform('rbf_gamma', 0.01, 1),\n",
    "        },\n",
    "    ])\n",
    "#     'kernel' : tune.choice(['linear', 'poly', 'rbf']),\n",
    "#     'C' : tune.loguniform(np.exp(-3), np.exp(3)),\n",
    "#     'degree' : tune.randint(0, 6), # max is exclusive\n",
    "#     'gamma' : tune.uniform(0.01, 1)\n",
    "}\n",
    "algo = HyperOptSearch(metric='accuracy', mode='max', space=search_space)\n",
    "algo = ConcurrencyLimiter(algo, max_concurrent=4)\n",
    "\n",
    "# Run ray.tune (make sure to play around with the number of trials. It's small here to get you going)\n",
    "analysis = tune.run(\n",
    "    objective, \n",
    "    search_alg=algo, \n",
    "    num_samples=32,\n",
    "    resources_per_trial={\"cpu\": 12, \"gpu\": 1},\n",
    "    local_dir=\"./tune_results\",\n",
    "    verbose=1\n",
    ")"
   ]
  },
  {
   "cell_type": "code",
   "execution_count": 21,
   "metadata": {},
   "outputs": [
    {
     "name": "stdout",
     "output_type": "stream",
     "text": [
      "best params: {'outer': {'C': 203187934.76635322, 'kernel': 'linear'}} | best score: 0.86725\n"
     ]
    }
   ],
   "source": [
    "# TODO: Report best parameters as before\n",
    "best_params = None\n",
    "best_score = None\n",
    " \n",
    "# YOUR CODE HERE\n",
    "best_params = analysis.get_best_config(metric='accuracy', mode='max')\n",
    "best_score = analysis.get_best_trial(metric='accuracy', mode='max').last_result['accuracy']\n",
    "\n",
    "# Report best parameters from hyperparameter optimization\n",
    "print(f'best params: {best_params} | best score: {best_score}')"
   ]
  },
  {
   "cell_type": "markdown",
   "metadata": {},
   "source": [
    "### Optional survey.\n",
    "***\n",
    "\n",
    "We are always interested in your feedback. At the end of each homework, there is a simple anonymous feedback [survey](https://docs.google.com/forms/d/e/1FAIpQLSe6yaRaEmShRe9DqYE66UA4PJtQTgkS6vloXyOKb7WuFFSYrQ/viewform?usp=pp_url) to solicit your feedback for how to improve the course."
   ]
  },
  {
   "cell_type": "code",
   "execution_count": null,
   "metadata": {},
   "outputs": [],
   "source": []
  }
 ],
 "metadata": {
  "kernelspec": {
   "display_name": "Python 3.6.6 64-bit ('base': conda)",
   "language": "python",
   "name": "python36664bitbasecondaa1d8aa6123fa4350b9f144e6418d2e32"
  },
  "language_info": {
   "codemirror_mode": {
    "name": "ipython",
    "version": 3
   },
   "file_extension": ".py",
   "mimetype": "text/x-python",
   "name": "python",
   "nbconvert_exporter": "python",
   "pygments_lexer": "ipython3",
   "version": "3.6.6"
  },
  "toc": {
   "base_numbering": 1,
   "nav_menu": {},
   "number_sections": false,
   "sideBar": true,
   "skip_h1_title": true,
   "title_cell": "Table of Contents",
   "title_sidebar": "Contents",
   "toc_cell": false,
   "toc_position": {},
   "toc_section_display": true,
   "toc_window_display": true
  }
 },
 "nbformat": 4,
 "nbformat_minor": 2
}
